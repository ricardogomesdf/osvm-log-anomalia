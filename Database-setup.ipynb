{
 "cells": [
  {
   "cell_type": "code",
   "execution_count": 3,
   "id": "a8e4ce09-1daf-43fd-a2a9-b7922b1f0463",
   "metadata": {},
   "outputs": [],
   "source": [
    "import pymongo\n",
    "\n",
    "myclient = pymongo.MongoClient(\"mongodb://localhost:27017/\")\n",
    "\n",
    "logdb = myclient[\"logdb\"]\n",
    "mycol = logdb[\"logs\"]\n"
   ]
  },
  {
   "cell_type": "code",
   "execution_count": 5,
   "id": "7d8a2414-a752-4705-8a47-2221fad22b71",
   "metadata": {
    "editable": true,
    "slideshow": {
     "slide_type": ""
    },
    "tags": []
   },
   "outputs": [
    {
     "data": {
      "text/plain": [
       "InsertManyResult([ObjectId('6660caca1cd44d0bf65299e0'), ObjectId('6660caca1cd44d0bf65299e1')], acknowledged=True)"
      ]
     },
     "execution_count": 5,
     "metadata": {},
     "output_type": "execute_result"
    }
   ],
   "source": [
    "registros = [\n",
    "    { \"timestamp\": '2024-06-05 10:00', \"texto\": 'texto 1' },\n",
    "    { \"timestamp\": '2024-06-05 11:00', \"texto\": 'texto 2' }\n",
    "]\n",
    "mycol.insert_many(registros)"
   ]
  },
  {
   "cell_type": "code",
   "execution_count": 6,
   "id": "544811c2-5f33-4bb5-809f-55eda6fd1251",
   "metadata": {},
   "outputs": [
    {
     "name": "stdout",
     "output_type": "stream",
     "text": [
      "['logs']\n"
     ]
    }
   ],
   "source": [
    "print(logdb.list_collection_names())"
   ]
  },
  {
   "cell_type": "code",
   "execution_count": 7,
   "id": "71309a83-b144-469b-89a6-b0de51ebd0a9",
   "metadata": {},
   "outputs": [
    {
     "name": "stdout",
     "output_type": "stream",
     "text": [
      "['admin', 'config', 'local', 'logdb']\n"
     ]
    }
   ],
   "source": [
    "print(myclient.list_database_names())"
   ]
  },
  {
   "cell_type": "code",
   "execution_count": 3,
   "id": "c72c755c-9e56-4e1e-9dc6-0a3804113a2d",
   "metadata": {},
   "outputs": [
    {
     "name": "stdout",
     "output_type": "stream",
     "text": [
      "DeleteResult({'n': 74161666, 'ok': 1.0}, acknowledged=True)\n"
     ]
    }
   ],
   "source": [
    "x = mycol.delete_many({})\n",
    "print (x)\n",
    "\n",
    "result = mycol.find()\n",
    "\n",
    "#print the result:\n",
    "for x in result:\n",
    "  print(x)"
   ]
  },
  {
   "cell_type": "code",
   "execution_count": 12,
   "id": "73b0324d-708a-4702-8438-177a8ca374bd",
   "metadata": {},
   "outputs": [
    {
     "name": "stdout",
     "output_type": "stream",
     "text": [
      "1  documents deleted.\n"
     ]
    }
   ],
   "source": [
    "myquery = { \"descricao\": {\"$regex\": \"^.+$\"} }\n",
    "x = mycol.delete_many(myquery)\n",
    "\n",
    "print(x.deleted_count, \" documents deleted.\")"
   ]
  },
  {
   "cell_type": "code",
   "execution_count": 30,
   "id": "b0034982-2172-4ecd-a9e6-8702ecb7513e",
   "metadata": {},
   "outputs": [
    {
     "name": "stdout",
     "output_type": "stream",
     "text": [
      "archive.log.D20240331.T033337\n"
     ]
    }
   ],
   "source": [
    "from pathlib import Path \n",
    "\n",
    "arquivo = r'/home/ricardo/pucrs/TCC/logs-node1-b2b/archive.log.D20240331.T033337'\n",
    "print(Path(arquivo).name)"
   ]
  },
  {
   "cell_type": "markdown",
   "id": "f81aa18e-ae53-4b02-bcfe-ae8ceb882c94",
   "metadata": {},
   "source": [
    "## Apaga arquivos desnecessarios"
   ]
  },
  {
   "cell_type": "code",
   "execution_count": null,
   "id": "8cf09b28-0a9a-4c3a-875f-8b021e03b227",
   "metadata": {},
   "outputs": [],
   "source": [
    "import glob, os\n",
    "for f in glob.glob(\"failed_deleteP*.jpg\"):\n",
    "    os.remove(f)"
   ]
  },
  {
   "cell_type": "markdown",
   "id": "179bde3b-564a-4f8a-8086-7504e00be119",
   "metadata": {},
   "source": [
    "## Lista arquivos de log em pasta, com recursividade"
   ]
  },
  {
   "cell_type": "code",
   "execution_count": 1,
   "id": "98686600-8c7e-4716-9520-5224244ce760",
   "metadata": {},
   "outputs": [
    {
     "name": "stdout",
     "output_type": "stream",
     "text": [
      "180281\n"
     ]
    }
   ],
   "source": [
    "import glob\n",
    "\n",
    "pasta = r'/home/ricardo/pucrs/TCC/logs-node1-b2b/**/*.log*'\n",
    "lista_arqs = glob.glob(pasta, recursive = True)\n",
    "#print(lista_arqs)\n",
    "print(len(lista_arqs))\n"
   ]
  },
  {
   "cell_type": "code",
   "execution_count": 4,
   "id": "a36fb765-8acf-4a1d-9782-999134c5e104",
   "metadata": {},
   "outputs": [
    {
     "name": "stdout",
     "output_type": "stream",
     "text": [
      "string= [2024-03-31 03:21:51.234] ALL Vou colocar um texto de teste \n",
      "group1: 2024-03-31 03:21:51.234\n",
      "group2:  ALL Vou colocar um texto de teste \n"
     ]
    }
   ],
   "source": [
    "import re\n",
    "a = '[2024-03-31 03:21:51.234] ALL '\n",
    "a += 'Vou colocar um texto de teste '\n",
    "print(\"string=\",a)\n",
    "\n",
    "re_comp = re.compile('^\\[(\\d{4}-\\d{2}-\\d{2}\\s\\d{2}:\\d{2}:\\d{2}\\.\\d+)\\](.+)$', re.S)\n",
    "\n",
    "groups = re_comp.search(a)\n",
    "print ('group1:',groups.group(1))\n",
    "print ('group2:',groups.group(2))\n"
   ]
  },
  {
   "cell_type": "code",
   "execution_count": 26,
   "id": "11fc3410-9231-4c38-b21d-92e1a3386293",
   "metadata": {},
   "outputs": [
    {
     "name": "stdout",
     "output_type": "stream",
     "text": [
      "OdetteFTP.log.XXX\n",
      "group1: OdetteFTP.log\n",
      "group3: XXX\n"
     ]
    }
   ],
   "source": [
    "import re, os\n",
    "path = '/home/ricardo/pucrs/TCC/logs-node1-b2b/LOGS_01_10_2023_32842_83/OdetteFTP.log.XXX'\n",
    "nomearq = os.path.basename(path).split('/')[-1]\n",
    "print(nomearq)\n",
    "\n",
    "re_comp = re.compile('^(.+\\.log)(\\.)?(.*)$')\n",
    "\n",
    "#re_comp = re.compile('^\\[(\\d{4}-\\d{2}-\\d{2}\\s\\d{2}:\\d{2}:\\d{2}\\.\\d+)\\](.+)$', re.S)\n",
    "\n",
    "groups = re_comp.search(nomearq)\n",
    "print ('group1:',groups.group(1))\n",
    "print ('group3:',groups.group(3))\n"
   ]
  },
  {
   "cell_type": "code",
   "execution_count": 9,
   "id": "117b65cf-e662-439e-85e5-0676ed8eeee7",
   "metadata": {},
   "outputs": [
    {
     "name": "stdout",
     "output_type": "stream",
     "text": [
      "archive.log.D20240331.T033337\n"
     ]
    }
   ],
   "source": [
    "x = '/home/ricardo/pucrs/TCC/logs-node1-b2b/archive.log.D20240331.T033337'\n",
    "x = 'archive.log.D20240331.T033337'\n",
    "print(os.path.basename(x).split('/')[-1])"
   ]
  },
  {
   "cell_type": "markdown",
   "id": "cf36b564-c1be-4f59-9d6f-6eb73f7d3f87",
   "metadata": {},
   "source": [
    "## Ler cada arquivo e grava cada registro na base de dados"
   ]
  },
  {
   "cell_type": "code",
   "execution_count": 43,
   "id": "032879f8-b5e7-43d0-9ce8-ece33e80cf73",
   "metadata": {},
   "outputs": [
    {
     "name": "stdout",
     "output_type": "stream",
     "text": [
      "Quantidade de arquivos de log: 180281\n",
      "DeleteResult({'n': 77362665, 'ok': 1.0}, acknowledged=True)\n"
     ]
    },
    {
     "name": "stderr",
     "output_type": "stream",
     "text": [
      "100%|█████████████████████████████████████████████████████████████| 180281/180281 [15:17<00:00, 196.50it/s]\n"
     ]
    }
   ],
   "source": [
    "import re\n",
    "import os\n",
    "from tqdm import tqdm\n",
    "from pathlib import Path \n",
    "import glob\n",
    "import pymongo\n",
    "import datetime\n",
    "\n",
    "myclient = pymongo.MongoClient(\"mongodb://localhost:27017/\")\n",
    "\n",
    "logdb = myclient[\"logdb\"]\n",
    "mycol = logdb[\"logs\"]\n",
    "pasta = r'/home/ricardo/pucrs/TCC/logs-node1-b2b/**/*.log*'\n",
    "#pasta = r'/home/ricardo/pucrs/TCC/log-teste/**/*.log*'\n",
    "arqs = glob.glob(pasta, recursive = True)\n",
    "print(\"Quantidade de arquivos de log:\",len(arqs))\n",
    "\n",
    "# deleta todas as linhas de log\n",
    "_ = mycol.delete_many({})\n",
    "print (_)\n",
    "\n",
    "registros_log = []\n",
    "\n",
    "regex_registro = re.compile('^\\[(\\d{4}-\\d{2}-\\d{2}\\s\\d{2}:\\d{2}:\\d{2}\\.\\d+)\\](.+)$', re.S)\n",
    "regex_loop     = re.compile('^\\[(\\d{4}-\\d{2}-\\d{2}\\s\\d{2}:\\d{2}:\\d{2}\\.\\d+)\\]')\n",
    "regex_nmlog    = re.compile('^(.+\\.log)(\\.)?(.*)$')\n",
    "\n",
    "def gravaRegistro(linha, path):\n",
    "    global registros_log\n",
    "    timestamp = ''\n",
    "    texto = '' \n",
    "    # Recupera data/hora e texto do log\n",
    "    groups = regex_registro.search(linha)\n",
    "    if groups:\n",
    "        timestamp = groups.group(1)\n",
    "        texto = groups.group(2)\n",
    "\n",
    "    if (timestamp and texto):\n",
    "        #\n",
    "        # Separa o nome do log de sua data/hora\n",
    "        nomearq1 = os.path.basename(path).split('/')[-1]\n",
    "        groups   = regex_nmlog.search(nomearq1)\n",
    "        nomearq  = groups.group(1)\n",
    "        datahora = groups.group(3)\n",
    "        #\n",
    "        dt = datetime.datetime.strptime(timestamp, \"%Y-%m-%d %H:%M:%S.%f\")        \n",
    "        registros_log.append({\"arq_nome\": nomearq, 'arq_dthr': datahora, 'path': path, \"timestamp\": dt, \"texto\": texto})\n",
    "        if (len(registros_log) == 20000):\n",
    "            mycol.insert_many(registros_log)\n",
    "            registros_log = []\n",
    "    return\n",
    "\n",
    "for arq in tqdm(arqs):\n",
    "    registro = ''\n",
    "    if (os.path.isfile(arq)):\n",
    "        with open(arq,'r',encoding='iso-8859-1') as fh:\n",
    "            nrlinha = 0\n",
    "            try:\n",
    "                for linha in fh:\n",
    "                    if (len(registro) > 0 and regex_loop.match(linha)):\n",
    "                        gravaRegistro(registro, arq)\n",
    "                        registro = linha\n",
    "                    else:\n",
    "                        registro += linha\n",
    "                    #print(repr(linha))\n",
    "                    nrlinha += 1\n",
    "            except UnicodeDecodeError as err:\n",
    "                print(\">>> Erro ao ler linhas do arquivo:\",arq, \"linha:\", nrlinha, \"Erro:\", err)\n",
    "                exit(0)\n",
    "\n",
    "            #print('nr linhas', nrlinha)\n",
    "                \n",
    "            if len(registro) > 0:\n",
    "                gravaRegistro(registro,arq)\n",
    "\n",
    "\n",
    "if (len(registros_log) > 0):\n",
    "    mycol.insert_many(registros_log)"
   ]
  },
  {
   "cell_type": "code",
   "execution_count": 17,
   "id": "a9c4cc5a-fb4c-4025-bcfc-a2470a697be3",
   "metadata": {},
   "outputs": [
    {
     "name": "stdout",
     "output_type": "stream",
     "text": [
      "DeleteResult({'n': 3, 'ok': 1.0}, acknowledged=True)\n"
     ]
    }
   ],
   "source": [
    "x = mycol.delete_many({})\n",
    "print (x)"
   ]
  },
  {
   "cell_type": "code",
   "execution_count": 6,
   "id": "e1ef23fa-bcec-4514-9204-2e157fc31887",
   "metadata": {},
   "outputs": [
    {
     "name": "stdout",
     "output_type": "stream",
     "text": [
      "77362665\n"
     ]
    }
   ],
   "source": [
    "result = mycol.count_documents({})\n",
    "print (result)"
   ]
  },
  {
   "cell_type": "code",
   "execution_count": 30,
   "id": "ee3caca5-9665-4714-878f-9e8202fa7eed",
   "metadata": {},
   "outputs": [
    {
     "name": "stdout",
     "output_type": "stream",
     "text": [
      "24046\n"
     ]
    }
   ],
   "source": [
    "result = mycol.count_documents({'arq_nome':'visibility.log'})\n",
    "print (result)"
   ]
  },
  {
   "cell_type": "code",
   "execution_count": 44,
   "id": "a188b16e-519c-489f-8f93-f6b65dc414e3",
   "metadata": {},
   "outputs": [
    {
     "name": "stdout",
     "output_type": "stream",
     "text": [
      "['Authentication.log', 'OdetteFTP.log', 'Perimeter.log', 'Security.log', 'WebSphereMQSuite.log', 'archive.log', 'bpdeadline.log', 'cccinterop.log', 'cdinterop.log', 'cdinterop_cdjava.log', 'cfgapi.log', 'cla2client.log', 'delete.log', 'ebicsClientApilogger.log', 'ebicsServerApilogger.log', 'filegateway.log', 'ftpclient.log', 'http.log', 'httpclient.log', 'jetty.log', 'mailbox.log', 'mgmtdash.log', 'noapp.log', 'ops.log', 'ops_exe.log', 'resourcemonitor.log', 'schedule.log', 'servicesctl.log', 'sftpclient.log', 'sftpserver.log', 'sftpserverlogger2_0.log', 'shutdown.log', 'socketclient.log', 'socketcommon.log', 'socketserver.log', 'sql.log', 'sshdcommonlogger.log', 'system.log', 'tracking.log', 'tx.log', 'ui.log', 'userexit.log', 'visibility.log', 'wf.log', 'wfexception.log', 'wsrm.log']\n"
     ]
    }
   ],
   "source": [
    "result = mycol.distinct('arq_nome')\n",
    "print (result)"
   ]
  },
  {
   "cell_type": "code",
   "execution_count": 45,
   "id": "9ba4ee86-d04b-4556-99b2-5e082d86d524",
   "metadata": {},
   "outputs": [
    {
     "data": {
      "text/plain": [
       "46"
      ]
     },
     "execution_count": 45,
     "metadata": {},
     "output_type": "execute_result"
    }
   ],
   "source": [
    "len(result)"
   ]
  },
  {
   "cell_type": "code",
   "execution_count": 8,
   "id": "01aa91a8-b928-4651-8f9c-4c6715bc5f92",
   "metadata": {},
   "outputs": [
    {
     "name": "stdout",
     "output_type": "stream",
     "text": [
      "<pymongo.command_cursor.CommandCursor object at 0x77052be68cd0>\n"
     ]
    }
   ],
   "source": [
    "result = mycol.aggregate([{\"$group\": {\"_id\": \"$arq_nome\", \"count\":{\"$sum\": 1}}}])\n",
    "print(result)"
   ]
  },
  {
   "cell_type": "code",
   "execution_count": 11,
   "id": "e2c0727c-fbfb-4849-bced-a230960bcd2b",
   "metadata": {},
   "outputs": [
    {
     "name": "stdout",
     "output_type": "stream",
     "text": [
      "qtd registros system_log: 21755\n"
     ]
    }
   ],
   "source": [
    "count = mycol.count_documents({ 'arq_nome': \"filegateway.log\" })\n",
    "print(f'qtd registros system_log: {count}')"
   ]
  },
  {
   "cell_type": "code",
   "execution_count": null,
   "id": "e483e494-6a04-433f-8ad5-fc7006d50bf8",
   "metadata": {},
   "outputs": [],
   "source": [
    "## Exemplo de query com intervalo de data e limitando o resultado\n",
    "\n",
    "import datetime \n",
    "\n",
    "arq = 'filegateway.log'\n",
    "\n",
    "dt1 = datetime.datetime(2024, 4, 1, 0, 0, 0)\n",
    "dt2 = datetime.datetime(2024, 4, 1, 23, 59, 59)\n",
    "print(dt1,dt2)\n",
    "count = mycol.count_documents({ 'arq_nome': arq, \n",
    "                               'timestamp':\n",
    "                                            {\"$gt\": dt1, \"$lt\": dt2}})\n",
    "print(f'qtd registros em {arq}: {count}')\n",
    "\n",
    "c1 = mycol.find({'arq_nome': arq, \n",
    "                 'timestamp':{\"$gt\": dt1, \"$lt\": dt2}}).limit(3)\n",
    "\n",
    "all_results = list(c1)\n",
    "for document in all_results:\n",
    "    print(document['texto'])\n",
    "\n"
   ]
  },
  {
   "cell_type": "code",
   "execution_count": null,
   "id": "45ca7319-cd18-4487-ae99-f25a98bee12f",
   "metadata": {},
   "outputs": [],
   "source": [
    "## exemplo de query simples\n",
    "\n",
    "from pymongo import MongoClient\n",
    "\n",
    "# Replace the placeholder with your connection string.\n",
    "uri = \"mongodb://localhost:27017/\"\n",
    "client = MongoClient(uri)\n",
    "\n",
    "try:\n",
    "    agg_db = client[\"logdb\"]\n",
    "\n",
    "    logs_coll = agg_db[\"logs\"]\n",
    "    \n",
    "    pipeline = []\n",
    "\n",
    "    pipeline.append( {'$match': {'arq_nome': 'system.log'} })\n",
    "\n",
    "    pipeline.append( {'$sort': {\"timestamp\": -1} })\n",
    "\n",
    "    pipeline.append( {'$limit': 3})\n",
    "\n",
    "    pipeline.append( {\"$unset\": [\"_id\",\"texto\"]})\n",
    "\n",
    "    aggregation_result = logs_coll.aggregate(pipeline)\n",
    "\n",
    "    # Print the aggregation results.\n",
    "    for document in aggregation_result:\n",
    "        print(document)\n",
    "\n",
    "finally:\n",
    "    client.close()\n"
   ]
  },
  {
   "cell_type": "code",
   "execution_count": 1,
   "id": "7bd34032-b80a-4dc6-a2d9-489a26af1324",
   "metadata": {},
   "outputs": [
    {
     "name": "stdout",
     "output_type": "stream",
     "text": [
      "{'_id': 'arq_nome', 'primeira data': datetime.datetime(2023, 9, 29, 8, 1, 0, 892000), 'ultima data': datetime.datetime(2024, 4, 4, 8, 31, 3, 928000), 'qtd': 77362665}\n"
     ]
    }
   ],
   "source": [
    "## exemplo de agregacao\n",
    "# recupera menor e maior data e quantidade total de registros de log.\n",
    "\n",
    "from pymongo import MongoClient\n",
    "\n",
    "# Replace the placeholder with your connection string.\n",
    "uri = \"mongodb://localhost:27017/\"\n",
    "client = MongoClient(uri)\n",
    "\n",
    "try:\n",
    "    agg_db = client[\"logdb\"]\n",
    "\n",
    "    logs_coll = agg_db[\"logs\"]\n",
    "    \n",
    "    pipeline = []\n",
    "\n",
    "    pipeline.append({\n",
    "        \"$group\": {\n",
    "            \"_id\": \"\",\n",
    "            \"primeira data\": {\"$min\": \"$timestamp\"},\n",
    "            \"ultima data\": {\"$max\": \"$timestamp\"},\n",
    "            \"qtd\": {\"$sum\": 1},\n",
    "        }\n",
    "    })    \n",
    "\n",
    "    pipeline.append( {'$sort': {\"qtd\": -1} })\n",
    "\n",
    "    aggregation_result = logs_coll.aggregate(pipeline)\n",
    "\n",
    "    # Print the aggregation results.\n",
    "    for document in aggregation_result:\n",
    "        print(document)\n",
    "\n",
    "finally:\n",
    "    client.close()\n"
   ]
  },
  {
   "cell_type": "code",
   "execution_count": 3,
   "id": "e445ebd2-bb0e-4a26-a950-49590d6a8a34",
   "metadata": {},
   "outputs": [
    {
     "name": "stdout",
     "output_type": "stream",
     "text": [
      "{'_id': 'cdinterop_cdjava.log', 'primeira data': datetime.datetime(2023, 9, 30, 14, 11, 38, 772000), 'ultima data': datetime.datetime(2024, 4, 4, 7, 50, 27, 951000), 'qtd': 26741718}\n",
      "{'_id': 'OdetteFTP.log', 'primeira data': datetime.datetime(2023, 9, 29, 8, 3, 23, 504000), 'ultima data': datetime.datetime(2024, 4, 4, 5, 53, 57, 543000), 'qtd': 23591617}\n",
      "{'_id': 'cccinterop.log', 'primeira data': datetime.datetime(2023, 9, 29, 8, 4, 52, 739000), 'ultima data': datetime.datetime(2024, 4, 4, 7, 17, 9, 403000), 'qtd': 20909562}\n",
      "{'_id': 'noapp.log', 'primeira data': datetime.datetime(2023, 9, 29, 8, 1, 18, 964000), 'ultima data': datetime.datetime(2024, 4, 3, 23, 59, 41, 760000), 'qtd': 2002232}\n",
      "{'_id': 'Perimeter.log', 'primeira data': datetime.datetime(2023, 9, 29, 8, 3, 21, 209000), 'ultima data': datetime.datetime(2024, 4, 3, 23, 57, 30, 730000), 'qtd': 1994356}\n",
      "{'_id': 'ops.log', 'primeira data': datetime.datetime(2023, 9, 29, 8, 1, 0, 892000), 'ultima data': datetime.datetime(2024, 4, 3, 23, 38, 43, 642000), 'qtd': 597334}\n",
      "{'_id': 'mailbox.log', 'primeira data': datetime.datetime(2023, 9, 29, 8, 2, 49, 987000), 'ultima data': datetime.datetime(2024, 4, 3, 8, 2, 5, 433000), 'qtd': 464462}\n",
      "{'_id': 'system.log', 'primeira data': datetime.datetime(2023, 9, 29, 8, 1, 18, 948000), 'ultima data': datetime.datetime(2024, 4, 4, 8, 31, 3, 928000), 'qtd': 463000}\n",
      "{'_id': 'sftpserverlogger2_0.log', 'primeira data': datetime.datetime(2023, 9, 29, 8, 3, 44, 774000), 'ultima data': datetime.datetime(2024, 4, 3, 23, 59, 51, 734000), 'qtd': 169304}\n",
      "{'_id': 'archive.log', 'primeira data': datetime.datetime(2023, 9, 29, 8, 13, 52, 857000), 'ultima data': datetime.datetime(2024, 4, 3, 23, 54, 6, 792000), 'qtd': 111436}\n",
      "{'_id': 'cdinterop.log', 'primeira data': datetime.datetime(2023, 9, 29, 8, 3, 23, 341000), 'ultima data': datetime.datetime(2024, 4, 3, 23, 52, 4, 119000), 'qtd': 69581}\n",
      "{'_id': 'sftpserver.log', 'primeira data': datetime.datetime(2023, 9, 29, 9, 41, 58, 470000), 'ultima data': datetime.datetime(2024, 4, 3, 18, 31, 24, 7000), 'qtd': 65783}\n",
      "{'_id': 'ui.log', 'primeira data': datetime.datetime(2023, 9, 29, 8, 1, 43, 796000), 'ultima data': datetime.datetime(2024, 4, 3, 17, 26, 47, 649000), 'qtd': 41640}\n",
      "{'_id': 'servicesctl.log', 'primeira data': datetime.datetime(2023, 9, 29, 8, 3, 18, 321000), 'ultima data': datetime.datetime(2024, 3, 31, 3, 25, 5, 512000), 'qtd': 33266}\n",
      "{'_id': 'visibility.log', 'primeira data': datetime.datetime(2023, 9, 29, 8, 3, 20, 765000), 'ultima data': datetime.datetime(2024, 4, 3, 12, 52, 40, 956000), 'qtd': 24046}\n",
      "{'_id': 'filegateway.log', 'primeira data': datetime.datetime(2023, 9, 29, 8, 10, 56, 360000), 'ultima data': datetime.datetime(2024, 4, 3, 22, 12, 0, 879000), 'qtd': 21755}\n",
      "{'_id': 'Authentication.log', 'primeira data': datetime.datetime(2023, 9, 29, 8, 1, 32, 597000), 'ultima data': datetime.datetime(2024, 4, 3, 22, 45, 32, 903000), 'qtd': 11202}\n",
      "{'_id': 'shutdown.log', 'primeira data': datetime.datetime(2023, 10, 1, 1, 2, 28, 73000), 'ultima data': datetime.datetime(2024, 3, 31, 1, 4, 18, 716000), 'qtd': 9320}\n",
      "{'_id': 'tracking.log', 'primeira data': datetime.datetime(2023, 9, 29, 8, 4, 22, 326000), 'ultima data': datetime.datetime(2024, 4, 3, 23, 53, 41, 296000), 'qtd': 8734}\n",
      "{'_id': 'mgmtdash.log', 'primeira data': datetime.datetime(2023, 9, 29, 8, 2, 40, 98000), 'ultima data': datetime.datetime(2024, 4, 3, 18, 36, 18, 308000), 'qtd': 6100}\n",
      "{'_id': 'wf.log', 'primeira data': datetime.datetime(2023, 9, 29, 8, 4, 22, 47000), 'ultima data': datetime.datetime(2024, 4, 3, 17, 20, 42, 84000), 'qtd': 5945}\n",
      "{'_id': 'Security.log', 'primeira data': datetime.datetime(2023, 9, 29, 8, 1, 32, 597000), 'ultima data': datetime.datetime(2024, 4, 3, 22, 45, 32, 903000), 'qtd': 4158}\n",
      "{'_id': 'ops_exe.log', 'primeira data': datetime.datetime(2023, 9, 29, 8, 1, 0, 892000), 'ultima data': datetime.datetime(2024, 3, 31, 1, 3, 47, 693000), 'qtd': 4051}\n",
      "{'_id': 'jetty.log', 'primeira data': datetime.datetime(2023, 9, 29, 8, 2, 58, 277000), 'ultima data': datetime.datetime(2024, 4, 2, 8, 8, 46, 239000), 'qtd': 2428}\n",
      "{'_id': 'tx.log', 'primeira data': datetime.datetime(2023, 9, 30, 0, 31, 2, 618000), 'ultima data': datetime.datetime(2024, 4, 3, 17, 20, 42, 84000), 'qtd': 2086}\n",
      "{'_id': 'sftpclient.log', 'primeira data': datetime.datetime(2023, 9, 29, 8, 3, 21, 696000), 'ultima data': datetime.datetime(2024, 3, 31, 3, 23, 12, 932000), 'qtd': 1956}\n",
      "{'_id': 'cfgapi.log', 'primeira data': datetime.datetime(2023, 9, 29, 8, 7, 11, 626000), 'ultima data': datetime.datetime(2024, 4, 1, 14, 9, 13, 435000), 'qtd': 1642}\n",
      "{'_id': 'sshdcommonlogger.log', 'primeira data': datetime.datetime(2023, 9, 29, 8, 3, 44, 950000), 'ultima data': datetime.datetime(2024, 3, 31, 3, 23, 17, 500000), 'qtd': 671}\n",
      "{'_id': 'http.log', 'primeira data': datetime.datetime(2023, 9, 29, 8, 3, 45, 456000), 'ultima data': datetime.datetime(2024, 4, 2, 3, 50, 33, 322000), 'qtd': 583}\n",
      "{'_id': 'ftpclient.log', 'primeira data': datetime.datetime(2023, 9, 29, 8, 3, 21, 508000), 'ultima data': datetime.datetime(2024, 4, 2, 19, 40, 0, 451000), 'qtd': 554}\n",
      "{'_id': 'socketcommon.log', 'primeira data': datetime.datetime(2023, 10, 21, 18, 31, 52, 416000), 'ultima data': datetime.datetime(2024, 3, 23, 7, 59, 3, 258000), 'qtd': 422}\n",
      "{'_id': 'socketserver.log', 'primeira data': datetime.datetime(2023, 10, 21, 18, 31, 53, 440000), 'ultima data': datetime.datetime(2024, 3, 23, 7, 59, 3, 258000), 'qtd': 326}\n",
      "{'_id': 'resourcemonitor.log', 'primeira data': datetime.datetime(2023, 9, 29, 8, 3, 52, 774000), 'ultima data': datetime.datetime(2024, 3, 31, 3, 23, 20, 645000), 'qtd': 290}\n",
      "{'_id': 'schedule.log', 'primeira data': datetime.datetime(2023, 9, 29, 8, 3, 52, 521000), 'ultima data': datetime.datetime(2024, 3, 31, 3, 23, 37, 23000), 'qtd': 281}\n",
      "{'_id': 'delete.log', 'primeira data': datetime.datetime(2023, 10, 3, 15, 39, 54, 935000), 'ultima data': datetime.datetime(2024, 4, 3, 18, 36, 15, 109000), 'qtd': 254}\n",
      "{'_id': 'cla2client.log', 'primeira data': datetime.datetime(2023, 9, 29, 8, 4, 23, 463000), 'ultima data': datetime.datetime(2024, 3, 31, 3, 23, 38, 610000), 'qtd': 101}\n",
      "{'_id': 'httpclient.log', 'primeira data': datetime.datetime(2024, 3, 25, 10, 1, 58, 184000), 'ultima data': datetime.datetime(2024, 3, 26, 11, 41, 42, 814000), 'qtd': 92}\n",
      "{'_id': 'wfexception.log', 'primeira data': datetime.datetime(2023, 10, 21, 18, 33, 34, 924000), 'ultima data': datetime.datetime(2024, 3, 20, 12, 33, 35, 622000), 'qtd': 66}\n",
      "{'_id': 'ebicsServerApilogger.log', 'primeira data': datetime.datetime(2023, 9, 29, 8, 7, 6, 909000), 'ultima data': datetime.datetime(2024, 3, 31, 3, 25, 40, 909000), 'qtd': 63}\n",
      "{'_id': 'ebicsClientApilogger.log', 'primeira data': datetime.datetime(2023, 9, 29, 8, 7, 6, 909000), 'ultima data': datetime.datetime(2024, 3, 31, 3, 25, 40, 680000), 'qtd': 63}\n",
      "{'_id': 'bpdeadline.log', 'primeira data': datetime.datetime(2023, 9, 29, 8, 1, 29, 959000), 'ultima data': datetime.datetime(2024, 3, 31, 3, 22, 55, 899000), 'qtd': 62}\n",
      "{'_id': 'socketclient.log', 'primeira data': datetime.datetime(2023, 9, 29, 8, 3, 21, 461000), 'ultima data': datetime.datetime(2024, 3, 31, 3, 22, 52, 860000), 'qtd': 62}\n",
      "{'_id': 'sql.log', 'primeira data': datetime.datetime(2023, 9, 29, 8, 17, 27, 599000), 'ultima data': datetime.datetime(2023, 11, 9, 21, 11, 16, 930000), 'qtd': 26}\n",
      "{'_id': 'WebSphereMQSuite.log', 'primeira data': datetime.datetime(2023, 10, 20, 9, 59, 5, 520000), 'ultima data': datetime.datetime(2024, 3, 25, 9, 37, 4, 254000), 'qtd': 12}\n",
      "{'_id': 'wsrm.log', 'primeira data': datetime.datetime(2023, 11, 12, 7, 23, 53, 796000), 'ultima data': datetime.datetime(2024, 1, 21, 0, 41, 55, 6000), 'qtd': 12}\n",
      "{'_id': 'userexit.log', 'primeira data': datetime.datetime(2023, 9, 29, 8, 7, 25, 70000), 'ultima data': datetime.datetime(2024, 2, 25, 3, 27, 52, 224000), 'qtd': 11}\n"
     ]
    }
   ],
   "source": [
    "## exemplo de agregacao\n",
    "# recupera menor e maior data e quantidade total de registros de log, agrupado por identificador de log\n",
    "\n",
    "from pymongo import MongoClient\n",
    "\n",
    "# Replace the placeholder with your connection string.\n",
    "uri = \"mongodb://localhost:27017/\"\n",
    "client = MongoClient(uri)\n",
    "\n",
    "try:\n",
    "    agg_db = client[\"logdb\"]\n",
    "\n",
    "    logs_coll = agg_db[\"logs\"]\n",
    "    \n",
    "    pipeline = []\n",
    "\n",
    "    pipeline.append({\n",
    "        \"$group\": {\n",
    "            \"_id\": \"$arq_nome\",\n",
    "            \"primeira data\": {\"$min\": \"$timestamp\"},\n",
    "            \"ultima data\": {\"$max\": \"$timestamp\"},\n",
    "            \"qtd\": {\"$sum\": 1},\n",
    "        }\n",
    "    })      \n",
    "\n",
    "    pipeline.append( {'$sort': {\"qtd\": -1} })\n",
    "\n",
    "    aggregation_result = logs_coll.aggregate(pipeline)\n",
    "\n",
    "    # Print the aggregation results.\n",
    "    for document in aggregation_result:\n",
    "        print(document)\n",
    "\n",
    "finally:\n",
    "    client.close()\n"
   ]
  }
 ],
 "metadata": {
  "kernelspec": {
   "display_name": "Python 3 (ipykernel)",
   "language": "python",
   "name": "python3"
  },
  "language_info": {
   "codemirror_mode": {
    "name": "ipython",
    "version": 3
   },
   "file_extension": ".py",
   "mimetype": "text/x-python",
   "name": "python",
   "nbconvert_exporter": "python",
   "pygments_lexer": "ipython3",
   "version": "3.10.12"
  }
 },
 "nbformat": 4,
 "nbformat_minor": 5
}
