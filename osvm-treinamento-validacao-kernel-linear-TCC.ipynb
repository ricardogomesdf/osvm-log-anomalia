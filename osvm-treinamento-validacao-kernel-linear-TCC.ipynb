{
 "cells": [
  {
   "cell_type": "code",
   "execution_count": 1,
   "id": "a6b0683c-7de9-47b6-961f-4b91e1f713ec",
   "metadata": {},
   "outputs": [
    {
     "name": "stdout",
     "output_type": "stream",
     "text": [
      "Qtd documentos no corpus de Perimeter.log: 76625\n",
      "(76625, 23711)\n",
      "CPU times: user 2.56 s, sys: 936 ms, total: 3.49 s\n",
      "Wall time: 1.87 s\n"
     ]
    }
   ],
   "source": [
    "%%time\n",
    "import glob\n",
    "from time import time\n",
    "from sklearn.feature_extraction.text import TfidfVectorizer\n",
    "\n",
    "root_dir = '/home/ricardo/pucrs/TCC/logs-corpus/'\n",
    "tipo_log = 'Perimeter.log'\n",
    "\n",
    "corpus = glob.glob(os.path.join(root_dir, tipo_log, '*'))\n",
    "print(f'Qtd documentos no corpus de {tipo_log}: {len(corpus)}')\n",
    "vectorizer = TfidfVectorizer(input='filename', stop_words='english', smooth_idf = True, ngram_range=(1,1),\n",
    "                             token_pattern=r'(?u)\\b\\w*[a-zA-Z]\\w+\\b')\n",
    "X = vectorizer.fit_transform(corpus)\n",
    "\n",
    "#print(vectorizer.get_feature_names_out())\n",
    "print(X.shape)"
   ]
  },
  {
   "cell_type": "code",
   "execution_count": 2,
   "id": "c9906632-0eda-4de6-be22-cbc13952fce6",
   "metadata": {},
   "outputs": [
    {
     "name": "stdout",
     "output_type": "stream",
     "text": [
      "Quantidade de arquivos: 76625\n"
     ]
    },
    {
     "name": "stderr",
     "output_type": "stream",
     "text": [
      "100%|████████████████████████████████████████████████████████████████████████████████████| 76625/76625 [03:10<00:00, 401.74it/s]\n"
     ]
    },
    {
     "name": "stdout",
     "output_type": "stream",
     "text": [
      "Falsas anomalias: 35029\n",
      "Acuracia: 0.5428515497553018\n",
      "gamma=1 nu=0.1 falsas_anomalias=35029 acuracia=0.5428515497553018\n"
     ]
    },
    {
     "name": "stderr",
     "output_type": "stream",
     "text": [
      "100%|████████████████████████████████████████████████████████████████████████████████████| 76625/76625 [03:37<00:00, 352.71it/s]\n"
     ]
    },
    {
     "name": "stdout",
     "output_type": "stream",
     "text": [
      "Falsas anomalias: 12443\n",
      "Acuracia: 0.8376117455138662\n",
      "gamma=1 nu=0.2 falsas_anomalias=12443 acuracia=0.8376117455138662\n"
     ]
    },
    {
     "name": "stderr",
     "output_type": "stream",
     "text": [
      "100%|████████████████████████████████████████████████████████████████████████████████████| 76625/76625 [04:26<00:00, 287.83it/s]\n"
     ]
    },
    {
     "name": "stdout",
     "output_type": "stream",
     "text": [
      "Falsas anomalias: 14057\n",
      "Acuracia: 0.8165481239804242\n",
      "gamma=1 nu=0.3 falsas_anomalias=14057 acuracia=0.8165481239804242\n"
     ]
    },
    {
     "name": "stderr",
     "output_type": "stream",
     "text": [
      "100%|████████████████████████████████████████████████████████████████████████████████████| 76625/76625 [04:58<00:00, 256.37it/s]\n"
     ]
    },
    {
     "name": "stdout",
     "output_type": "stream",
     "text": [
      "Falsas anomalias: 56064\n",
      "Acuracia: 0.2683327895595432\n",
      "gamma=1 nu=0.4 falsas_anomalias=56064 acuracia=0.2683327895595432\n"
     ]
    },
    {
     "name": "stderr",
     "output_type": "stream",
     "text": [
      "100%|████████████████████████████████████████████████████████████████████████████████████| 76625/76625 [05:52<00:00, 217.50it/s]\n"
     ]
    },
    {
     "name": "stdout",
     "output_type": "stream",
     "text": [
      "Falsas anomalias: 30924\n",
      "Acuracia: 0.5964241435562806\n",
      "gamma=1 nu=0.5 falsas_anomalias=30924 acuracia=0.5964241435562806\n"
     ]
    },
    {
     "name": "stderr",
     "output_type": "stream",
     "text": [
      "100%|████████████████████████████████████████████████████████████████████████████████████| 76625/76625 [06:55<00:00, 184.29it/s]\n"
     ]
    },
    {
     "name": "stdout",
     "output_type": "stream",
     "text": [
      "Falsas anomalias: 31310\n",
      "Acuracia: 0.5913866231647635\n",
      "gamma=1 nu=0.6 falsas_anomalias=31310 acuracia=0.5913866231647635\n"
     ]
    },
    {
     "name": "stderr",
     "output_type": "stream",
     "text": [
      "100%|████████████████████████████████████████████████████████████████████████████████████| 76625/76625 [08:05<00:00, 157.99it/s]\n"
     ]
    },
    {
     "name": "stdout",
     "output_type": "stream",
     "text": [
      "Falsas anomalias: 48076\n",
      "Acuracia: 0.37258075040783034\n",
      "gamma=1 nu=0.7 falsas_anomalias=48076 acuracia=0.37258075040783034\n"
     ]
    },
    {
     "name": "stderr",
     "output_type": "stream",
     "text": [
      "100%|████████████████████████████████████████████████████████████████████████████████████| 76625/76625 [08:54<00:00, 143.30it/s]\n"
     ]
    },
    {
     "name": "stdout",
     "output_type": "stream",
     "text": [
      "Falsas anomalias: 32232\n",
      "Acuracia: 0.5793539967373573\n",
      "gamma=1 nu=0.8 falsas_anomalias=32232 acuracia=0.5793539967373573\n"
     ]
    },
    {
     "name": "stderr",
     "output_type": "stream",
     "text": [
      "100%|████████████████████████████████████████████████████████████████████████████████████| 76625/76625 [10:15<00:00, 124.54it/s]\n"
     ]
    },
    {
     "name": "stdout",
     "output_type": "stream",
     "text": [
      "Falsas anomalias: 48998\n",
      "Acuracia: 0.36054812398042413\n",
      "gamma=1 nu=0.9 falsas_anomalias=48998 acuracia=0.36054812398042413\n"
     ]
    },
    {
     "ename": "ValueError",
     "evalue": "The dual coefficients or intercepts are not finite. The input data may contain large values and need to be preprocessed.",
     "output_type": "error",
     "traceback": [
      "\u001b[0;31m---------------------------------------------------------------------------\u001b[0m",
      "\u001b[0;31mValueError\u001b[0m                                Traceback (most recent call last)",
      "File \u001b[0;32m<timed exec>:16\u001b[0m\n",
      "File \u001b[0;32m~/pucrs/TCC/venv/lib/python3.10/site-packages/sklearn/svm/_classes.py:1766\u001b[0m, in \u001b[0;36mOneClassSVM.fit\u001b[0;34m(self, X, y, sample_weight)\u001b[0m\n\u001b[1;32m   1741\u001b[0m \u001b[38;5;28;01mdef\u001b[39;00m \u001b[38;5;21mfit\u001b[39m(\u001b[38;5;28mself\u001b[39m, X, y\u001b[38;5;241m=\u001b[39m\u001b[38;5;28;01mNone\u001b[39;00m, sample_weight\u001b[38;5;241m=\u001b[39m\u001b[38;5;28;01mNone\u001b[39;00m):\n\u001b[1;32m   1742\u001b[0m \u001b[38;5;250m    \u001b[39m\u001b[38;5;124;03m\"\"\"Detect the soft boundary of the set of samples X.\u001b[39;00m\n\u001b[1;32m   1743\u001b[0m \n\u001b[1;32m   1744\u001b[0m \u001b[38;5;124;03m    Parameters\u001b[39;00m\n\u001b[0;32m   (...)\u001b[0m\n\u001b[1;32m   1764\u001b[0m \u001b[38;5;124;03m    If X is not a C-ordered contiguous array it is copied.\u001b[39;00m\n\u001b[1;32m   1765\u001b[0m \u001b[38;5;124;03m    \"\"\"\u001b[39;00m\n\u001b[0;32m-> 1766\u001b[0m     \u001b[38;5;28;43msuper\u001b[39;49m\u001b[43m(\u001b[49m\u001b[43m)\u001b[49m\u001b[38;5;241;43m.\u001b[39;49m\u001b[43mfit\u001b[49m\u001b[43m(\u001b[49m\u001b[43mX\u001b[49m\u001b[43m,\u001b[49m\u001b[43m \u001b[49m\u001b[43mnp\u001b[49m\u001b[38;5;241;43m.\u001b[39;49m\u001b[43mones\u001b[49m\u001b[43m(\u001b[49m\u001b[43m_num_samples\u001b[49m\u001b[43m(\u001b[49m\u001b[43mX\u001b[49m\u001b[43m)\u001b[49m\u001b[43m)\u001b[49m\u001b[43m,\u001b[49m\u001b[43m \u001b[49m\u001b[43msample_weight\u001b[49m\u001b[38;5;241;43m=\u001b[39;49m\u001b[43msample_weight\u001b[49m\u001b[43m)\u001b[49m\n\u001b[1;32m   1767\u001b[0m     \u001b[38;5;28mself\u001b[39m\u001b[38;5;241m.\u001b[39moffset_ \u001b[38;5;241m=\u001b[39m \u001b[38;5;241m-\u001b[39m\u001b[38;5;28mself\u001b[39m\u001b[38;5;241m.\u001b[39m_intercept_\n\u001b[1;32m   1768\u001b[0m     \u001b[38;5;28;01mreturn\u001b[39;00m \u001b[38;5;28mself\u001b[39m\n",
      "File \u001b[0;32m~/pucrs/TCC/venv/lib/python3.10/site-packages/sklearn/base.py:1473\u001b[0m, in \u001b[0;36m_fit_context.<locals>.decorator.<locals>.wrapper\u001b[0;34m(estimator, *args, **kwargs)\u001b[0m\n\u001b[1;32m   1466\u001b[0m     estimator\u001b[38;5;241m.\u001b[39m_validate_params()\n\u001b[1;32m   1468\u001b[0m \u001b[38;5;28;01mwith\u001b[39;00m config_context(\n\u001b[1;32m   1469\u001b[0m     skip_parameter_validation\u001b[38;5;241m=\u001b[39m(\n\u001b[1;32m   1470\u001b[0m         prefer_skip_nested_validation \u001b[38;5;129;01mor\u001b[39;00m global_skip_validation\n\u001b[1;32m   1471\u001b[0m     )\n\u001b[1;32m   1472\u001b[0m ):\n\u001b[0;32m-> 1473\u001b[0m     \u001b[38;5;28;01mreturn\u001b[39;00m \u001b[43mfit_method\u001b[49m\u001b[43m(\u001b[49m\u001b[43mestimator\u001b[49m\u001b[43m,\u001b[49m\u001b[43m \u001b[49m\u001b[38;5;241;43m*\u001b[39;49m\u001b[43margs\u001b[49m\u001b[43m,\u001b[49m\u001b[43m \u001b[49m\u001b[38;5;241;43m*\u001b[39;49m\u001b[38;5;241;43m*\u001b[39;49m\u001b[43mkwargs\u001b[49m\u001b[43m)\u001b[49m\n",
      "File \u001b[0;32m~/pucrs/TCC/venv/lib/python3.10/site-packages/sklearn/svm/_base.py:268\u001b[0m, in \u001b[0;36mBaseLibSVM.fit\u001b[0;34m(self, X, y, sample_weight)\u001b[0m\n\u001b[1;32m    266\u001b[0m dual_coef_finiteness \u001b[38;5;241m=\u001b[39m np\u001b[38;5;241m.\u001b[39misfinite(dual_coef)\u001b[38;5;241m.\u001b[39mall()\n\u001b[1;32m    267\u001b[0m \u001b[38;5;28;01mif\u001b[39;00m \u001b[38;5;129;01mnot\u001b[39;00m (intercept_finiteness \u001b[38;5;129;01mand\u001b[39;00m dual_coef_finiteness):\n\u001b[0;32m--> 268\u001b[0m     \u001b[38;5;28;01mraise\u001b[39;00m \u001b[38;5;167;01mValueError\u001b[39;00m(\n\u001b[1;32m    269\u001b[0m         \u001b[38;5;124m\"\u001b[39m\u001b[38;5;124mThe dual coefficients or intercepts are not finite.\u001b[39m\u001b[38;5;124m\"\u001b[39m\n\u001b[1;32m    270\u001b[0m         \u001b[38;5;124m\"\u001b[39m\u001b[38;5;124m The input data may contain large values and need to be\u001b[39m\u001b[38;5;124m\"\u001b[39m\n\u001b[1;32m    271\u001b[0m         \u001b[38;5;124m\"\u001b[39m\u001b[38;5;124m preprocessed.\u001b[39m\u001b[38;5;124m\"\u001b[39m\n\u001b[1;32m    272\u001b[0m     )\n\u001b[1;32m    274\u001b[0m \u001b[38;5;66;03m# Since, in the case of SVC and NuSVC, the number of models optimized by\u001b[39;00m\n\u001b[1;32m    275\u001b[0m \u001b[38;5;66;03m# libSVM could be greater than one (depending on the input), `n_iter_`\u001b[39;00m\n\u001b[1;32m    276\u001b[0m \u001b[38;5;66;03m# stores an ndarray.\u001b[39;00m\n\u001b[1;32m    277\u001b[0m \u001b[38;5;66;03m# For the other sub-classes (SVR, NuSVR, and OneClassSVM), the number of\u001b[39;00m\n\u001b[1;32m    278\u001b[0m \u001b[38;5;66;03m# models optimized by libSVM is always one, so `n_iter_` stores an\u001b[39;00m\n\u001b[1;32m    279\u001b[0m \u001b[38;5;66;03m# integer.\u001b[39;00m\n\u001b[1;32m    280\u001b[0m \u001b[38;5;28;01mif\u001b[39;00m \u001b[38;5;28mself\u001b[39m\u001b[38;5;241m.\u001b[39m_impl \u001b[38;5;129;01min\u001b[39;00m [\u001b[38;5;124m\"\u001b[39m\u001b[38;5;124mc_svc\u001b[39m\u001b[38;5;124m\"\u001b[39m, \u001b[38;5;124m\"\u001b[39m\u001b[38;5;124mnu_svc\u001b[39m\u001b[38;5;124m\"\u001b[39m]:\n",
      "\u001b[0;31mValueError\u001b[0m: The dual coefficients or intercepts are not finite. The input data may contain large values and need to be preprocessed."
     ]
    }
   ],
   "source": [
    "%%time\n",
    "from tqdm import tqdm\n",
    "import os\n",
    "import glob\n",
    "from sklearn import svm\n",
    "\n",
    "corpus = glob.glob(os.path.join(root_dir, tipo_log, '*'))\n",
    "print(f'Quantidade de arquivos: {len(corpus)}')\n",
    "\n",
    "gammas    = [1, .9, .8, .7, .6, .5, .4, .3, .2, .1, .01, .001]\n",
    "nus       = [.1, .2, .3, .4, .5, .6, .7, .8, .9, 1]\n",
    "resultado = []\n",
    "\n",
    "for gamma in gammas:\n",
    "    for nu in nus:\n",
    "        oneclass = svm.OneClassSVM(kernel='linear', gamma=gamma, nu=nu)\n",
    "        oneclass.fit(X)\n",
    "        #\n",
    "        predicoes = []\n",
    "        for arq in tqdm(corpus):\n",
    "            X_validar = vectorizer.transform([arq])\n",
    "            predicao = oneclass.predict(X_validar)\n",
    "            predicoes.append(predicao[0])\n",
    "            \n",
    "        falsas_anomalias = predicoes.count(-1)\n",
    "        acuracia         = 1-(predicoes.count(-1)/len(predicoes))\n",
    "        print(f'Falsas anomalias: {falsas_anomalias}')\n",
    "        print(f'Acuracia: {acuracia}')\n",
    "        #\n",
    "        resultado.append([gamma, nu, falsas_anomalias, acuracia])\n",
    "        print(f'gamma={gamma} nu={nu} falsas_anomalias={falsas_anomalias} acuracia={acuracia}')"
   ]
  },
  {
   "cell_type": "code",
   "execution_count": 3,
   "id": "14d79d02-12d1-4914-aadc-4907f4e85e32",
   "metadata": {},
   "outputs": [
    {
     "name": "stdout",
     "output_type": "stream",
     "text": [
      "Quantidade de arquivos: 76625\n"
     ]
    },
    {
     "name": "stderr",
     "output_type": "stream",
     "text": [
      "100%|████████████████████████████████████████████████████████████████████████████████████| 76625/76625 [03:03<00:00, 418.19it/s]\n"
     ]
    },
    {
     "name": "stdout",
     "output_type": "stream",
     "text": [
      "Falsas anomalias: 35029\n",
      "Acuracia: 0.5428515497553018\n",
      "gamma=0.9 nu=0.1 falsas_anomalias=35029 acuracia=0.5428515497553018\n"
     ]
    },
    {
     "name": "stderr",
     "output_type": "stream",
     "text": [
      "100%|████████████████████████████████████████████████████████████████████████████████████| 76625/76625 [03:19<00:00, 383.60it/s]\n"
     ]
    },
    {
     "name": "stdout",
     "output_type": "stream",
     "text": [
      "Falsas anomalias: 12443\n",
      "Acuracia: 0.8376117455138662\n",
      "gamma=0.9 nu=0.2 falsas_anomalias=12443 acuracia=0.8376117455138662\n"
     ]
    },
    {
     "name": "stderr",
     "output_type": "stream",
     "text": [
      "100%|████████████████████████████████████████████████████████████████████████████████████| 76625/76625 [03:46<00:00, 338.15it/s]\n"
     ]
    },
    {
     "name": "stdout",
     "output_type": "stream",
     "text": [
      "Falsas anomalias: 14057\n",
      "Acuracia: 0.8165481239804242\n",
      "gamma=0.9 nu=0.3 falsas_anomalias=14057 acuracia=0.8165481239804242\n"
     ]
    },
    {
     "name": "stderr",
     "output_type": "stream",
     "text": [
      "100%|████████████████████████████████████████████████████████████████████████████████████| 76625/76625 [04:14<00:00, 301.66it/s]\n"
     ]
    },
    {
     "name": "stdout",
     "output_type": "stream",
     "text": [
      "Falsas anomalias: 56064\n",
      "Acuracia: 0.2683327895595432\n",
      "gamma=0.9 nu=0.4 falsas_anomalias=56064 acuracia=0.2683327895595432\n"
     ]
    },
    {
     "name": "stderr",
     "output_type": "stream",
     "text": [
      "100%|████████████████████████████████████████████████████████████████████████████████████| 76625/76625 [04:52<00:00, 261.58it/s]\n"
     ]
    },
    {
     "name": "stdout",
     "output_type": "stream",
     "text": [
      "Falsas anomalias: 30924\n",
      "Acuracia: 0.5964241435562806\n",
      "gamma=0.9 nu=0.5 falsas_anomalias=30924 acuracia=0.5964241435562806\n"
     ]
    },
    {
     "name": "stderr",
     "output_type": "stream",
     "text": [
      "100%|████████████████████████████████████████████████████████████████████████████████████| 76625/76625 [05:37<00:00, 227.06it/s]\n"
     ]
    },
    {
     "name": "stdout",
     "output_type": "stream",
     "text": [
      "Falsas anomalias: 31310\n",
      "Acuracia: 0.5913866231647635\n",
      "gamma=0.9 nu=0.6 falsas_anomalias=31310 acuracia=0.5913866231647635\n"
     ]
    },
    {
     "name": "stderr",
     "output_type": "stream",
     "text": [
      "100%|████████████████████████████████████████████████████████████████████████████████████| 76625/76625 [06:38<00:00, 192.24it/s]\n"
     ]
    },
    {
     "name": "stdout",
     "output_type": "stream",
     "text": [
      "Falsas anomalias: 48076\n",
      "Acuracia: 0.37258075040783034\n",
      "gamma=0.9 nu=0.7 falsas_anomalias=48076 acuracia=0.37258075040783034\n"
     ]
    },
    {
     "name": "stderr",
     "output_type": "stream",
     "text": [
      "100%|████████████████████████████████████████████████████████████████████████████████████| 76625/76625 [09:33<00:00, 133.63it/s]\n"
     ]
    },
    {
     "name": "stdout",
     "output_type": "stream",
     "text": [
      "Falsas anomalias: 32232\n",
      "Acuracia: 0.5793539967373573\n",
      "gamma=0.9 nu=0.8 falsas_anomalias=32232 acuracia=0.5793539967373573\n"
     ]
    },
    {
     "name": "stderr",
     "output_type": "stream",
     "text": [
      "100%|████████████████████████████████████████████████████████████████████████████████████| 76625/76625 [11:01<00:00, 115.88it/s]\n"
     ]
    },
    {
     "name": "stdout",
     "output_type": "stream",
     "text": [
      "Falsas anomalias: 48998\n",
      "Acuracia: 0.36054812398042413\n",
      "gamma=0.9 nu=0.9 falsas_anomalias=48998 acuracia=0.36054812398042413\n"
     ]
    },
    {
     "name": "stderr",
     "output_type": "stream",
     "text": [
      "100%|████████████████████████████████████████████████████████████████████████████████████| 76625/76625 [04:37<00:00, 276.49it/s]\n"
     ]
    },
    {
     "name": "stdout",
     "output_type": "stream",
     "text": [
      "Falsas anomalias: 35029\n",
      "Acuracia: 0.5428515497553018\n",
      "gamma=0.8 nu=0.1 falsas_anomalias=35029 acuracia=0.5428515497553018\n"
     ]
    },
    {
     "name": "stderr",
     "output_type": "stream",
     "text": [
      "100%|████████████████████████████████████████████████████████████████████████████████████| 76625/76625 [04:16<00:00, 299.18it/s]\n"
     ]
    },
    {
     "name": "stdout",
     "output_type": "stream",
     "text": [
      "Falsas anomalias: 12443\n",
      "Acuracia: 0.8376117455138662\n",
      "gamma=0.8 nu=0.2 falsas_anomalias=12443 acuracia=0.8376117455138662\n"
     ]
    },
    {
     "name": "stderr",
     "output_type": "stream",
     "text": [
      "100%|████████████████████████████████████████████████████████████████████████████████████| 76625/76625 [04:08<00:00, 307.97it/s]\n"
     ]
    },
    {
     "name": "stdout",
     "output_type": "stream",
     "text": [
      "Falsas anomalias: 14057\n",
      "Acuracia: 0.8165481239804242\n",
      "gamma=0.8 nu=0.3 falsas_anomalias=14057 acuracia=0.8165481239804242\n"
     ]
    },
    {
     "name": "stderr",
     "output_type": "stream",
     "text": [
      "100%|████████████████████████████████████████████████████████████████████████████████████| 76625/76625 [04:21<00:00, 292.88it/s]\n"
     ]
    },
    {
     "name": "stdout",
     "output_type": "stream",
     "text": [
      "Falsas anomalias: 56064\n",
      "Acuracia: 0.2683327895595432\n",
      "gamma=0.8 nu=0.4 falsas_anomalias=56064 acuracia=0.2683327895595432\n"
     ]
    },
    {
     "name": "stderr",
     "output_type": "stream",
     "text": [
      "100%|████████████████████████████████████████████████████████████████████████████████████| 76625/76625 [04:58<00:00, 256.77it/s]\n"
     ]
    },
    {
     "name": "stdout",
     "output_type": "stream",
     "text": [
      "Falsas anomalias: 30924\n",
      "Acuracia: 0.5964241435562806\n",
      "gamma=0.8 nu=0.5 falsas_anomalias=30924 acuracia=0.5964241435562806\n"
     ]
    },
    {
     "name": "stderr",
     "output_type": "stream",
     "text": [
      "100%|████████████████████████████████████████████████████████████████████████████████████| 76625/76625 [05:49<00:00, 219.09it/s]\n"
     ]
    },
    {
     "name": "stdout",
     "output_type": "stream",
     "text": [
      "Falsas anomalias: 31310\n",
      "Acuracia: 0.5913866231647635\n",
      "gamma=0.8 nu=0.6 falsas_anomalias=31310 acuracia=0.5913866231647635\n"
     ]
    },
    {
     "name": "stderr",
     "output_type": "stream",
     "text": [
      "100%|████████████████████████████████████████████████████████████████████████████████████| 76625/76625 [06:44<00:00, 189.32it/s]\n"
     ]
    },
    {
     "name": "stdout",
     "output_type": "stream",
     "text": [
      "Falsas anomalias: 48076\n",
      "Acuracia: 0.37258075040783034\n",
      "gamma=0.8 nu=0.7 falsas_anomalias=48076 acuracia=0.37258075040783034\n"
     ]
    },
    {
     "name": "stderr",
     "output_type": "stream",
     "text": [
      "100%|████████████████████████████████████████████████████████████████████████████████████| 76625/76625 [07:43<00:00, 165.22it/s]\n"
     ]
    },
    {
     "name": "stdout",
     "output_type": "stream",
     "text": [
      "Falsas anomalias: 32232\n",
      "Acuracia: 0.5793539967373573\n",
      "gamma=0.8 nu=0.8 falsas_anomalias=32232 acuracia=0.5793539967373573\n"
     ]
    },
    {
     "name": "stderr",
     "output_type": "stream",
     "text": [
      "100%|████████████████████████████████████████████████████████████████████████████████████| 76625/76625 [08:52<00:00, 144.01it/s]\n"
     ]
    },
    {
     "name": "stdout",
     "output_type": "stream",
     "text": [
      "Falsas anomalias: 48998\n",
      "Acuracia: 0.36054812398042413\n",
      "gamma=0.8 nu=0.9 falsas_anomalias=48998 acuracia=0.36054812398042413\n"
     ]
    },
    {
     "name": "stderr",
     "output_type": "stream",
     "text": [
      "100%|████████████████████████████████████████████████████████████████████████████████████| 76625/76625 [03:09<00:00, 405.13it/s]\n"
     ]
    },
    {
     "name": "stdout",
     "output_type": "stream",
     "text": [
      "Falsas anomalias: 35029\n",
      "Acuracia: 0.5428515497553018\n",
      "gamma=0.7 nu=0.1 falsas_anomalias=35029 acuracia=0.5428515497553018\n"
     ]
    },
    {
     "name": "stderr",
     "output_type": "stream",
     "text": [
      "100%|████████████████████████████████████████████████████████████████████████████████████| 76625/76625 [04:16<00:00, 298.41it/s]\n"
     ]
    },
    {
     "name": "stdout",
     "output_type": "stream",
     "text": [
      "Falsas anomalias: 12443\n",
      "Acuracia: 0.8376117455138662\n",
      "gamma=0.7 nu=0.2 falsas_anomalias=12443 acuracia=0.8376117455138662\n"
     ]
    },
    {
     "name": "stderr",
     "output_type": "stream",
     "text": [
      "100%|████████████████████████████████████████████████████████████████████████████████████| 76625/76625 [09:26<00:00, 135.34it/s]\n"
     ]
    },
    {
     "name": "stdout",
     "output_type": "stream",
     "text": [
      "Falsas anomalias: 14057\n",
      "Acuracia: 0.8165481239804242\n",
      "gamma=0.7 nu=0.3 falsas_anomalias=14057 acuracia=0.8165481239804242\n"
     ]
    },
    {
     "name": "stderr",
     "output_type": "stream",
     "text": [
      "100%|████████████████████████████████████████████████████████████████████████████████████| 76625/76625 [05:31<00:00, 231.43it/s]\n"
     ]
    },
    {
     "name": "stdout",
     "output_type": "stream",
     "text": [
      "Falsas anomalias: 56064\n",
      "Acuracia: 0.2683327895595432\n",
      "gamma=0.7 nu=0.4 falsas_anomalias=56064 acuracia=0.2683327895595432\n"
     ]
    },
    {
     "name": "stderr",
     "output_type": "stream",
     "text": [
      "100%|████████████████████████████████████████████████████████████████████████████████████| 76625/76625 [05:52<00:00, 217.17it/s]\n"
     ]
    },
    {
     "name": "stdout",
     "output_type": "stream",
     "text": [
      "Falsas anomalias: 30924\n",
      "Acuracia: 0.5964241435562806\n",
      "gamma=0.7 nu=0.5 falsas_anomalias=30924 acuracia=0.5964241435562806\n"
     ]
    },
    {
     "name": "stderr",
     "output_type": "stream",
     "text": [
      "100%|████████████████████████████████████████████████████████████████████████████████████| 76625/76625 [06:12<00:00, 205.95it/s]\n"
     ]
    },
    {
     "name": "stdout",
     "output_type": "stream",
     "text": [
      "Falsas anomalias: 31310\n",
      "Acuracia: 0.5913866231647635\n",
      "gamma=0.7 nu=0.6 falsas_anomalias=31310 acuracia=0.5913866231647635\n"
     ]
    },
    {
     "name": "stderr",
     "output_type": "stream",
     "text": [
      "100%|████████████████████████████████████████████████████████████████████████████████████| 76625/76625 [06:41<00:00, 190.89it/s]\n"
     ]
    },
    {
     "name": "stdout",
     "output_type": "stream",
     "text": [
      "Falsas anomalias: 48076\n",
      "Acuracia: 0.37258075040783034\n",
      "gamma=0.7 nu=0.7 falsas_anomalias=48076 acuracia=0.37258075040783034\n"
     ]
    },
    {
     "name": "stderr",
     "output_type": "stream",
     "text": [
      "100%|████████████████████████████████████████████████████████████████████████████████████| 76625/76625 [07:35<00:00, 168.33it/s]\n"
     ]
    },
    {
     "name": "stdout",
     "output_type": "stream",
     "text": [
      "Falsas anomalias: 32232\n",
      "Acuracia: 0.5793539967373573\n",
      "gamma=0.7 nu=0.8 falsas_anomalias=32232 acuracia=0.5793539967373573\n"
     ]
    },
    {
     "name": "stderr",
     "output_type": "stream",
     "text": [
      "100%|████████████████████████████████████████████████████████████████████████████████████| 76625/76625 [08:21<00:00, 152.87it/s]\n"
     ]
    },
    {
     "name": "stdout",
     "output_type": "stream",
     "text": [
      "Falsas anomalias: 48998\n",
      "Acuracia: 0.36054812398042413\n",
      "gamma=0.7 nu=0.9 falsas_anomalias=48998 acuracia=0.36054812398042413\n"
     ]
    },
    {
     "name": "stderr",
     "output_type": "stream",
     "text": [
      "100%|████████████████████████████████████████████████████████████████████████████████████| 76625/76625 [02:43<00:00, 468.01it/s]\n"
     ]
    },
    {
     "name": "stdout",
     "output_type": "stream",
     "text": [
      "Falsas anomalias: 35029\n",
      "Acuracia: 0.5428515497553018\n",
      "gamma=0.6 nu=0.1 falsas_anomalias=35029 acuracia=0.5428515497553018\n"
     ]
    },
    {
     "name": "stderr",
     "output_type": "stream",
     "text": [
      "100%|████████████████████████████████████████████████████████████████████████████████████| 76625/76625 [03:08<00:00, 405.49it/s]\n"
     ]
    },
    {
     "name": "stdout",
     "output_type": "stream",
     "text": [
      "Falsas anomalias: 12443\n",
      "Acuracia: 0.8376117455138662\n",
      "gamma=0.6 nu=0.2 falsas_anomalias=12443 acuracia=0.8376117455138662\n"
     ]
    },
    {
     "name": "stderr",
     "output_type": "stream",
     "text": [
      "100%|████████████████████████████████████████████████████████████████████████████████████| 76625/76625 [03:56<00:00, 323.52it/s]\n"
     ]
    },
    {
     "name": "stdout",
     "output_type": "stream",
     "text": [
      "Falsas anomalias: 14057\n",
      "Acuracia: 0.8165481239804242\n",
      "gamma=0.6 nu=0.3 falsas_anomalias=14057 acuracia=0.8165481239804242\n"
     ]
    },
    {
     "name": "stderr",
     "output_type": "stream",
     "text": [
      "100%|████████████████████████████████████████████████████████████████████████████████████| 76625/76625 [04:11<00:00, 304.87it/s]\n"
     ]
    },
    {
     "name": "stdout",
     "output_type": "stream",
     "text": [
      "Falsas anomalias: 56064\n",
      "Acuracia: 0.2683327895595432\n",
      "gamma=0.6 nu=0.4 falsas_anomalias=56064 acuracia=0.2683327895595432\n"
     ]
    },
    {
     "name": "stderr",
     "output_type": "stream",
     "text": [
      "100%|████████████████████████████████████████████████████████████████████████████████████| 76625/76625 [05:01<00:00, 254.47it/s]\n"
     ]
    },
    {
     "name": "stdout",
     "output_type": "stream",
     "text": [
      "Falsas anomalias: 30924\n",
      "Acuracia: 0.5964241435562806\n",
      "gamma=0.6 nu=0.5 falsas_anomalias=30924 acuracia=0.5964241435562806\n"
     ]
    },
    {
     "name": "stderr",
     "output_type": "stream",
     "text": [
      "100%|████████████████████████████████████████████████████████████████████████████████████| 76625/76625 [06:00<00:00, 212.68it/s]\n"
     ]
    },
    {
     "name": "stdout",
     "output_type": "stream",
     "text": [
      "Falsas anomalias: 31310\n",
      "Acuracia: 0.5913866231647635\n",
      "gamma=0.6 nu=0.6 falsas_anomalias=31310 acuracia=0.5913866231647635\n"
     ]
    },
    {
     "name": "stderr",
     "output_type": "stream",
     "text": [
      "100%|████████████████████████████████████████████████████████████████████████████████████| 76625/76625 [06:55<00:00, 184.30it/s]\n"
     ]
    },
    {
     "name": "stdout",
     "output_type": "stream",
     "text": [
      "Falsas anomalias: 48076\n",
      "Acuracia: 0.37258075040783034\n",
      "gamma=0.6 nu=0.7 falsas_anomalias=48076 acuracia=0.37258075040783034\n"
     ]
    },
    {
     "name": "stderr",
     "output_type": "stream",
     "text": [
      "100%|████████████████████████████████████████████████████████████████████████████████████| 76625/76625 [07:59<00:00, 159.73it/s]\n"
     ]
    },
    {
     "name": "stdout",
     "output_type": "stream",
     "text": [
      "Falsas anomalias: 32232\n",
      "Acuracia: 0.5793539967373573\n",
      "gamma=0.6 nu=0.8 falsas_anomalias=32232 acuracia=0.5793539967373573\n"
     ]
    },
    {
     "name": "stderr",
     "output_type": "stream",
     "text": [
      "100%|████████████████████████████████████████████████████████████████████████████████████| 76625/76625 [08:16<00:00, 154.28it/s]\n"
     ]
    },
    {
     "name": "stdout",
     "output_type": "stream",
     "text": [
      "Falsas anomalias: 48998\n",
      "Acuracia: 0.36054812398042413\n",
      "gamma=0.6 nu=0.9 falsas_anomalias=48998 acuracia=0.36054812398042413\n"
     ]
    },
    {
     "name": "stderr",
     "output_type": "stream",
     "text": [
      "100%|████████████████████████████████████████████████████████████████████████████████████| 76625/76625 [03:09<00:00, 404.38it/s]\n"
     ]
    },
    {
     "name": "stdout",
     "output_type": "stream",
     "text": [
      "Falsas anomalias: 35029\n",
      "Acuracia: 0.5428515497553018\n",
      "gamma=0.5 nu=0.1 falsas_anomalias=35029 acuracia=0.5428515497553018\n"
     ]
    },
    {
     "name": "stderr",
     "output_type": "stream",
     "text": [
      "100%|████████████████████████████████████████████████████████████████████████████████████| 76625/76625 [03:32<00:00, 360.36it/s]\n"
     ]
    },
    {
     "name": "stdout",
     "output_type": "stream",
     "text": [
      "Falsas anomalias: 12443\n",
      "Acuracia: 0.8376117455138662\n",
      "gamma=0.5 nu=0.2 falsas_anomalias=12443 acuracia=0.8376117455138662\n"
     ]
    },
    {
     "name": "stderr",
     "output_type": "stream",
     "text": [
      "100%|████████████████████████████████████████████████████████████████████████████████████| 76625/76625 [03:59<00:00, 319.75it/s]\n"
     ]
    },
    {
     "name": "stdout",
     "output_type": "stream",
     "text": [
      "Falsas anomalias: 14057\n",
      "Acuracia: 0.8165481239804242\n",
      "gamma=0.5 nu=0.3 falsas_anomalias=14057 acuracia=0.8165481239804242\n"
     ]
    },
    {
     "name": "stderr",
     "output_type": "stream",
     "text": [
      "100%|████████████████████████████████████████████████████████████████████████████████████| 76625/76625 [04:38<00:00, 275.36it/s]\n"
     ]
    },
    {
     "name": "stdout",
     "output_type": "stream",
     "text": [
      "Falsas anomalias: 56064\n",
      "Acuracia: 0.2683327895595432\n",
      "gamma=0.5 nu=0.4 falsas_anomalias=56064 acuracia=0.2683327895595432\n"
     ]
    },
    {
     "name": "stderr",
     "output_type": "stream",
     "text": [
      "100%|████████████████████████████████████████████████████████████████████████████████████| 76625/76625 [05:14<00:00, 243.42it/s]\n"
     ]
    },
    {
     "name": "stdout",
     "output_type": "stream",
     "text": [
      "Falsas anomalias: 30924\n",
      "Acuracia: 0.5964241435562806\n",
      "gamma=0.5 nu=0.5 falsas_anomalias=30924 acuracia=0.5964241435562806\n"
     ]
    },
    {
     "name": "stderr",
     "output_type": "stream",
     "text": [
      "100%|████████████████████████████████████████████████████████████████████████████████████| 76625/76625 [05:57<00:00, 214.21it/s]\n"
     ]
    },
    {
     "name": "stdout",
     "output_type": "stream",
     "text": [
      "Falsas anomalias: 31310\n",
      "Acuracia: 0.5913866231647635\n",
      "gamma=0.5 nu=0.6 falsas_anomalias=31310 acuracia=0.5913866231647635\n"
     ]
    },
    {
     "name": "stderr",
     "output_type": "stream",
     "text": [
      "100%|████████████████████████████████████████████████████████████████████████████████████| 76625/76625 [06:48<00:00, 187.52it/s]\n"
     ]
    },
    {
     "name": "stdout",
     "output_type": "stream",
     "text": [
      "Falsas anomalias: 48076\n",
      "Acuracia: 0.37258075040783034\n",
      "gamma=0.5 nu=0.7 falsas_anomalias=48076 acuracia=0.37258075040783034\n"
     ]
    },
    {
     "name": "stderr",
     "output_type": "stream",
     "text": [
      "100%|████████████████████████████████████████████████████████████████████████████████████| 76625/76625 [07:40<00:00, 166.37it/s]\n"
     ]
    },
    {
     "name": "stdout",
     "output_type": "stream",
     "text": [
      "Falsas anomalias: 32232\n",
      "Acuracia: 0.5793539967373573\n",
      "gamma=0.5 nu=0.8 falsas_anomalias=32232 acuracia=0.5793539967373573\n"
     ]
    },
    {
     "name": "stderr",
     "output_type": "stream",
     "text": [
      "100%|████████████████████████████████████████████████████████████████████████████████████| 76625/76625 [08:23<00:00, 152.33it/s]\n"
     ]
    },
    {
     "name": "stdout",
     "output_type": "stream",
     "text": [
      "Falsas anomalias: 48998\n",
      "Acuracia: 0.36054812398042413\n",
      "gamma=0.5 nu=0.9 falsas_anomalias=48998 acuracia=0.36054812398042413\n"
     ]
    },
    {
     "name": "stderr",
     "output_type": "stream",
     "text": [
      "100%|████████████████████████████████████████████████████████████████████████████████████| 76625/76625 [02:52<00:00, 444.35it/s]\n"
     ]
    },
    {
     "name": "stdout",
     "output_type": "stream",
     "text": [
      "Falsas anomalias: 35029\n",
      "Acuracia: 0.5428515497553018\n",
      "gamma=0.4 nu=0.1 falsas_anomalias=35029 acuracia=0.5428515497553018\n"
     ]
    },
    {
     "name": "stderr",
     "output_type": "stream",
     "text": [
      "100%|████████████████████████████████████████████████████████████████████████████████████| 76625/76625 [03:20<00:00, 382.15it/s]\n"
     ]
    },
    {
     "name": "stdout",
     "output_type": "stream",
     "text": [
      "Falsas anomalias: 12443\n",
      "Acuracia: 0.8376117455138662\n",
      "gamma=0.4 nu=0.2 falsas_anomalias=12443 acuracia=0.8376117455138662\n"
     ]
    },
    {
     "name": "stderr",
     "output_type": "stream",
     "text": [
      "100%|████████████████████████████████████████████████████████████████████████████████████| 76625/76625 [04:04<00:00, 313.85it/s]\n"
     ]
    },
    {
     "name": "stdout",
     "output_type": "stream",
     "text": [
      "Falsas anomalias: 14057\n",
      "Acuracia: 0.8165481239804242\n",
      "gamma=0.4 nu=0.3 falsas_anomalias=14057 acuracia=0.8165481239804242\n"
     ]
    },
    {
     "name": "stderr",
     "output_type": "stream",
     "text": [
      "100%|████████████████████████████████████████████████████████████████████████████████████| 76625/76625 [04:42<00:00, 271.10it/s]\n"
     ]
    },
    {
     "name": "stdout",
     "output_type": "stream",
     "text": [
      "Falsas anomalias: 56064\n",
      "Acuracia: 0.2683327895595432\n",
      "gamma=0.4 nu=0.4 falsas_anomalias=56064 acuracia=0.2683327895595432\n"
     ]
    },
    {
     "name": "stderr",
     "output_type": "stream",
     "text": [
      "100%|████████████████████████████████████████████████████████████████████████████████████| 76625/76625 [05:06<00:00, 249.97it/s]\n"
     ]
    },
    {
     "name": "stdout",
     "output_type": "stream",
     "text": [
      "Falsas anomalias: 30924\n",
      "Acuracia: 0.5964241435562806\n",
      "gamma=0.4 nu=0.5 falsas_anomalias=30924 acuracia=0.5964241435562806\n"
     ]
    },
    {
     "name": "stderr",
     "output_type": "stream",
     "text": [
      "100%|████████████████████████████████████████████████████████████████████████████████████| 76625/76625 [05:54<00:00, 215.93it/s]\n"
     ]
    },
    {
     "name": "stdout",
     "output_type": "stream",
     "text": [
      "Falsas anomalias: 31310\n",
      "Acuracia: 0.5913866231647635\n",
      "gamma=0.4 nu=0.6 falsas_anomalias=31310 acuracia=0.5913866231647635\n"
     ]
    },
    {
     "name": "stderr",
     "output_type": "stream",
     "text": [
      "100%|████████████████████████████████████████████████████████████████████████████████████| 76625/76625 [07:13<00:00, 176.80it/s]\n"
     ]
    },
    {
     "name": "stdout",
     "output_type": "stream",
     "text": [
      "Falsas anomalias: 48076\n",
      "Acuracia: 0.37258075040783034\n",
      "gamma=0.4 nu=0.7 falsas_anomalias=48076 acuracia=0.37258075040783034\n"
     ]
    },
    {
     "name": "stderr",
     "output_type": "stream",
     "text": [
      "100%|████████████████████████████████████████████████████████████████████████████████████| 76625/76625 [07:41<00:00, 166.16it/s]\n"
     ]
    },
    {
     "name": "stdout",
     "output_type": "stream",
     "text": [
      "Falsas anomalias: 32232\n",
      "Acuracia: 0.5793539967373573\n",
      "gamma=0.4 nu=0.8 falsas_anomalias=32232 acuracia=0.5793539967373573\n"
     ]
    },
    {
     "name": "stderr",
     "output_type": "stream",
     "text": [
      "100%|████████████████████████████████████████████████████████████████████████████████████| 76625/76625 [08:28<00:00, 150.76it/s]\n"
     ]
    },
    {
     "name": "stdout",
     "output_type": "stream",
     "text": [
      "Falsas anomalias: 48998\n",
      "Acuracia: 0.36054812398042413\n",
      "gamma=0.4 nu=0.9 falsas_anomalias=48998 acuracia=0.36054812398042413\n"
     ]
    },
    {
     "name": "stderr",
     "output_type": "stream",
     "text": [
      "100%|████████████████████████████████████████████████████████████████████████████████████| 76625/76625 [03:16<00:00, 390.92it/s]\n"
     ]
    },
    {
     "name": "stdout",
     "output_type": "stream",
     "text": [
      "Falsas anomalias: 35029\n",
      "Acuracia: 0.5428515497553018\n",
      "gamma=0.3 nu=0.1 falsas_anomalias=35029 acuracia=0.5428515497553018\n"
     ]
    },
    {
     "name": "stderr",
     "output_type": "stream",
     "text": [
      "100%|████████████████████████████████████████████████████████████████████████████████████| 76625/76625 [03:39<00:00, 349.12it/s]\n"
     ]
    },
    {
     "name": "stdout",
     "output_type": "stream",
     "text": [
      "Falsas anomalias: 12443\n",
      "Acuracia: 0.8376117455138662\n",
      "gamma=0.3 nu=0.2 falsas_anomalias=12443 acuracia=0.8376117455138662\n"
     ]
    },
    {
     "name": "stderr",
     "output_type": "stream",
     "text": [
      "100%|████████████████████████████████████████████████████████████████████████████████████| 76625/76625 [04:17<00:00, 297.31it/s]\n"
     ]
    },
    {
     "name": "stdout",
     "output_type": "stream",
     "text": [
      "Falsas anomalias: 14057\n",
      "Acuracia: 0.8165481239804242\n",
      "gamma=0.3 nu=0.3 falsas_anomalias=14057 acuracia=0.8165481239804242\n"
     ]
    },
    {
     "name": "stderr",
     "output_type": "stream",
     "text": [
      "100%|████████████████████████████████████████████████████████████████████████████████████| 76625/76625 [04:52<00:00, 261.89it/s]\n"
     ]
    },
    {
     "name": "stdout",
     "output_type": "stream",
     "text": [
      "Falsas anomalias: 56064\n",
      "Acuracia: 0.2683327895595432\n",
      "gamma=0.3 nu=0.4 falsas_anomalias=56064 acuracia=0.2683327895595432\n"
     ]
    },
    {
     "name": "stderr",
     "output_type": "stream",
     "text": [
      "100%|████████████████████████████████████████████████████████████████████████████████████| 76625/76625 [05:07<00:00, 249.50it/s]\n"
     ]
    },
    {
     "name": "stdout",
     "output_type": "stream",
     "text": [
      "Falsas anomalias: 30924\n",
      "Acuracia: 0.5964241435562806\n",
      "gamma=0.3 nu=0.5 falsas_anomalias=30924 acuracia=0.5964241435562806\n"
     ]
    },
    {
     "name": "stderr",
     "output_type": "stream",
     "text": [
      "100%|████████████████████████████████████████████████████████████████████████████████████| 76625/76625 [06:22<00:00, 200.15it/s]\n"
     ]
    },
    {
     "name": "stdout",
     "output_type": "stream",
     "text": [
      "Falsas anomalias: 31310\n",
      "Acuracia: 0.5913866231647635\n",
      "gamma=0.3 nu=0.6 falsas_anomalias=31310 acuracia=0.5913866231647635\n"
     ]
    },
    {
     "name": "stderr",
     "output_type": "stream",
     "text": [
      "100%|████████████████████████████████████████████████████████████████████████████████████| 76625/76625 [06:57<00:00, 183.44it/s]\n"
     ]
    },
    {
     "name": "stdout",
     "output_type": "stream",
     "text": [
      "Falsas anomalias: 48076\n",
      "Acuracia: 0.37258075040783034\n",
      "gamma=0.3 nu=0.7 falsas_anomalias=48076 acuracia=0.37258075040783034\n"
     ]
    },
    {
     "name": "stderr",
     "output_type": "stream",
     "text": [
      "100%|████████████████████████████████████████████████████████████████████████████████████| 76625/76625 [08:00<00:00, 159.34it/s]\n"
     ]
    },
    {
     "name": "stdout",
     "output_type": "stream",
     "text": [
      "Falsas anomalias: 32232\n",
      "Acuracia: 0.5793539967373573\n",
      "gamma=0.3 nu=0.8 falsas_anomalias=32232 acuracia=0.5793539967373573\n"
     ]
    },
    {
     "name": "stderr",
     "output_type": "stream",
     "text": [
      "100%|████████████████████████████████████████████████████████████████████████████████████| 76625/76625 [08:57<00:00, 142.44it/s]\n"
     ]
    },
    {
     "name": "stdout",
     "output_type": "stream",
     "text": [
      "Falsas anomalias: 48998\n",
      "Acuracia: 0.36054812398042413\n",
      "gamma=0.3 nu=0.9 falsas_anomalias=48998 acuracia=0.36054812398042413\n"
     ]
    },
    {
     "name": "stderr",
     "output_type": "stream",
     "text": [
      "100%|████████████████████████████████████████████████████████████████████████████████████| 76625/76625 [03:27<00:00, 369.57it/s]\n"
     ]
    },
    {
     "name": "stdout",
     "output_type": "stream",
     "text": [
      "Falsas anomalias: 35029\n",
      "Acuracia: 0.5428515497553018\n",
      "gamma=0.2 nu=0.1 falsas_anomalias=35029 acuracia=0.5428515497553018\n"
     ]
    },
    {
     "name": "stderr",
     "output_type": "stream",
     "text": [
      "100%|████████████████████████████████████████████████████████████████████████████████████| 76625/76625 [04:03<00:00, 314.94it/s]\n"
     ]
    },
    {
     "name": "stdout",
     "output_type": "stream",
     "text": [
      "Falsas anomalias: 12443\n",
      "Acuracia: 0.8376117455138662\n",
      "gamma=0.2 nu=0.2 falsas_anomalias=12443 acuracia=0.8376117455138662\n"
     ]
    },
    {
     "name": "stderr",
     "output_type": "stream",
     "text": [
      "100%|████████████████████████████████████████████████████████████████████████████████████| 76625/76625 [04:34<00:00, 278.77it/s]\n"
     ]
    },
    {
     "name": "stdout",
     "output_type": "stream",
     "text": [
      "Falsas anomalias: 14057\n",
      "Acuracia: 0.8165481239804242\n",
      "gamma=0.2 nu=0.3 falsas_anomalias=14057 acuracia=0.8165481239804242\n"
     ]
    },
    {
     "name": "stderr",
     "output_type": "stream",
     "text": [
      "100%|████████████████████████████████████████████████████████████████████████████████████| 76625/76625 [04:59<00:00, 255.72it/s]\n"
     ]
    },
    {
     "name": "stdout",
     "output_type": "stream",
     "text": [
      "Falsas anomalias: 56064\n",
      "Acuracia: 0.2683327895595432\n",
      "gamma=0.2 nu=0.4 falsas_anomalias=56064 acuracia=0.2683327895595432\n"
     ]
    },
    {
     "name": "stderr",
     "output_type": "stream",
     "text": [
      "100%|████████████████████████████████████████████████████████████████████████████████████| 76625/76625 [05:12<00:00, 244.83it/s]\n"
     ]
    },
    {
     "name": "stdout",
     "output_type": "stream",
     "text": [
      "Falsas anomalias: 30924\n",
      "Acuracia: 0.5964241435562806\n",
      "gamma=0.2 nu=0.5 falsas_anomalias=30924 acuracia=0.5964241435562806\n"
     ]
    },
    {
     "name": "stderr",
     "output_type": "stream",
     "text": [
      "100%|████████████████████████████████████████████████████████████████████████████████████| 76625/76625 [06:08<00:00, 207.72it/s]\n"
     ]
    },
    {
     "name": "stdout",
     "output_type": "stream",
     "text": [
      "Falsas anomalias: 31310\n",
      "Acuracia: 0.5913866231647635\n",
      "gamma=0.2 nu=0.6 falsas_anomalias=31310 acuracia=0.5913866231647635\n"
     ]
    },
    {
     "name": "stderr",
     "output_type": "stream",
     "text": [
      "100%|████████████████████████████████████████████████████████████████████████████████████| 76625/76625 [07:13<00:00, 176.86it/s]\n"
     ]
    },
    {
     "name": "stdout",
     "output_type": "stream",
     "text": [
      "Falsas anomalias: 48076\n",
      "Acuracia: 0.37258075040783034\n",
      "gamma=0.2 nu=0.7 falsas_anomalias=48076 acuracia=0.37258075040783034\n"
     ]
    },
    {
     "name": "stderr",
     "output_type": "stream",
     "text": [
      "100%|████████████████████████████████████████████████████████████████████████████████████| 76625/76625 [08:22<00:00, 152.59it/s]\n"
     ]
    },
    {
     "name": "stdout",
     "output_type": "stream",
     "text": [
      "Falsas anomalias: 32232\n",
      "Acuracia: 0.5793539967373573\n",
      "gamma=0.2 nu=0.8 falsas_anomalias=32232 acuracia=0.5793539967373573\n"
     ]
    },
    {
     "name": "stderr",
     "output_type": "stream",
     "text": [
      "100%|████████████████████████████████████████████████████████████████████████████████████| 76625/76625 [09:22<00:00, 136.11it/s]\n"
     ]
    },
    {
     "name": "stdout",
     "output_type": "stream",
     "text": [
      "Falsas anomalias: 48998\n",
      "Acuracia: 0.36054812398042413\n",
      "gamma=0.2 nu=0.9 falsas_anomalias=48998 acuracia=0.36054812398042413\n"
     ]
    },
    {
     "name": "stderr",
     "output_type": "stream",
     "text": [
      "100%|████████████████████████████████████████████████████████████████████████████████████| 76625/76625 [03:34<00:00, 357.28it/s]\n"
     ]
    },
    {
     "name": "stdout",
     "output_type": "stream",
     "text": [
      "Falsas anomalias: 35029\n",
      "Acuracia: 0.5428515497553018\n",
      "gamma=0.1 nu=0.1 falsas_anomalias=35029 acuracia=0.5428515497553018\n"
     ]
    },
    {
     "name": "stderr",
     "output_type": "stream",
     "text": [
      "100%|████████████████████████████████████████████████████████████████████████████████████| 76625/76625 [04:02<00:00, 315.45it/s]\n"
     ]
    },
    {
     "name": "stdout",
     "output_type": "stream",
     "text": [
      "Falsas anomalias: 12443\n",
      "Acuracia: 0.8376117455138662\n",
      "gamma=0.1 nu=0.2 falsas_anomalias=12443 acuracia=0.8376117455138662\n"
     ]
    },
    {
     "name": "stderr",
     "output_type": "stream",
     "text": [
      "100%|████████████████████████████████████████████████████████████████████████████████████| 76625/76625 [04:15<00:00, 300.24it/s]\n"
     ]
    },
    {
     "name": "stdout",
     "output_type": "stream",
     "text": [
      "Falsas anomalias: 14057\n",
      "Acuracia: 0.8165481239804242\n",
      "gamma=0.1 nu=0.3 falsas_anomalias=14057 acuracia=0.8165481239804242\n"
     ]
    },
    {
     "name": "stderr",
     "output_type": "stream",
     "text": [
      "100%|████████████████████████████████████████████████████████████████████████████████████| 76625/76625 [05:06<00:00, 250.40it/s]\n"
     ]
    },
    {
     "name": "stdout",
     "output_type": "stream",
     "text": [
      "Falsas anomalias: 56064\n",
      "Acuracia: 0.2683327895595432\n",
      "gamma=0.1 nu=0.4 falsas_anomalias=56064 acuracia=0.2683327895595432\n"
     ]
    },
    {
     "name": "stderr",
     "output_type": "stream",
     "text": [
      "100%|████████████████████████████████████████████████████████████████████████████████████| 76625/76625 [05:50<00:00, 218.33it/s]\n"
     ]
    },
    {
     "name": "stdout",
     "output_type": "stream",
     "text": [
      "Falsas anomalias: 30924\n",
      "Acuracia: 0.5964241435562806\n",
      "gamma=0.1 nu=0.5 falsas_anomalias=30924 acuracia=0.5964241435562806\n"
     ]
    },
    {
     "name": "stderr",
     "output_type": "stream",
     "text": [
      "100%|████████████████████████████████████████████████████████████████████████████████████| 76625/76625 [06:46<00:00, 188.46it/s]\n"
     ]
    },
    {
     "name": "stdout",
     "output_type": "stream",
     "text": [
      "Falsas anomalias: 31310\n",
      "Acuracia: 0.5913866231647635\n",
      "gamma=0.1 nu=0.6 falsas_anomalias=31310 acuracia=0.5913866231647635\n"
     ]
    },
    {
     "name": "stderr",
     "output_type": "stream",
     "text": [
      "100%|████████████████████████████████████████████████████████████████████████████████████| 76625/76625 [07:48<00:00, 163.62it/s]\n"
     ]
    },
    {
     "name": "stdout",
     "output_type": "stream",
     "text": [
      "Falsas anomalias: 48076\n",
      "Acuracia: 0.37258075040783034\n",
      "gamma=0.1 nu=0.7 falsas_anomalias=48076 acuracia=0.37258075040783034\n"
     ]
    },
    {
     "name": "stderr",
     "output_type": "stream",
     "text": [
      "100%|████████████████████████████████████████████████████████████████████████████████████| 76625/76625 [08:37<00:00, 148.15it/s]\n"
     ]
    },
    {
     "name": "stdout",
     "output_type": "stream",
     "text": [
      "Falsas anomalias: 32232\n",
      "Acuracia: 0.5793539967373573\n",
      "gamma=0.1 nu=0.8 falsas_anomalias=32232 acuracia=0.5793539967373573\n"
     ]
    },
    {
     "name": "stderr",
     "output_type": "stream",
     "text": [
      "100%|████████████████████████████████████████████████████████████████████████████████████| 76625/76625 [09:31<00:00, 134.13it/s]\n"
     ]
    },
    {
     "name": "stdout",
     "output_type": "stream",
     "text": [
      "Falsas anomalias: 48998\n",
      "Acuracia: 0.36054812398042413\n",
      "gamma=0.1 nu=0.9 falsas_anomalias=48998 acuracia=0.36054812398042413\n"
     ]
    },
    {
     "name": "stderr",
     "output_type": "stream",
     "text": [
      "100%|████████████████████████████████████████████████████████████████████████████████████| 76625/76625 [03:26<00:00, 371.76it/s]\n"
     ]
    },
    {
     "name": "stdout",
     "output_type": "stream",
     "text": [
      "Falsas anomalias: 35029\n",
      "Acuracia: 0.5428515497553018\n",
      "gamma=0.01 nu=0.1 falsas_anomalias=35029 acuracia=0.5428515497553018\n"
     ]
    },
    {
     "name": "stderr",
     "output_type": "stream",
     "text": [
      "100%|████████████████████████████████████████████████████████████████████████████████████| 76625/76625 [04:10<00:00, 306.41it/s]\n"
     ]
    },
    {
     "name": "stdout",
     "output_type": "stream",
     "text": [
      "Falsas anomalias: 12443\n",
      "Acuracia: 0.8376117455138662\n",
      "gamma=0.01 nu=0.2 falsas_anomalias=12443 acuracia=0.8376117455138662\n"
     ]
    },
    {
     "name": "stderr",
     "output_type": "stream",
     "text": [
      "100%|████████████████████████████████████████████████████████████████████████████████████| 76625/76625 [04:34<00:00, 279.46it/s]\n"
     ]
    },
    {
     "name": "stdout",
     "output_type": "stream",
     "text": [
      "Falsas anomalias: 14057\n",
      "Acuracia: 0.8165481239804242\n",
      "gamma=0.01 nu=0.3 falsas_anomalias=14057 acuracia=0.8165481239804242\n"
     ]
    },
    {
     "name": "stderr",
     "output_type": "stream",
     "text": [
      "100%|████████████████████████████████████████████████████████████████████████████████████| 76625/76625 [05:14<00:00, 244.02it/s]\n"
     ]
    },
    {
     "name": "stdout",
     "output_type": "stream",
     "text": [
      "Falsas anomalias: 56064\n",
      "Acuracia: 0.2683327895595432\n",
      "gamma=0.01 nu=0.4 falsas_anomalias=56064 acuracia=0.2683327895595432\n"
     ]
    },
    {
     "name": "stderr",
     "output_type": "stream",
     "text": [
      "100%|████████████████████████████████████████████████████████████████████████████████████| 76625/76625 [06:00<00:00, 212.80it/s]\n"
     ]
    },
    {
     "name": "stdout",
     "output_type": "stream",
     "text": [
      "Falsas anomalias: 30924\n",
      "Acuracia: 0.5964241435562806\n",
      "gamma=0.01 nu=0.5 falsas_anomalias=30924 acuracia=0.5964241435562806\n"
     ]
    },
    {
     "name": "stderr",
     "output_type": "stream",
     "text": [
      "100%|████████████████████████████████████████████████████████████████████████████████████| 76625/76625 [06:52<00:00, 185.78it/s]\n"
     ]
    },
    {
     "name": "stdout",
     "output_type": "stream",
     "text": [
      "Falsas anomalias: 31310\n",
      "Acuracia: 0.5913866231647635\n",
      "gamma=0.01 nu=0.6 falsas_anomalias=31310 acuracia=0.5913866231647635\n"
     ]
    },
    {
     "name": "stderr",
     "output_type": "stream",
     "text": [
      "100%|████████████████████████████████████████████████████████████████████████████████████| 76625/76625 [05:28<00:00, 233.15it/s]\n"
     ]
    },
    {
     "name": "stdout",
     "output_type": "stream",
     "text": [
      "Falsas anomalias: 48076\n",
      "Acuracia: 0.37258075040783034\n",
      "gamma=0.01 nu=0.7 falsas_anomalias=48076 acuracia=0.37258075040783034\n"
     ]
    },
    {
     "name": "stderr",
     "output_type": "stream",
     "text": [
      "100%|████████████████████████████████████████████████████████████████████████████████████| 76625/76625 [06:11<00:00, 206.11it/s]\n"
     ]
    },
    {
     "name": "stdout",
     "output_type": "stream",
     "text": [
      "Falsas anomalias: 32232\n",
      "Acuracia: 0.5793539967373573\n",
      "gamma=0.01 nu=0.8 falsas_anomalias=32232 acuracia=0.5793539967373573\n"
     ]
    },
    {
     "name": "stderr",
     "output_type": "stream",
     "text": [
      "100%|████████████████████████████████████████████████████████████████████████████████████| 76625/76625 [06:59<00:00, 182.59it/s]\n"
     ]
    },
    {
     "name": "stdout",
     "output_type": "stream",
     "text": [
      "Falsas anomalias: 48998\n",
      "Acuracia: 0.36054812398042413\n",
      "gamma=0.01 nu=0.9 falsas_anomalias=48998 acuracia=0.36054812398042413\n"
     ]
    },
    {
     "name": "stderr",
     "output_type": "stream",
     "text": [
      "100%|████████████████████████████████████████████████████████████████████████████████████| 76625/76625 [02:58<00:00, 428.14it/s]\n"
     ]
    },
    {
     "name": "stdout",
     "output_type": "stream",
     "text": [
      "Falsas anomalias: 35029\n",
      "Acuracia: 0.5428515497553018\n",
      "gamma=0.001 nu=0.1 falsas_anomalias=35029 acuracia=0.5428515497553018\n"
     ]
    },
    {
     "name": "stderr",
     "output_type": "stream",
     "text": [
      "100%|████████████████████████████████████████████████████████████████████████████████████| 76625/76625 [03:36<00:00, 354.16it/s]\n"
     ]
    },
    {
     "name": "stdout",
     "output_type": "stream",
     "text": [
      "Falsas anomalias: 12443\n",
      "Acuracia: 0.8376117455138662\n",
      "gamma=0.001 nu=0.2 falsas_anomalias=12443 acuracia=0.8376117455138662\n"
     ]
    },
    {
     "name": "stderr",
     "output_type": "stream",
     "text": [
      "100%|████████████████████████████████████████████████████████████████████████████████████| 76625/76625 [04:02<00:00, 315.95it/s]\n"
     ]
    },
    {
     "name": "stdout",
     "output_type": "stream",
     "text": [
      "Falsas anomalias: 14057\n",
      "Acuracia: 0.8165481239804242\n",
      "gamma=0.001 nu=0.3 falsas_anomalias=14057 acuracia=0.8165481239804242\n"
     ]
    },
    {
     "name": "stderr",
     "output_type": "stream",
     "text": [
      "100%|████████████████████████████████████████████████████████████████████████████████████| 76625/76625 [04:39<00:00, 274.07it/s]\n"
     ]
    },
    {
     "name": "stdout",
     "output_type": "stream",
     "text": [
      "Falsas anomalias: 56064\n",
      "Acuracia: 0.2683327895595432\n",
      "gamma=0.001 nu=0.4 falsas_anomalias=56064 acuracia=0.2683327895595432\n"
     ]
    },
    {
     "name": "stderr",
     "output_type": "stream",
     "text": [
      "100%|████████████████████████████████████████████████████████████████████████████████████| 76625/76625 [05:02<00:00, 253.08it/s]\n"
     ]
    },
    {
     "name": "stdout",
     "output_type": "stream",
     "text": [
      "Falsas anomalias: 30924\n",
      "Acuracia: 0.5964241435562806\n",
      "gamma=0.001 nu=0.5 falsas_anomalias=30924 acuracia=0.5964241435562806\n"
     ]
    },
    {
     "name": "stderr",
     "output_type": "stream",
     "text": [
      "100%|████████████████████████████████████████████████████████████████████████████████████| 76625/76625 [06:06<00:00, 209.36it/s]\n"
     ]
    },
    {
     "name": "stdout",
     "output_type": "stream",
     "text": [
      "Falsas anomalias: 31310\n",
      "Acuracia: 0.5913866231647635\n",
      "gamma=0.001 nu=0.6 falsas_anomalias=31310 acuracia=0.5913866231647635\n"
     ]
    },
    {
     "name": "stderr",
     "output_type": "stream",
     "text": [
      "100%|████████████████████████████████████████████████████████████████████████████████████| 76625/76625 [07:04<00:00, 180.33it/s]\n"
     ]
    },
    {
     "name": "stdout",
     "output_type": "stream",
     "text": [
      "Falsas anomalias: 48076\n",
      "Acuracia: 0.37258075040783034\n",
      "gamma=0.001 nu=0.7 falsas_anomalias=48076 acuracia=0.37258075040783034\n"
     ]
    },
    {
     "name": "stderr",
     "output_type": "stream",
     "text": [
      "100%|████████████████████████████████████████████████████████████████████████████████████| 76625/76625 [07:55<00:00, 161.03it/s]\n"
     ]
    },
    {
     "name": "stdout",
     "output_type": "stream",
     "text": [
      "Falsas anomalias: 32232\n",
      "Acuracia: 0.5793539967373573\n",
      "gamma=0.001 nu=0.8 falsas_anomalias=32232 acuracia=0.5793539967373573\n"
     ]
    },
    {
     "name": "stderr",
     "output_type": "stream",
     "text": [
      "100%|████████████████████████████████████████████████████████████████████████████████████| 76625/76625 [09:09<00:00, 139.42it/s]"
     ]
    },
    {
     "name": "stdout",
     "output_type": "stream",
     "text": [
      "Falsas anomalias: 48998\n",
      "Acuracia: 0.36054812398042413\n",
      "gamma=0.001 nu=0.9 falsas_anomalias=48998 acuracia=0.36054812398042413\n",
      "CPU times: user 16h 22min 54s, sys: 4min 23s, total: 16h 27min 17s\n",
      "Wall time: 16h 33min 27s\n"
     ]
    },
    {
     "name": "stderr",
     "output_type": "stream",
     "text": [
      "\n"
     ]
    }
   ],
   "source": [
    "%%time\n",
    "from tqdm import tqdm\n",
    "import os\n",
    "import glob\n",
    "from sklearn import svm\n",
    "\n",
    "corpus = glob.glob(os.path.join(root_dir, tipo_log, '*'))\n",
    "print(f'Quantidade de arquivos: {len(corpus)}')\n",
    "\n",
    "gammas    = [.9, .8, .7, .6, .5, .4, .3, .2, .1, .01, .001]\n",
    "nus       = [.1, .2, .3, .4, .5, .6, .7, .8, .9]\n",
    "resultado = []\n",
    "\n",
    "for gamma in gammas:\n",
    "    for nu in nus:\n",
    "        oneclass = svm.OneClassSVM(kernel='linear', gamma=gamma, nu=nu)\n",
    "        oneclass.fit(X)\n",
    "        #\n",
    "        predicoes = []\n",
    "        for arq in tqdm(corpus):\n",
    "            X_validar = vectorizer.transform([arq])\n",
    "            predicao = oneclass.predict(X_validar)\n",
    "            predicoes.append(predicao[0])\n",
    "            \n",
    "        falsas_anomalias = predicoes.count(-1)\n",
    "        acuracia         = 1-(predicoes.count(-1)/len(predicoes))\n",
    "        print(f'Falsas anomalias: {falsas_anomalias}')\n",
    "        print(f'Acuracia: {acuracia}')\n",
    "        #\n",
    "        resultado.append([gamma, nu, falsas_anomalias, acuracia])\n",
    "        print(f'gamma={gamma} nu={nu} falsas_anomalias={falsas_anomalias} acuracia={acuracia}')"
   ]
  },
  {
   "cell_type": "code",
   "execution_count": 4,
   "id": "ac298692-c88e-45c7-890b-5469a10b1326",
   "metadata": {},
   "outputs": [
    {
     "name": "stdout",
     "output_type": "stream",
     "text": [
      "0.9;0.1;35029;0.5428515497553018;\n",
      "0.9;0.2;12443;0.8376117455138662;\n",
      "0.9;0.3;14057;0.8165481239804242;\n",
      "0.9;0.4;56064;0.2683327895595432;\n",
      "0.9;0.5;30924;0.5964241435562806;\n",
      "0.9;0.6;31310;0.5913866231647635;\n",
      "0.9;0.7;48076;0.37258075040783034;\n",
      "0.9;0.8;32232;0.5793539967373573;\n",
      "0.9;0.9;48998;0.36054812398042413;\n",
      "0.8;0.1;35029;0.5428515497553018;\n",
      "0.8;0.2;12443;0.8376117455138662;\n",
      "0.8;0.3;14057;0.8165481239804242;\n",
      "0.8;0.4;56064;0.2683327895595432;\n",
      "0.8;0.5;30924;0.5964241435562806;\n",
      "0.8;0.6;31310;0.5913866231647635;\n",
      "0.8;0.7;48076;0.37258075040783034;\n",
      "0.8;0.8;32232;0.5793539967373573;\n",
      "0.8;0.9;48998;0.36054812398042413;\n",
      "0.7;0.1;35029;0.5428515497553018;\n",
      "0.7;0.2;12443;0.8376117455138662;\n",
      "0.7;0.3;14057;0.8165481239804242;\n",
      "0.7;0.4;56064;0.2683327895595432;\n",
      "0.7;0.5;30924;0.5964241435562806;\n",
      "0.7;0.6;31310;0.5913866231647635;\n",
      "0.7;0.7;48076;0.37258075040783034;\n",
      "0.7;0.8;32232;0.5793539967373573;\n",
      "0.7;0.9;48998;0.36054812398042413;\n",
      "0.6;0.1;35029;0.5428515497553018;\n",
      "0.6;0.2;12443;0.8376117455138662;\n",
      "0.6;0.3;14057;0.8165481239804242;\n",
      "0.6;0.4;56064;0.2683327895595432;\n",
      "0.6;0.5;30924;0.5964241435562806;\n",
      "0.6;0.6;31310;0.5913866231647635;\n",
      "0.6;0.7;48076;0.37258075040783034;\n",
      "0.6;0.8;32232;0.5793539967373573;\n",
      "0.6;0.9;48998;0.36054812398042413;\n",
      "0.5;0.1;35029;0.5428515497553018;\n",
      "0.5;0.2;12443;0.8376117455138662;\n",
      "0.5;0.3;14057;0.8165481239804242;\n",
      "0.5;0.4;56064;0.2683327895595432;\n",
      "0.5;0.5;30924;0.5964241435562806;\n",
      "0.5;0.6;31310;0.5913866231647635;\n",
      "0.5;0.7;48076;0.37258075040783034;\n",
      "0.5;0.8;32232;0.5793539967373573;\n",
      "0.5;0.9;48998;0.36054812398042413;\n",
      "0.4;0.1;35029;0.5428515497553018;\n",
      "0.4;0.2;12443;0.8376117455138662;\n",
      "0.4;0.3;14057;0.8165481239804242;\n",
      "0.4;0.4;56064;0.2683327895595432;\n",
      "0.4;0.5;30924;0.5964241435562806;\n",
      "0.4;0.6;31310;0.5913866231647635;\n",
      "0.4;0.7;48076;0.37258075040783034;\n",
      "0.4;0.8;32232;0.5793539967373573;\n",
      "0.4;0.9;48998;0.36054812398042413;\n",
      "0.3;0.1;35029;0.5428515497553018;\n",
      "0.3;0.2;12443;0.8376117455138662;\n",
      "0.3;0.3;14057;0.8165481239804242;\n",
      "0.3;0.4;56064;0.2683327895595432;\n",
      "0.3;0.5;30924;0.5964241435562806;\n",
      "0.3;0.6;31310;0.5913866231647635;\n",
      "0.3;0.7;48076;0.37258075040783034;\n",
      "0.3;0.8;32232;0.5793539967373573;\n",
      "0.3;0.9;48998;0.36054812398042413;\n",
      "0.2;0.1;35029;0.5428515497553018;\n",
      "0.2;0.2;12443;0.8376117455138662;\n",
      "0.2;0.3;14057;0.8165481239804242;\n",
      "0.2;0.4;56064;0.2683327895595432;\n",
      "0.2;0.5;30924;0.5964241435562806;\n",
      "0.2;0.6;31310;0.5913866231647635;\n",
      "0.2;0.7;48076;0.37258075040783034;\n",
      "0.2;0.8;32232;0.5793539967373573;\n",
      "0.2;0.9;48998;0.36054812398042413;\n",
      "0.1;0.1;35029;0.5428515497553018;\n",
      "0.1;0.2;12443;0.8376117455138662;\n",
      "0.1;0.3;14057;0.8165481239804242;\n",
      "0.1;0.4;56064;0.2683327895595432;\n",
      "0.1;0.5;30924;0.5964241435562806;\n",
      "0.1;0.6;31310;0.5913866231647635;\n",
      "0.1;0.7;48076;0.37258075040783034;\n",
      "0.1;0.8;32232;0.5793539967373573;\n",
      "0.1;0.9;48998;0.36054812398042413;\n",
      "0.01;0.1;35029;0.5428515497553018;\n",
      "0.01;0.2;12443;0.8376117455138662;\n",
      "0.01;0.3;14057;0.8165481239804242;\n",
      "0.01;0.4;56064;0.2683327895595432;\n",
      "0.01;0.5;30924;0.5964241435562806;\n",
      "0.01;0.6;31310;0.5913866231647635;\n",
      "0.01;0.7;48076;0.37258075040783034;\n",
      "0.01;0.8;32232;0.5793539967373573;\n",
      "0.01;0.9;48998;0.36054812398042413;\n",
      "0.001;0.1;35029;0.5428515497553018;\n",
      "0.001;0.2;12443;0.8376117455138662;\n",
      "0.001;0.3;14057;0.8165481239804242;\n",
      "0.001;0.4;56064;0.2683327895595432;\n",
      "0.001;0.5;30924;0.5964241435562806;\n",
      "0.001;0.6;31310;0.5913866231647635;\n",
      "0.001;0.7;48076;0.37258075040783034;\n",
      "0.001;0.8;32232;0.5793539967373573;\n",
      "0.001;0.9;48998;0.36054812398042413;\n"
     ]
    }
   ],
   "source": [
    "for r in resultado:\n",
    "    print(f'{r[0]};{r[1]};{r[2]};{r[3]};')"
   ]
  },
  {
   "cell_type": "code",
   "execution_count": 3,
   "id": "189fa9e2-0294-4d65-b3d0-b07c2537e9b1",
   "metadata": {},
   "outputs": [
    {
     "name": "stdout",
     "output_type": "stream",
     "text": [
      "Quantidade de arquivos: 76625\n"
     ]
    },
    {
     "name": "stderr",
     "output_type": "stream",
     "text": [
      "100%|████████████████████████████████████████████████████████████████████████████████████| 76625/76625 [04:04<00:00, 313.34it/s]\n"
     ]
    }
   ],
   "source": [
    "## AVALIANDO O MODELO\n",
    "from tqdm import tqdm\n",
    "import os\n",
    "import glob\n",
    "\n",
    "corpus = glob.glob(os.path.join(root_dir, tipo_log, '*'))\n",
    "print(f'Quantidade de arquivos: {len(corpus)}')\n",
    "\n",
    "predicoes = []\n",
    "\n",
    "for arq in tqdm(corpus):\n",
    "    X_validar = vectorizer.transform([arq])\n",
    "    predicao = oneclass.predict(X_validar)\n",
    "    predicoes.append(predicao[0])\n"
   ]
  },
  {
   "cell_type": "code",
   "execution_count": 4,
   "id": "bf8f0584-37c2-4b1c-a676-d0b0c1a8276e",
   "metadata": {},
   "outputs": [
    {
     "name": "stdout",
     "output_type": "stream",
     "text": [
      "Falsas anomalias: 7904\n",
      "Acuracia: 0.8968482871125611\n"
     ]
    }
   ],
   "source": [
    "## Contagem de falsas anomalias\n",
    "# kernel='rbf', gamma=0.001, nu=0.4\n",
    "print(f'Falsas anomalias: {predicoes.count(-1)}')\n",
    "print(f'Acuracia: {1-(predicoes.count(-1)/len(predicoes))}')"
   ]
  },
  {
   "cell_type": "code",
   "execution_count": 5,
   "id": "de778c92-9b41-415a-9d64-aa17e12c5c3f",
   "metadata": {},
   "outputs": [
    {
     "name": "stdout",
     "output_type": "stream",
     "text": [
      "ALL PhysicalConnectionManager connections: active: 6, listening: 14, loopback: 2\n",
      "[-1]\n",
      "[array(['active', 'active listening', 'connections', 'connections active',\n",
      "       'listening', 'listening loopback', 'loopback',\n",
      "       'physicalconnectionmanager',\n",
      "       'physicalconnectionmanager connections'], dtype='<U54')]\n",
      "['/home/ricardo/pucrs/TCC/anomalias/anomalia.log']\n"
     ]
    }
   ],
   "source": [
    "import os\n",
    "\n",
    "log_path = os.path.join('/home/ricardo/pucrs/TCC/anomalias', 'anomalia.log')\n",
    "\n",
    "with open(log_path,'w') as file:\n",
    "    #file.write('this is a simple test for identification of the anomaly log entry.\\n')\n",
    "    file.write('ALL PhysicalConnectionManager connections: active: 6, listening: 14, loopback: 2')\n",
    "\n",
    "texto = [log_path]\n",
    "\n",
    "!cat {log_path}\n",
    "\n",
    "X_validar = vectorizer.transform(texto)\n",
    "X_inverse = vectorizer.inverse_transform(X_validar)\n",
    "\n",
    "predict = oneclass.predict(X_validar)\n",
    "print(f'\\n{predict}')\n",
    "print(X_inverse)\n",
    "print(texto)\n"
   ]
  }
 ],
 "metadata": {
  "kernelspec": {
   "display_name": "Python 3 (ipykernel)",
   "language": "python",
   "name": "python3"
  },
  "language_info": {
   "codemirror_mode": {
    "name": "ipython",
    "version": 3
   },
   "file_extension": ".py",
   "mimetype": "text/x-python",
   "name": "python",
   "nbconvert_exporter": "python",
   "pygments_lexer": "ipython3",
   "version": "3.10.12"
  }
 },
 "nbformat": 4,
 "nbformat_minor": 5
}
