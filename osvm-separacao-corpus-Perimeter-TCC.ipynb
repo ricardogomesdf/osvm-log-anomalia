{
 "cells": [
  {
   "cell_type": "code",
   "execution_count": null,
   "id": "874a05b1-3ccd-4a99-bb87-021f877afd60",
   "metadata": {},
   "outputs": [],
   "source": [
    "## Logs entre 2023/10/02 e 2023/10/08\n",
    "import pymongo\n",
    "import pandas as pd\n",
    "import datetime\n",
    "import shutil\n",
    "from tqdm import tqdm\n",
    "\n",
    "root_dir = '/home/ricardo/pucrs/TCC/logs-corpus/'\n",
    "\n",
    "tipo_log = 'Perimeter.log'\n",
    "\n",
    "myclient = pymongo.MongoClient(\"mongodb://localhost:27017/\")\n",
    "\n",
    "logdb = myclient[\"logdb\"]\n",
    "mycol = logdb[\"logs\"]\n",
    "\n",
    "path = os.path.join(root_dir, tipo_log)\n",
    "if os.path.exists(path):\n",
    "   shutil.rmtree(path)\n",
    "\n",
    "os.mkdir(path)    \n",
    "\n",
    "try:\n",
    "    \n",
    "    dt1 = datetime.datetime(2023, 10,  2,  0,  0,  0)\n",
    "    dt2 = datetime.datetime(2023, 10,  8, 23, 59, 59)\n",
    "    print(dt1,dt2)    \n",
    "\n",
    "    c1 = mycol.find(\n",
    "        {\n",
    "            'arq_nome': tipo_log,\n",
    "            'timestamp':{\"$gt\": dt1, \"$lt\": dt2}\n",
    "        },\n",
    "        {\n",
    "            'texto': 1\n",
    "        }\n",
    "    )\n",
    "\n",
    "    for document in tqdm(c1):\n",
    "        file = open(os.path.join(path,str(document['_id'])), 'w', encoding='utf-8') \n",
    "        try:\n",
    "            file.write(document['texto'])\n",
    "        finally:\n",
    "            file.close()\n",
    "\n",
    "finally:\n",
    "    myclient.close()\n"
   ]
  }
 ],
 "metadata": {
  "kernelspec": {
   "display_name": "Python 3 (ipykernel)",
   "language": "python",
   "name": "python3"
  },
  "language_info": {
   "codemirror_mode": {
    "name": "ipython",
    "version": 3
   },
   "file_extension": ".py",
   "mimetype": "text/x-python",
   "name": "python",
   "nbconvert_exporter": "python",
   "pygments_lexer": "ipython3",
   "version": "3.10.12"
  }
 },
 "nbformat": 4,
 "nbformat_minor": 5
}
