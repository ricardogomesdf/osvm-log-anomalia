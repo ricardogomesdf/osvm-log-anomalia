{
 "cells": [
  {
   "cell_type": "code",
   "execution_count": 1,
   "id": "a6b0683c-7de9-47b6-961f-4b91e1f713ec",
   "metadata": {},
   "outputs": [
    {
     "name": "stdout",
     "output_type": "stream",
     "text": [
      "Qtd documentos no corpus de Perimeter.log: 76625\n",
      "(76625, 23711)\n",
      "CPU times: user 2.26 s, sys: 894 ms, total: 3.15 s\n",
      "Wall time: 1.31 s\n"
     ]
    }
   ],
   "source": [
    "%%time\n",
    "import glob\n",
    "from time import time\n",
    "from sklearn.feature_extraction.text import TfidfVectorizer\n",
    "\n",
    "root_dir = '/home/ricardo/pucrs/TCC/logs-corpus/'\n",
    "tipo_log = 'Perimeter.log'\n",
    "\n",
    "corpus = glob.glob(os.path.join(root_dir, tipo_log, '*'))\n",
    "print(f'Qtd documentos no corpus de {tipo_log}: {len(corpus)}')\n",
    "vectorizer = TfidfVectorizer(input='filename', stop_words='english', smooth_idf = True, ngram_range=(1,1),\n",
    "                             token_pattern=r'(?u)\\b\\w*[a-zA-Z]\\w+\\b')\n",
    "X = vectorizer.fit_transform(corpus)\n",
    "\n",
    "#print(vectorizer.get_feature_names_out())\n",
    "print(X.shape)"
   ]
  },
  {
   "cell_type": "code",
   "execution_count": 2,
   "id": "c9906632-0eda-4de6-be22-cbc13952fce6",
   "metadata": {},
   "outputs": [
    {
     "name": "stdout",
     "output_type": "stream",
     "text": [
      "Quantidade de arquivos: 76625\n"
     ]
    },
    {
     "name": "stderr",
     "output_type": "stream",
     "text": [
      "100%|████████████████████████████████████████████████████████████████████████████████████| 76625/76625 [03:04<00:00, 414.79it/s]\n"
     ]
    },
    {
     "name": "stdout",
     "output_type": "stream",
     "text": [
      "Falsas anomalias: 19824\n",
      "Acuracia: 0.7412854812398042\n",
      "gamma=1 nu=0.1 falsas_anomalias=19824 acuracia=0.7412854812398042\n"
     ]
    },
    {
     "name": "stderr",
     "output_type": "stream",
     "text": [
      "100%|████████████████████████████████████████████████████████████████████████████████████| 76625/76625 [02:50<00:00, 450.23it/s]\n"
     ]
    },
    {
     "name": "stdout",
     "output_type": "stream",
     "text": [
      "Falsas anomalias: 15725\n",
      "Acuracia: 0.7947797716150081\n",
      "gamma=1 nu=0.2 falsas_anomalias=15725 acuracia=0.7947797716150081\n"
     ]
    },
    {
     "name": "stderr",
     "output_type": "stream",
     "text": [
      "100%|████████████████████████████████████████████████████████████████████████████████████| 76625/76625 [03:19<00:00, 384.59it/s]\n"
     ]
    },
    {
     "name": "stdout",
     "output_type": "stream",
     "text": [
      "Falsas anomalias: 62750\n",
      "Acuracia: 0.1810766721044046\n",
      "gamma=1 nu=0.3 falsas_anomalias=62750 acuracia=0.1810766721044046\n"
     ]
    },
    {
     "name": "stderr",
     "output_type": "stream",
     "text": [
      "100%|████████████████████████████████████████████████████████████████████████████████████| 76625/76625 [04:20<00:00, 294.66it/s]\n"
     ]
    },
    {
     "name": "stdout",
     "output_type": "stream",
     "text": [
      "Falsas anomalias: 44128\n",
      "Acuracia: 0.4241044045676998\n",
      "gamma=1 nu=0.4 falsas_anomalias=44128 acuracia=0.4241044045676998\n"
     ]
    },
    {
     "name": "stderr",
     "output_type": "stream",
     "text": [
      "100%|████████████████████████████████████████████████████████████████████████████████████| 76625/76625 [05:53<00:00, 216.48it/s]\n"
     ]
    },
    {
     "name": "stdout",
     "output_type": "stream",
     "text": [
      "Falsas anomalias: 75703\n",
      "Acuracia: 0.012032626427406212\n",
      "gamma=1 nu=0.5 falsas_anomalias=75703 acuracia=0.012032626427406212\n"
     ]
    },
    {
     "name": "stderr",
     "output_type": "stream",
     "text": [
      "100%|████████████████████████████████████████████████████████████████████████████████████| 76625/76625 [06:45<00:00, 189.00it/s]\n"
     ]
    },
    {
     "name": "stdout",
     "output_type": "stream",
     "text": [
      "Falsas anomalias: 32232\n",
      "Acuracia: 0.5793539967373573\n",
      "gamma=1 nu=0.6 falsas_anomalias=32232 acuracia=0.5793539967373573\n"
     ]
    },
    {
     "name": "stderr",
     "output_type": "stream",
     "text": [
      "100%|████████████████████████████████████████████████████████████████████████████████████| 76625/76625 [07:37<00:00, 167.45it/s]\n"
     ]
    },
    {
     "name": "stdout",
     "output_type": "stream",
     "text": [
      "Falsas anomalias: 32232\n",
      "Acuracia: 0.5793539967373573\n",
      "gamma=1 nu=0.7 falsas_anomalias=32232 acuracia=0.5793539967373573\n"
     ]
    },
    {
     "name": "stderr",
     "output_type": "stream",
     "text": [
      "100%|████████████████████████████████████████████████████████████████████████████████████| 76625/76625 [08:57<00:00, 142.44it/s]\n"
     ]
    },
    {
     "name": "stdout",
     "output_type": "stream",
     "text": [
      "Falsas anomalias: 32232\n",
      "Acuracia: 0.5793539967373573\n",
      "gamma=1 nu=0.8 falsas_anomalias=32232 acuracia=0.5793539967373573\n"
     ]
    },
    {
     "name": "stderr",
     "output_type": "stream",
     "text": [
      "100%|████████████████████████████████████████████████████████████████████████████████████| 76625/76625 [10:15<00:00, 124.43it/s]\n"
     ]
    },
    {
     "name": "stdout",
     "output_type": "stream",
     "text": [
      "Falsas anomalias: 48998\n",
      "Acuracia: 0.36054812398042413\n",
      "gamma=1 nu=0.9 falsas_anomalias=48998 acuracia=0.36054812398042413\n"
     ]
    },
    {
     "ename": "ValueError",
     "evalue": "The dual coefficients or intercepts are not finite. The input data may contain large values and need to be preprocessed.",
     "output_type": "error",
     "traceback": [
      "\u001b[0;31m---------------------------------------------------------------------------\u001b[0m",
      "\u001b[0;31mValueError\u001b[0m                                Traceback (most recent call last)",
      "File \u001b[0;32m<timed exec>:16\u001b[0m\n",
      "File \u001b[0;32m~/pucrs/TCC/venv/lib/python3.10/site-packages/sklearn/svm/_classes.py:1766\u001b[0m, in \u001b[0;36mOneClassSVM.fit\u001b[0;34m(self, X, y, sample_weight)\u001b[0m\n\u001b[1;32m   1741\u001b[0m \u001b[38;5;28;01mdef\u001b[39;00m \u001b[38;5;21mfit\u001b[39m(\u001b[38;5;28mself\u001b[39m, X, y\u001b[38;5;241m=\u001b[39m\u001b[38;5;28;01mNone\u001b[39;00m, sample_weight\u001b[38;5;241m=\u001b[39m\u001b[38;5;28;01mNone\u001b[39;00m):\n\u001b[1;32m   1742\u001b[0m \u001b[38;5;250m    \u001b[39m\u001b[38;5;124;03m\"\"\"Detect the soft boundary of the set of samples X.\u001b[39;00m\n\u001b[1;32m   1743\u001b[0m \n\u001b[1;32m   1744\u001b[0m \u001b[38;5;124;03m    Parameters\u001b[39;00m\n\u001b[0;32m   (...)\u001b[0m\n\u001b[1;32m   1764\u001b[0m \u001b[38;5;124;03m    If X is not a C-ordered contiguous array it is copied.\u001b[39;00m\n\u001b[1;32m   1765\u001b[0m \u001b[38;5;124;03m    \"\"\"\u001b[39;00m\n\u001b[0;32m-> 1766\u001b[0m     \u001b[38;5;28;43msuper\u001b[39;49m\u001b[43m(\u001b[49m\u001b[43m)\u001b[49m\u001b[38;5;241;43m.\u001b[39;49m\u001b[43mfit\u001b[49m\u001b[43m(\u001b[49m\u001b[43mX\u001b[49m\u001b[43m,\u001b[49m\u001b[43m \u001b[49m\u001b[43mnp\u001b[49m\u001b[38;5;241;43m.\u001b[39;49m\u001b[43mones\u001b[49m\u001b[43m(\u001b[49m\u001b[43m_num_samples\u001b[49m\u001b[43m(\u001b[49m\u001b[43mX\u001b[49m\u001b[43m)\u001b[49m\u001b[43m)\u001b[49m\u001b[43m,\u001b[49m\u001b[43m \u001b[49m\u001b[43msample_weight\u001b[49m\u001b[38;5;241;43m=\u001b[39;49m\u001b[43msample_weight\u001b[49m\u001b[43m)\u001b[49m\n\u001b[1;32m   1767\u001b[0m     \u001b[38;5;28mself\u001b[39m\u001b[38;5;241m.\u001b[39moffset_ \u001b[38;5;241m=\u001b[39m \u001b[38;5;241m-\u001b[39m\u001b[38;5;28mself\u001b[39m\u001b[38;5;241m.\u001b[39m_intercept_\n\u001b[1;32m   1768\u001b[0m     \u001b[38;5;28;01mreturn\u001b[39;00m \u001b[38;5;28mself\u001b[39m\n",
      "File \u001b[0;32m~/pucrs/TCC/venv/lib/python3.10/site-packages/sklearn/base.py:1473\u001b[0m, in \u001b[0;36m_fit_context.<locals>.decorator.<locals>.wrapper\u001b[0;34m(estimator, *args, **kwargs)\u001b[0m\n\u001b[1;32m   1466\u001b[0m     estimator\u001b[38;5;241m.\u001b[39m_validate_params()\n\u001b[1;32m   1468\u001b[0m \u001b[38;5;28;01mwith\u001b[39;00m config_context(\n\u001b[1;32m   1469\u001b[0m     skip_parameter_validation\u001b[38;5;241m=\u001b[39m(\n\u001b[1;32m   1470\u001b[0m         prefer_skip_nested_validation \u001b[38;5;129;01mor\u001b[39;00m global_skip_validation\n\u001b[1;32m   1471\u001b[0m     )\n\u001b[1;32m   1472\u001b[0m ):\n\u001b[0;32m-> 1473\u001b[0m     \u001b[38;5;28;01mreturn\u001b[39;00m \u001b[43mfit_method\u001b[49m\u001b[43m(\u001b[49m\u001b[43mestimator\u001b[49m\u001b[43m,\u001b[49m\u001b[43m \u001b[49m\u001b[38;5;241;43m*\u001b[39;49m\u001b[43margs\u001b[49m\u001b[43m,\u001b[49m\u001b[43m \u001b[49m\u001b[38;5;241;43m*\u001b[39;49m\u001b[38;5;241;43m*\u001b[39;49m\u001b[43mkwargs\u001b[49m\u001b[43m)\u001b[49m\n",
      "File \u001b[0;32m~/pucrs/TCC/venv/lib/python3.10/site-packages/sklearn/svm/_base.py:268\u001b[0m, in \u001b[0;36mBaseLibSVM.fit\u001b[0;34m(self, X, y, sample_weight)\u001b[0m\n\u001b[1;32m    266\u001b[0m dual_coef_finiteness \u001b[38;5;241m=\u001b[39m np\u001b[38;5;241m.\u001b[39misfinite(dual_coef)\u001b[38;5;241m.\u001b[39mall()\n\u001b[1;32m    267\u001b[0m \u001b[38;5;28;01mif\u001b[39;00m \u001b[38;5;129;01mnot\u001b[39;00m (intercept_finiteness \u001b[38;5;129;01mand\u001b[39;00m dual_coef_finiteness):\n\u001b[0;32m--> 268\u001b[0m     \u001b[38;5;28;01mraise\u001b[39;00m \u001b[38;5;167;01mValueError\u001b[39;00m(\n\u001b[1;32m    269\u001b[0m         \u001b[38;5;124m\"\u001b[39m\u001b[38;5;124mThe dual coefficients or intercepts are not finite.\u001b[39m\u001b[38;5;124m\"\u001b[39m\n\u001b[1;32m    270\u001b[0m         \u001b[38;5;124m\"\u001b[39m\u001b[38;5;124m The input data may contain large values and need to be\u001b[39m\u001b[38;5;124m\"\u001b[39m\n\u001b[1;32m    271\u001b[0m         \u001b[38;5;124m\"\u001b[39m\u001b[38;5;124m preprocessed.\u001b[39m\u001b[38;5;124m\"\u001b[39m\n\u001b[1;32m    272\u001b[0m     )\n\u001b[1;32m    274\u001b[0m \u001b[38;5;66;03m# Since, in the case of SVC and NuSVC, the number of models optimized by\u001b[39;00m\n\u001b[1;32m    275\u001b[0m \u001b[38;5;66;03m# libSVM could be greater than one (depending on the input), `n_iter_`\u001b[39;00m\n\u001b[1;32m    276\u001b[0m \u001b[38;5;66;03m# stores an ndarray.\u001b[39;00m\n\u001b[1;32m    277\u001b[0m \u001b[38;5;66;03m# For the other sub-classes (SVR, NuSVR, and OneClassSVM), the number of\u001b[39;00m\n\u001b[1;32m    278\u001b[0m \u001b[38;5;66;03m# models optimized by libSVM is always one, so `n_iter_` stores an\u001b[39;00m\n\u001b[1;32m    279\u001b[0m \u001b[38;5;66;03m# integer.\u001b[39;00m\n\u001b[1;32m    280\u001b[0m \u001b[38;5;28;01mif\u001b[39;00m \u001b[38;5;28mself\u001b[39m\u001b[38;5;241m.\u001b[39m_impl \u001b[38;5;129;01min\u001b[39;00m [\u001b[38;5;124m\"\u001b[39m\u001b[38;5;124mc_svc\u001b[39m\u001b[38;5;124m\"\u001b[39m, \u001b[38;5;124m\"\u001b[39m\u001b[38;5;124mnu_svc\u001b[39m\u001b[38;5;124m\"\u001b[39m]:\n",
      "\u001b[0;31mValueError\u001b[0m: The dual coefficients or intercepts are not finite. The input data may contain large values and need to be preprocessed."
     ]
    }
   ],
   "source": [
    "%%time\n",
    "from tqdm import tqdm\n",
    "import os\n",
    "import glob\n",
    "from sklearn import svm\n",
    "\n",
    "corpus = glob.glob(os.path.join(root_dir, tipo_log, '*'))\n",
    "print(f'Quantidade de arquivos: {len(corpus)}')\n",
    "\n",
    "gammas    = [1, .9, .8, .7, .6, .5, .4, .3, .2, .1, .01, .001]\n",
    "nus       = [.1, .2, .3, .4, .5, .6, .7, .8, .9, 1]\n",
    "resultado = []\n",
    "\n",
    "for gamma in gammas:\n",
    "    for nu in nus:\n",
    "        oneclass = svm.OneClassSVM(kernel='poly', gamma=gamma, nu=nu)\n",
    "        oneclass.fit(X)\n",
    "        #\n",
    "        predicoes = []\n",
    "        for arq in tqdm(corpus):\n",
    "            X_validar = vectorizer.transform([arq])\n",
    "            predicao = oneclass.predict(X_validar)\n",
    "            predicoes.append(predicao[0])\n",
    "            \n",
    "        falsas_anomalias = predicoes.count(-1)\n",
    "        acuracia         = 1-(predicoes.count(-1)/len(predicoes))\n",
    "        print(f'Falsas anomalias: {falsas_anomalias}')\n",
    "        print(f'Acuracia: {acuracia}')\n",
    "        #\n",
    "        resultado.append([gamma, nu, falsas_anomalias, acuracia])\n",
    "        print(f'gamma={gamma} nu={nu} falsas_anomalias={falsas_anomalias} acuracia={acuracia}')"
   ]
  },
  {
   "cell_type": "code",
   "execution_count": 3,
   "id": "7c2bc483-c28c-44ce-877f-b4ed8e896395",
   "metadata": {},
   "outputs": [
    {
     "name": "stdout",
     "output_type": "stream",
     "text": [
      "Quantidade de arquivos: 76625\n"
     ]
    },
    {
     "name": "stderr",
     "output_type": "stream",
     "text": [
      "100%|████████████████████████████████████████████████████████████████████████████████████| 76625/76625 [02:43<00:00, 467.50it/s]\n"
     ]
    },
    {
     "name": "stdout",
     "output_type": "stream",
     "text": [
      "Falsas anomalias: 19823\n",
      "Acuracia: 0.7412985318107668\n",
      "gamma=0.9 nu=0.1 falsas_anomalias=19823 acuracia=0.7412985318107668\n"
     ]
    },
    {
     "name": "stderr",
     "output_type": "stream",
     "text": [
      "100%|████████████████████████████████████████████████████████████████████████████████████| 76625/76625 [02:35<00:00, 492.93it/s]\n"
     ]
    },
    {
     "name": "stdout",
     "output_type": "stream",
     "text": [
      "Falsas anomalias: 15728\n",
      "Acuracia: 0.7947406199021207\n",
      "gamma=0.9 nu=0.2 falsas_anomalias=15728 acuracia=0.7947406199021207\n"
     ]
    },
    {
     "name": "stderr",
     "output_type": "stream",
     "text": [
      "100%|████████████████████████████████████████████████████████████████████████████████████| 76625/76625 [02:43<00:00, 469.93it/s]\n"
     ]
    },
    {
     "name": "stdout",
     "output_type": "stream",
     "text": [
      "Falsas anomalias: 62890\n",
      "Acuracia: 0.1792495921696574\n",
      "gamma=0.9 nu=0.3 falsas_anomalias=62890 acuracia=0.1792495921696574\n"
     ]
    },
    {
     "name": "stderr",
     "output_type": "stream",
     "text": [
      "100%|████████████████████████████████████████████████████████████████████████████████████| 76625/76625 [03:23<00:00, 377.24it/s]\n"
     ]
    },
    {
     "name": "stdout",
     "output_type": "stream",
     "text": [
      "Falsas anomalias: 54989\n",
      "Acuracia: 0.2823621533442088\n",
      "gamma=0.9 nu=0.4 falsas_anomalias=54989 acuracia=0.2823621533442088\n"
     ]
    },
    {
     "name": "stderr",
     "output_type": "stream",
     "text": [
      "100%|████████████████████████████████████████████████████████████████████████████████████| 76625/76625 [04:55<00:00, 259.17it/s]\n"
     ]
    },
    {
     "name": "stdout",
     "output_type": "stream",
     "text": [
      "Falsas anomalias: 44128\n",
      "Acuracia: 0.4241044045676998\n",
      "gamma=0.9 nu=0.5 falsas_anomalias=44128 acuracia=0.4241044045676998\n"
     ]
    },
    {
     "name": "stderr",
     "output_type": "stream",
     "text": [
      "100%|████████████████████████████████████████████████████████████████████████████████████| 76625/76625 [05:50<00:00, 218.81it/s]\n"
     ]
    },
    {
     "name": "stdout",
     "output_type": "stream",
     "text": [
      "Falsas anomalias: 32232\n",
      "Acuracia: 0.5793539967373573\n",
      "gamma=0.9 nu=0.6 falsas_anomalias=32232 acuracia=0.5793539967373573\n"
     ]
    },
    {
     "name": "stderr",
     "output_type": "stream",
     "text": [
      "100%|████████████████████████████████████████████████████████████████████████████████████| 76625/76625 [06:46<00:00, 188.59it/s]\n"
     ]
    },
    {
     "name": "stdout",
     "output_type": "stream",
     "text": [
      "Falsas anomalias: 32232\n",
      "Acuracia: 0.5793539967373573\n",
      "gamma=0.9 nu=0.7 falsas_anomalias=32232 acuracia=0.5793539967373573\n"
     ]
    },
    {
     "name": "stderr",
     "output_type": "stream",
     "text": [
      "100%|████████████████████████████████████████████████████████████████████████████████████| 76625/76625 [08:22<00:00, 152.43it/s]\n"
     ]
    },
    {
     "name": "stdout",
     "output_type": "stream",
     "text": [
      "Falsas anomalias: 32232\n",
      "Acuracia: 0.5793539967373573\n",
      "gamma=0.9 nu=0.8 falsas_anomalias=32232 acuracia=0.5793539967373573\n"
     ]
    },
    {
     "name": "stderr",
     "output_type": "stream",
     "text": [
      "100%|█████████████████████████████████████████████████████████████████████████████████████| 76625/76625 [14:22<00:00, 88.81it/s]\n"
     ]
    },
    {
     "name": "stdout",
     "output_type": "stream",
     "text": [
      "Falsas anomalias: 48998\n",
      "Acuracia: 0.36054812398042413\n",
      "gamma=0.9 nu=0.9 falsas_anomalias=48998 acuracia=0.36054812398042413\n"
     ]
    },
    {
     "name": "stderr",
     "output_type": "stream",
     "text": [
      "100%|████████████████████████████████████████████████████████████████████████████████████| 76625/76625 [05:06<00:00, 250.00it/s]\n"
     ]
    },
    {
     "name": "stdout",
     "output_type": "stream",
     "text": [
      "Falsas anomalias: 13444\n",
      "Acuracia: 0.8245481239804242\n",
      "gamma=0.8 nu=0.1 falsas_anomalias=13444 acuracia=0.8245481239804242\n"
     ]
    },
    {
     "name": "stderr",
     "output_type": "stream",
     "text": [
      "100%|████████████████████████████████████████████████████████████████████████████████████| 76625/76625 [03:22<00:00, 377.74it/s]\n"
     ]
    },
    {
     "name": "stdout",
     "output_type": "stream",
     "text": [
      "Falsas anomalias: 19039\n",
      "Acuracia: 0.7515301794453507\n",
      "gamma=0.8 nu=0.2 falsas_anomalias=19039 acuracia=0.7515301794453507\n"
     ]
    },
    {
     "name": "stderr",
     "output_type": "stream",
     "text": [
      "100%|████████████████████████████████████████████████████████████████████████████████████| 76625/76625 [02:56<00:00, 433.92it/s]\n"
     ]
    },
    {
     "name": "stdout",
     "output_type": "stream",
     "text": [
      "Falsas anomalias: 37025\n",
      "Acuracia: 0.5168026101141925\n",
      "gamma=0.8 nu=0.3 falsas_anomalias=37025 acuracia=0.5168026101141925\n"
     ]
    },
    {
     "name": "stderr",
     "output_type": "stream",
     "text": [
      "100%|████████████████████████████████████████████████████████████████████████████████████| 76625/76625 [03:40<00:00, 347.64it/s]\n"
     ]
    },
    {
     "name": "stdout",
     "output_type": "stream",
     "text": [
      "Falsas anomalias: 44128\n",
      "Acuracia: 0.4241044045676998\n",
      "gamma=0.8 nu=0.4 falsas_anomalias=44128 acuracia=0.4241044045676998\n"
     ]
    },
    {
     "name": "stderr",
     "output_type": "stream",
     "text": [
      "100%|████████████████████████████████████████████████████████████████████████████████████| 76625/76625 [05:01<00:00, 253.88it/s]\n"
     ]
    },
    {
     "name": "stdout",
     "output_type": "stream",
     "text": [
      "Falsas anomalias: 48998\n",
      "Acuracia: 0.36054812398042413\n",
      "gamma=0.8 nu=0.5 falsas_anomalias=48998 acuracia=0.36054812398042413\n"
     ]
    },
    {
     "name": "stderr",
     "output_type": "stream",
     "text": [
      "100%|████████████████████████████████████████████████████████████████████████████████████| 76625/76625 [05:58<00:00, 213.74it/s]\n"
     ]
    },
    {
     "name": "stdout",
     "output_type": "stream",
     "text": [
      "Falsas anomalias: 76625\n",
      "Acuracia: 0.0\n",
      "gamma=0.8 nu=0.6 falsas_anomalias=76625 acuracia=0.0\n"
     ]
    },
    {
     "name": "stderr",
     "output_type": "stream",
     "text": [
      "100%|████████████████████████████████████████████████████████████████████████████████████| 76625/76625 [07:26<00:00, 171.72it/s]\n"
     ]
    },
    {
     "name": "stdout",
     "output_type": "stream",
     "text": [
      "Falsas anomalias: 76625\n",
      "Acuracia: 0.0\n",
      "gamma=0.8 nu=0.7 falsas_anomalias=76625 acuracia=0.0\n"
     ]
    },
    {
     "name": "stderr",
     "output_type": "stream",
     "text": [
      "100%|████████████████████████████████████████████████████████████████████████████████████| 76625/76625 [07:53<00:00, 161.76it/s]\n"
     ]
    },
    {
     "name": "stdout",
     "output_type": "stream",
     "text": [
      "Falsas anomalias: 76625\n",
      "Acuracia: 0.0\n",
      "gamma=0.8 nu=0.8 falsas_anomalias=76625 acuracia=0.0\n"
     ]
    },
    {
     "name": "stderr",
     "output_type": "stream",
     "text": [
      "100%|████████████████████████████████████████████████████████████████████████████████████| 76625/76625 [08:56<00:00, 142.70it/s]\n"
     ]
    },
    {
     "name": "stdout",
     "output_type": "stream",
     "text": [
      "Falsas anomalias: 76625\n",
      "Acuracia: 0.0\n",
      "gamma=0.8 nu=0.9 falsas_anomalias=76625 acuracia=0.0\n"
     ]
    },
    {
     "name": "stderr",
     "output_type": "stream",
     "text": [
      "100%|████████████████████████████████████████████████████████████████████████████████████| 76625/76625 [02:39<00:00, 480.96it/s]\n"
     ]
    },
    {
     "name": "stdout",
     "output_type": "stream",
     "text": [
      "Falsas anomalias: 11452\n",
      "Acuracia: 0.8505448613376836\n",
      "gamma=0.7 nu=0.1 falsas_anomalias=11452 acuracia=0.8505448613376836\n"
     ]
    },
    {
     "name": "stderr",
     "output_type": "stream",
     "text": [
      "100%|████████████████████████████████████████████████████████████████████████████████████| 76625/76625 [04:02<00:00, 315.57it/s]\n"
     ]
    },
    {
     "name": "stdout",
     "output_type": "stream",
     "text": [
      "Falsas anomalias: 24983\n",
      "Acuracia: 0.6739575856443719\n",
      "gamma=0.7 nu=0.2 falsas_anomalias=24983 acuracia=0.6739575856443719\n"
     ]
    },
    {
     "name": "stderr",
     "output_type": "stream",
     "text": [
      "100%|████████████████████████████████████████████████████████████████████████████████████| 76625/76625 [05:53<00:00, 216.57it/s]\n"
     ]
    },
    {
     "name": "stdout",
     "output_type": "stream",
     "text": [
      "Falsas anomalias: 37025\n",
      "Acuracia: 0.5168026101141925\n",
      "gamma=0.7 nu=0.3 falsas_anomalias=37025 acuracia=0.5168026101141925\n"
     ]
    },
    {
     "name": "stderr",
     "output_type": "stream",
     "text": [
      "100%|████████████████████████████████████████████████████████████████████████████████████| 76625/76625 [07:16<00:00, 175.50it/s]\n"
     ]
    },
    {
     "name": "stdout",
     "output_type": "stream",
     "text": [
      "Falsas anomalias: 54989\n",
      "Acuracia: 0.2823621533442088\n",
      "gamma=0.7 nu=0.4 falsas_anomalias=54989 acuracia=0.2823621533442088\n"
     ]
    },
    {
     "name": "stderr",
     "output_type": "stream",
     "text": [
      "100%|████████████████████████████████████████████████████████████████████████████████████| 76625/76625 [06:13<00:00, 204.92it/s]\n"
     ]
    },
    {
     "name": "stdout",
     "output_type": "stream",
     "text": [
      "Falsas anomalias: 44128\n",
      "Acuracia: 0.4241044045676998\n",
      "gamma=0.7 nu=0.5 falsas_anomalias=44128 acuracia=0.4241044045676998\n"
     ]
    },
    {
     "name": "stderr",
     "output_type": "stream",
     "text": [
      "100%|████████████████████████████████████████████████████████████████████████████████████| 76625/76625 [06:21<00:00, 200.83it/s]\n"
     ]
    },
    {
     "name": "stdout",
     "output_type": "stream",
     "text": [
      "Falsas anomalias: 32232\n",
      "Acuracia: 0.5793539967373573\n",
      "gamma=0.7 nu=0.6 falsas_anomalias=32232 acuracia=0.5793539967373573\n"
     ]
    },
    {
     "name": "stderr",
     "output_type": "stream",
     "text": [
      "100%|████████████████████████████████████████████████████████████████████████████████████| 76625/76625 [07:05<00:00, 180.11it/s]\n"
     ]
    },
    {
     "name": "stdout",
     "output_type": "stream",
     "text": [
      "Falsas anomalias: 32232\n",
      "Acuracia: 0.5793539967373573\n",
      "gamma=0.7 nu=0.7 falsas_anomalias=32232 acuracia=0.5793539967373573\n"
     ]
    },
    {
     "name": "stderr",
     "output_type": "stream",
     "text": [
      "100%|████████████████████████████████████████████████████████████████████████████████████| 76625/76625 [07:43<00:00, 165.34it/s]\n"
     ]
    },
    {
     "name": "stdout",
     "output_type": "stream",
     "text": [
      "Falsas anomalias: 32232\n",
      "Acuracia: 0.5793539967373573\n",
      "gamma=0.7 nu=0.8 falsas_anomalias=32232 acuracia=0.5793539967373573\n"
     ]
    },
    {
     "name": "stderr",
     "output_type": "stream",
     "text": [
      "100%|████████████████████████████████████████████████████████████████████████████████████| 76625/76625 [08:38<00:00, 147.82it/s]\n"
     ]
    },
    {
     "name": "stdout",
     "output_type": "stream",
     "text": [
      "Falsas anomalias: 48998\n",
      "Acuracia: 0.36054812398042413\n",
      "gamma=0.7 nu=0.9 falsas_anomalias=48998 acuracia=0.36054812398042413\n"
     ]
    },
    {
     "name": "stderr",
     "output_type": "stream",
     "text": [
      "100%|████████████████████████████████████████████████████████████████████████████████████| 76625/76625 [02:21<00:00, 542.68it/s]\n"
     ]
    },
    {
     "name": "stdout",
     "output_type": "stream",
     "text": [
      "Falsas anomalias: 19398\n",
      "Acuracia: 0.7468450244698206\n",
      "gamma=0.6 nu=0.1 falsas_anomalias=19398 acuracia=0.7468450244698206\n"
     ]
    },
    {
     "name": "stderr",
     "output_type": "stream",
     "text": [
      "100%|████████████████████████████████████████████████████████████████████████████████████| 76625/76625 [02:26<00:00, 524.73it/s]\n"
     ]
    },
    {
     "name": "stdout",
     "output_type": "stream",
     "text": [
      "Falsas anomalias: 16508\n",
      "Acuracia: 0.7845611745513866\n",
      "gamma=0.6 nu=0.2 falsas_anomalias=16508 acuracia=0.7845611745513866\n"
     ]
    },
    {
     "name": "stderr",
     "output_type": "stream",
     "text": [
      "100%|████████████████████████████████████████████████████████████████████████████████████| 76625/76625 [02:30<00:00, 510.59it/s]\n"
     ]
    },
    {
     "name": "stdout",
     "output_type": "stream",
     "text": [
      "Falsas anomalias: 32475\n",
      "Acuracia: 0.5761827079934747\n",
      "gamma=0.6 nu=0.3 falsas_anomalias=32475 acuracia=0.5761827079934747\n"
     ]
    },
    {
     "name": "stderr",
     "output_type": "stream",
     "text": [
      "100%|████████████████████████████████████████████████████████████████████████████████████| 76625/76625 [03:44<00:00, 341.91it/s]\n"
     ]
    },
    {
     "name": "stdout",
     "output_type": "stream",
     "text": [
      "Falsas anomalias: 44128\n",
      "Acuracia: 0.4241044045676998\n",
      "gamma=0.6 nu=0.4 falsas_anomalias=44128 acuracia=0.4241044045676998\n"
     ]
    },
    {
     "name": "stderr",
     "output_type": "stream",
     "text": [
      "100%|████████████████████████████████████████████████████████████████████████████████████| 76625/76625 [04:35<00:00, 278.52it/s]\n"
     ]
    },
    {
     "name": "stdout",
     "output_type": "stream",
     "text": [
      "Falsas anomalias: 48998\n",
      "Acuracia: 0.36054812398042413\n",
      "gamma=0.6 nu=0.5 falsas_anomalias=48998 acuracia=0.36054812398042413\n"
     ]
    },
    {
     "name": "stderr",
     "output_type": "stream",
     "text": [
      "100%|████████████████████████████████████████████████████████████████████████████████████| 76625/76625 [05:55<00:00, 215.80it/s]\n"
     ]
    },
    {
     "name": "stdout",
     "output_type": "stream",
     "text": [
      "Falsas anomalias: 76625\n",
      "Acuracia: 0.0\n",
      "gamma=0.6 nu=0.6 falsas_anomalias=76625 acuracia=0.0\n"
     ]
    },
    {
     "name": "stderr",
     "output_type": "stream",
     "text": [
      "100%|████████████████████████████████████████████████████████████████████████████████████| 76625/76625 [07:01<00:00, 181.82it/s]\n"
     ]
    },
    {
     "name": "stdout",
     "output_type": "stream",
     "text": [
      "Falsas anomalias: 76625\n",
      "Acuracia: 0.0\n",
      "gamma=0.6 nu=0.7 falsas_anomalias=76625 acuracia=0.0\n"
     ]
    },
    {
     "name": "stderr",
     "output_type": "stream",
     "text": [
      "100%|████████████████████████████████████████████████████████████████████████████████████| 76625/76625 [07:56<00:00, 160.75it/s]\n"
     ]
    },
    {
     "name": "stdout",
     "output_type": "stream",
     "text": [
      "Falsas anomalias: 76625\n",
      "Acuracia: 0.0\n",
      "gamma=0.6 nu=0.8 falsas_anomalias=76625 acuracia=0.0\n"
     ]
    },
    {
     "name": "stderr",
     "output_type": "stream",
     "text": [
      "100%|████████████████████████████████████████████████████████████████████████████████████| 76625/76625 [09:00<00:00, 141.64it/s]\n"
     ]
    },
    {
     "name": "stdout",
     "output_type": "stream",
     "text": [
      "Falsas anomalias: 76625\n",
      "Acuracia: 0.0\n",
      "gamma=0.6 nu=0.9 falsas_anomalias=76625 acuracia=0.0\n"
     ]
    },
    {
     "name": "stderr",
     "output_type": "stream",
     "text": [
      "100%|████████████████████████████████████████████████████████████████████████████████████| 76625/76625 [02:47<00:00, 457.46it/s]\n"
     ]
    },
    {
     "name": "stdout",
     "output_type": "stream",
     "text": [
      "Falsas anomalias: 23362\n",
      "Acuracia: 0.6951125611745514\n",
      "gamma=0.5 nu=0.1 falsas_anomalias=23362 acuracia=0.6951125611745514\n"
     ]
    },
    {
     "name": "stderr",
     "output_type": "stream",
     "text": [
      "100%|████████████████████████████████████████████████████████████████████████████████████| 76625/76625 [02:45<00:00, 463.44it/s]\n"
     ]
    },
    {
     "name": "stdout",
     "output_type": "stream",
     "text": [
      "Falsas anomalias: 11754\n",
      "Acuracia: 0.8466035889070147\n",
      "gamma=0.5 nu=0.2 falsas_anomalias=11754 acuracia=0.8466035889070147\n"
     ]
    },
    {
     "name": "stderr",
     "output_type": "stream",
     "text": [
      "100%|████████████████████████████████████████████████████████████████████████████████████| 76625/76625 [02:47<00:00, 456.70it/s]\n"
     ]
    },
    {
     "name": "stdout",
     "output_type": "stream",
     "text": [
      "Falsas anomalias: 41146\n",
      "Acuracia: 0.46302120717781403\n",
      "gamma=0.5 nu=0.3 falsas_anomalias=41146 acuracia=0.46302120717781403\n"
     ]
    },
    {
     "name": "stderr",
     "output_type": "stream",
     "text": [
      "100%|████████████████████████████████████████████████████████████████████████████████████| 76625/76625 [03:22<00:00, 377.63it/s]\n"
     ]
    },
    {
     "name": "stdout",
     "output_type": "stream",
     "text": [
      "Falsas anomalias: 44128\n",
      "Acuracia: 0.4241044045676998\n",
      "gamma=0.5 nu=0.4 falsas_anomalias=44128 acuracia=0.4241044045676998\n"
     ]
    },
    {
     "name": "stderr",
     "output_type": "stream",
     "text": [
      "100%|████████████████████████████████████████████████████████████████████████████████████| 76625/76625 [04:58<00:00, 256.51it/s]\n"
     ]
    },
    {
     "name": "stdout",
     "output_type": "stream",
     "text": [
      "Falsas anomalias: 75703\n",
      "Acuracia: 0.012032626427406212\n",
      "gamma=0.5 nu=0.5 falsas_anomalias=75703 acuracia=0.012032626427406212\n"
     ]
    },
    {
     "name": "stderr",
     "output_type": "stream",
     "text": [
      "100%|████████████████████████████████████████████████████████████████████████████████████| 76625/76625 [06:03<00:00, 210.76it/s]\n"
     ]
    },
    {
     "name": "stdout",
     "output_type": "stream",
     "text": [
      "Falsas anomalias: 32232\n",
      "Acuracia: 0.5793539967373573\n",
      "gamma=0.5 nu=0.6 falsas_anomalias=32232 acuracia=0.5793539967373573\n"
     ]
    },
    {
     "name": "stderr",
     "output_type": "stream",
     "text": [
      "100%|████████████████████████████████████████████████████████████████████████████████████| 76625/76625 [07:00<00:00, 182.17it/s]\n"
     ]
    },
    {
     "name": "stdout",
     "output_type": "stream",
     "text": [
      "Falsas anomalias: 32232\n",
      "Acuracia: 0.5793539967373573\n",
      "gamma=0.5 nu=0.7 falsas_anomalias=32232 acuracia=0.5793539967373573\n"
     ]
    },
    {
     "name": "stderr",
     "output_type": "stream",
     "text": [
      "100%|████████████████████████████████████████████████████████████████████████████████████| 76625/76625 [07:56<00:00, 160.67it/s]\n"
     ]
    },
    {
     "name": "stdout",
     "output_type": "stream",
     "text": [
      "Falsas anomalias: 32232\n",
      "Acuracia: 0.5793539967373573\n",
      "gamma=0.5 nu=0.8 falsas_anomalias=32232 acuracia=0.5793539967373573\n"
     ]
    },
    {
     "name": "stderr",
     "output_type": "stream",
     "text": [
      "100%|████████████████████████████████████████████████████████████████████████████████████| 76625/76625 [08:52<00:00, 143.87it/s]\n"
     ]
    },
    {
     "name": "stdout",
     "output_type": "stream",
     "text": [
      "Falsas anomalias: 48998\n",
      "Acuracia: 0.36054812398042413\n",
      "gamma=0.5 nu=0.9 falsas_anomalias=48998 acuracia=0.36054812398042413\n"
     ]
    },
    {
     "name": "stderr",
     "output_type": "stream",
     "text": [
      "100%|████████████████████████████████████████████████████████████████████████████████████| 76625/76625 [02:34<00:00, 495.64it/s]\n"
     ]
    },
    {
     "name": "stdout",
     "output_type": "stream",
     "text": [
      "Falsas anomalias: 30969\n",
      "Acuracia: 0.5958368678629691\n",
      "gamma=0.4 nu=0.1 falsas_anomalias=30969 acuracia=0.5958368678629691\n"
     ]
    },
    {
     "name": "stderr",
     "output_type": "stream",
     "text": [
      "100%|████████████████████████████████████████████████████████████████████████████████████| 76625/76625 [02:55<00:00, 436.32it/s]\n"
     ]
    },
    {
     "name": "stdout",
     "output_type": "stream",
     "text": [
      "Falsas anomalias: 20544\n",
      "Acuracia: 0.7318890701468189\n",
      "gamma=0.4 nu=0.2 falsas_anomalias=20544 acuracia=0.7318890701468189\n"
     ]
    },
    {
     "name": "stderr",
     "output_type": "stream",
     "text": [
      "100%|████████████████████████████████████████████████████████████████████████████████████| 76625/76625 [02:37<00:00, 487.85it/s]\n"
     ]
    },
    {
     "name": "stdout",
     "output_type": "stream",
     "text": [
      "Falsas anomalias: 45583\n",
      "Acuracia: 0.40511582381729205\n",
      "gamma=0.4 nu=0.3 falsas_anomalias=45583 acuracia=0.40511582381729205\n"
     ]
    },
    {
     "name": "stderr",
     "output_type": "stream",
     "text": [
      "100%|████████████████████████████████████████████████████████████████████████████████████| 76625/76625 [03:26<00:00, 371.08it/s]\n"
     ]
    },
    {
     "name": "stdout",
     "output_type": "stream",
     "text": [
      "Falsas anomalias: 31310\n",
      "Acuracia: 0.5913866231647635\n",
      "gamma=0.4 nu=0.4 falsas_anomalias=31310 acuracia=0.5913866231647635\n"
     ]
    },
    {
     "name": "stderr",
     "output_type": "stream",
     "text": [
      "100%|████████████████████████████████████████████████████████████████████████████████████| 76625/76625 [04:42<00:00, 271.58it/s]\n"
     ]
    },
    {
     "name": "stdout",
     "output_type": "stream",
     "text": [
      "Falsas anomalias: 48998\n",
      "Acuracia: 0.36054812398042413\n",
      "gamma=0.4 nu=0.5 falsas_anomalias=48998 acuracia=0.36054812398042413\n"
     ]
    },
    {
     "name": "stderr",
     "output_type": "stream",
     "text": [
      "100%|████████████████████████████████████████████████████████████████████████████████████| 76625/76625 [06:00<00:00, 212.71it/s]\n"
     ]
    },
    {
     "name": "stdout",
     "output_type": "stream",
     "text": [
      "Falsas anomalias: 76625\n",
      "Acuracia: 0.0\n",
      "gamma=0.4 nu=0.6 falsas_anomalias=76625 acuracia=0.0\n"
     ]
    },
    {
     "name": "stderr",
     "output_type": "stream",
     "text": [
      "100%|████████████████████████████████████████████████████████████████████████████████████| 76625/76625 [07:03<00:00, 180.83it/s]\n"
     ]
    },
    {
     "name": "stdout",
     "output_type": "stream",
     "text": [
      "Falsas anomalias: 76625\n",
      "Acuracia: 0.0\n",
      "gamma=0.4 nu=0.7 falsas_anomalias=76625 acuracia=0.0\n"
     ]
    },
    {
     "name": "stderr",
     "output_type": "stream",
     "text": [
      "100%|████████████████████████████████████████████████████████████████████████████████████| 76625/76625 [08:01<00:00, 159.20it/s]\n"
     ]
    },
    {
     "name": "stdout",
     "output_type": "stream",
     "text": [
      "Falsas anomalias: 76625\n",
      "Acuracia: 0.0\n",
      "gamma=0.4 nu=0.8 falsas_anomalias=76625 acuracia=0.0\n"
     ]
    },
    {
     "name": "stderr",
     "output_type": "stream",
     "text": [
      "100%|████████████████████████████████████████████████████████████████████████████████████| 76625/76625 [08:58<00:00, 142.19it/s]\n"
     ]
    },
    {
     "name": "stdout",
     "output_type": "stream",
     "text": [
      "Falsas anomalias: 76625\n",
      "Acuracia: 0.0\n",
      "gamma=0.4 nu=0.9 falsas_anomalias=76625 acuracia=0.0\n"
     ]
    },
    {
     "name": "stderr",
     "output_type": "stream",
     "text": [
      "100%|████████████████████████████████████████████████████████████████████████████████████| 76625/76625 [02:52<00:00, 444.50it/s]\n"
     ]
    },
    {
     "name": "stdout",
     "output_type": "stream",
     "text": [
      "Falsas anomalias: 32610\n",
      "Acuracia: 0.57442088091354\n",
      "gamma=0.3 nu=0.1 falsas_anomalias=32610 acuracia=0.57442088091354\n"
     ]
    },
    {
     "name": "stderr",
     "output_type": "stream",
     "text": [
      "100%|████████████████████████████████████████████████████████████████████████████████████| 76625/76625 [02:49<00:00, 452.65it/s]\n"
     ]
    },
    {
     "name": "stdout",
     "output_type": "stream",
     "text": [
      "Falsas anomalias: 12780\n",
      "Acuracia: 0.8332137030995106\n",
      "gamma=0.3 nu=0.2 falsas_anomalias=12780 acuracia=0.8332137030995106\n"
     ]
    },
    {
     "name": "stderr",
     "output_type": "stream",
     "text": [
      "100%|████████████████████████████████████████████████████████████████████████████████████| 76625/76625 [03:03<00:00, 416.91it/s]\n"
     ]
    },
    {
     "name": "stdout",
     "output_type": "stream",
     "text": [
      "Falsas anomalias: 52709\n",
      "Acuracia: 0.3121174551386623\n",
      "gamma=0.3 nu=0.3 falsas_anomalias=52709 acuracia=0.3121174551386623\n"
     ]
    },
    {
     "name": "stderr",
     "output_type": "stream",
     "text": [
      "100%|████████████████████████████████████████████████████████████████████████████████████| 76625/76625 [03:40<00:00, 346.91it/s]\n"
     ]
    },
    {
     "name": "stdout",
     "output_type": "stream",
     "text": [
      "Falsas anomalias: 31310\n",
      "Acuracia: 0.5913866231647635\n",
      "gamma=0.3 nu=0.4 falsas_anomalias=31310 acuracia=0.5913866231647635\n"
     ]
    },
    {
     "name": "stderr",
     "output_type": "stream",
     "text": [
      "100%|████████████████████████████████████████████████████████████████████████████████████| 76625/76625 [05:03<00:00, 252.60it/s]\n"
     ]
    },
    {
     "name": "stdout",
     "output_type": "stream",
     "text": [
      "Falsas anomalias: 48998\n",
      "Acuracia: 0.36054812398042413\n",
      "gamma=0.3 nu=0.5 falsas_anomalias=48998 acuracia=0.36054812398042413\n"
     ]
    },
    {
     "name": "stderr",
     "output_type": "stream",
     "text": [
      "100%|████████████████████████████████████████████████████████████████████████████████████| 76625/76625 [05:57<00:00, 214.56it/s]\n"
     ]
    },
    {
     "name": "stdout",
     "output_type": "stream",
     "text": [
      "Falsas anomalias: 76625\n",
      "Acuracia: 0.0\n",
      "gamma=0.3 nu=0.6 falsas_anomalias=76625 acuracia=0.0\n"
     ]
    },
    {
     "name": "stderr",
     "output_type": "stream",
     "text": [
      "100%|████████████████████████████████████████████████████████████████████████████████████| 76625/76625 [07:01<00:00, 181.69it/s]\n"
     ]
    },
    {
     "name": "stdout",
     "output_type": "stream",
     "text": [
      "Falsas anomalias: 76625\n",
      "Acuracia: 0.0\n",
      "gamma=0.3 nu=0.7 falsas_anomalias=76625 acuracia=0.0\n"
     ]
    },
    {
     "name": "stderr",
     "output_type": "stream",
     "text": [
      "100%|████████████████████████████████████████████████████████████████████████████████████| 76625/76625 [08:06<00:00, 157.41it/s]\n"
     ]
    },
    {
     "name": "stdout",
     "output_type": "stream",
     "text": [
      "Falsas anomalias: 76625\n",
      "Acuracia: 0.0\n",
      "gamma=0.3 nu=0.8 falsas_anomalias=76625 acuracia=0.0\n"
     ]
    },
    {
     "name": "stderr",
     "output_type": "stream",
     "text": [
      "100%|████████████████████████████████████████████████████████████████████████████████████| 76625/76625 [09:07<00:00, 139.88it/s]\n"
     ]
    },
    {
     "name": "stdout",
     "output_type": "stream",
     "text": [
      "Falsas anomalias: 76625\n",
      "Acuracia: 0.0\n",
      "gamma=0.3 nu=0.9 falsas_anomalias=76625 acuracia=0.0\n"
     ]
    },
    {
     "name": "stderr",
     "output_type": "stream",
     "text": [
      "100%|████████████████████████████████████████████████████████████████████████████████████| 76625/76625 [02:48<00:00, 454.84it/s]\n"
     ]
    },
    {
     "name": "stdout",
     "output_type": "stream",
     "text": [
      "Falsas anomalias: 30323\n",
      "Acuracia: 0.6042675367047308\n",
      "gamma=0.2 nu=0.1 falsas_anomalias=30323 acuracia=0.6042675367047308\n"
     ]
    },
    {
     "name": "stderr",
     "output_type": "stream",
     "text": [
      "100%|████████████████████████████████████████████████████████████████████████████████████| 76625/76625 [03:01<00:00, 423.33it/s]\n"
     ]
    },
    {
     "name": "stdout",
     "output_type": "stream",
     "text": [
      "Falsas anomalias: 20509\n",
      "Acuracia: 0.7323458401305056\n",
      "gamma=0.2 nu=0.2 falsas_anomalias=20509 acuracia=0.7323458401305056\n"
     ]
    },
    {
     "name": "stderr",
     "output_type": "stream",
     "text": [
      "100%|████████████████████████████████████████████████████████████████████████████████████| 76625/76625 [03:08<00:00, 407.14it/s]\n"
     ]
    },
    {
     "name": "stdout",
     "output_type": "stream",
     "text": [
      "Falsas anomalias: 5091\n",
      "Acuracia: 0.9335595432300163\n",
      "gamma=0.2 nu=0.3 falsas_anomalias=5091 acuracia=0.9335595432300163\n"
     ]
    },
    {
     "name": "stderr",
     "output_type": "stream",
     "text": [
      "100%|████████████████████████████████████████████████████████████████████████████████████| 76625/76625 [03:56<00:00, 323.68it/s]\n"
     ]
    },
    {
     "name": "stdout",
     "output_type": "stream",
     "text": [
      "Falsas anomalias: 31310\n",
      "Acuracia: 0.5913866231647635\n",
      "gamma=0.2 nu=0.4 falsas_anomalias=31310 acuracia=0.5913866231647635\n"
     ]
    },
    {
     "name": "stderr",
     "output_type": "stream",
     "text": [
      "100%|████████████████████████████████████████████████████████████████████████████████████| 76625/76625 [05:38<00:00, 226.54it/s]\n"
     ]
    },
    {
     "name": "stdout",
     "output_type": "stream",
     "text": [
      "Falsas anomalias: 48998\n",
      "Acuracia: 0.36054812398042413\n",
      "gamma=0.2 nu=0.5 falsas_anomalias=48998 acuracia=0.36054812398042413\n"
     ]
    },
    {
     "name": "stderr",
     "output_type": "stream",
     "text": [
      "100%|████████████████████████████████████████████████████████████████████████████████████| 76625/76625 [06:14<00:00, 204.42it/s]\n"
     ]
    },
    {
     "name": "stdout",
     "output_type": "stream",
     "text": [
      "Falsas anomalias: 76625\n",
      "Acuracia: 0.0\n",
      "gamma=0.2 nu=0.6 falsas_anomalias=76625 acuracia=0.0\n"
     ]
    },
    {
     "name": "stderr",
     "output_type": "stream",
     "text": [
      "100%|████████████████████████████████████████████████████████████████████████████████████| 76625/76625 [07:16<00:00, 175.36it/s]\n"
     ]
    },
    {
     "name": "stdout",
     "output_type": "stream",
     "text": [
      "Falsas anomalias: 76625\n",
      "Acuracia: 0.0\n",
      "gamma=0.2 nu=0.7 falsas_anomalias=76625 acuracia=0.0\n"
     ]
    },
    {
     "name": "stderr",
     "output_type": "stream",
     "text": [
      "100%|████████████████████████████████████████████████████████████████████████████████████| 76625/76625 [08:11<00:00, 155.91it/s]\n"
     ]
    },
    {
     "name": "stdout",
     "output_type": "stream",
     "text": [
      "Falsas anomalias: 76625\n",
      "Acuracia: 0.0\n",
      "gamma=0.2 nu=0.8 falsas_anomalias=76625 acuracia=0.0\n"
     ]
    },
    {
     "name": "stderr",
     "output_type": "stream",
     "text": [
      "100%|████████████████████████████████████████████████████████████████████████████████████| 76625/76625 [09:05<00:00, 140.54it/s]\n"
     ]
    },
    {
     "name": "stdout",
     "output_type": "stream",
     "text": [
      "Falsas anomalias: 76625\n",
      "Acuracia: 0.0\n",
      "gamma=0.2 nu=0.9 falsas_anomalias=76625 acuracia=0.0\n"
     ]
    },
    {
     "name": "stderr",
     "output_type": "stream",
     "text": [
      "100%|███████████████████████████████████████████████████████████████████████████████████| 76625/76625 [01:08<00:00, 1112.40it/s]\n"
     ]
    },
    {
     "name": "stdout",
     "output_type": "stream",
     "text": [
      "Falsas anomalias: 32013\n",
      "Acuracia: 0.5822120717781403\n",
      "gamma=0.1 nu=0.1 falsas_anomalias=32013 acuracia=0.5822120717781403\n"
     ]
    },
    {
     "name": "stderr",
     "output_type": "stream",
     "text": [
      "100%|████████████████████████████████████████████████████████████████████████████████████| 76625/76625 [02:06<00:00, 604.93it/s]\n"
     ]
    },
    {
     "name": "stdout",
     "output_type": "stream",
     "text": [
      "Falsas anomalias: 24741\n",
      "Acuracia: 0.6771158238172921\n",
      "gamma=0.1 nu=0.2 falsas_anomalias=24741 acuracia=0.6771158238172921\n"
     ]
    },
    {
     "name": "stderr",
     "output_type": "stream",
     "text": [
      "100%|████████████████████████████████████████████████████████████████████████████████████| 76625/76625 [03:02<00:00, 420.81it/s]\n"
     ]
    },
    {
     "name": "stdout",
     "output_type": "stream",
     "text": [
      "Falsas anomalias: 17473\n",
      "Acuracia: 0.7719673735725938\n",
      "gamma=0.1 nu=0.3 falsas_anomalias=17473 acuracia=0.7719673735725938\n"
     ]
    },
    {
     "name": "stderr",
     "output_type": "stream",
     "text": [
      "100%|████████████████████████████████████████████████████████████████████████████████████| 76625/76625 [03:53<00:00, 328.67it/s]\n"
     ]
    },
    {
     "name": "stdout",
     "output_type": "stream",
     "text": [
      "Falsas anomalias: 44128\n",
      "Acuracia: 0.4241044045676998\n",
      "gamma=0.1 nu=0.4 falsas_anomalias=44128 acuracia=0.4241044045676998\n"
     ]
    },
    {
     "name": "stderr",
     "output_type": "stream",
     "text": [
      "100%|████████████████████████████████████████████████████████████████████████████████████| 76625/76625 [05:31<00:00, 231.17it/s]\n"
     ]
    },
    {
     "name": "stdout",
     "output_type": "stream",
     "text": [
      "Falsas anomalias: 28284\n",
      "Acuracia: 0.6308776508972267\n",
      "gamma=0.1 nu=0.5 falsas_anomalias=28284 acuracia=0.6308776508972267\n"
     ]
    },
    {
     "name": "stderr",
     "output_type": "stream",
     "text": [
      "100%|████████████████████████████████████████████████████████████████████████████████████| 76625/76625 [06:51<00:00, 186.33it/s]\n"
     ]
    },
    {
     "name": "stdout",
     "output_type": "stream",
     "text": [
      "Falsas anomalias: 48998\n",
      "Acuracia: 0.36054812398042413\n",
      "gamma=0.1 nu=0.6 falsas_anomalias=48998 acuracia=0.36054812398042413\n"
     ]
    },
    {
     "name": "stderr",
     "output_type": "stream",
     "text": [
      "100%|████████████████████████████████████████████████████████████████████████████████████| 76625/76625 [07:50<00:00, 162.94it/s]\n"
     ]
    },
    {
     "name": "stdout",
     "output_type": "stream",
     "text": [
      "Falsas anomalias: 48998\n",
      "Acuracia: 0.36054812398042413\n",
      "gamma=0.1 nu=0.7 falsas_anomalias=48998 acuracia=0.36054812398042413\n"
     ]
    },
    {
     "name": "stderr",
     "output_type": "stream",
     "text": [
      "100%|████████████████████████████████████████████████████████████████████████████████████| 76625/76625 [08:07<00:00, 157.28it/s]\n"
     ]
    },
    {
     "name": "stdout",
     "output_type": "stream",
     "text": [
      "Falsas anomalias: 76625\n",
      "Acuracia: 0.0\n",
      "gamma=0.1 nu=0.8 falsas_anomalias=76625 acuracia=0.0\n"
     ]
    },
    {
     "name": "stderr",
     "output_type": "stream",
     "text": [
      "100%|████████████████████████████████████████████████████████████████████████████████████| 76625/76625 [08:57<00:00, 142.52it/s]\n"
     ]
    },
    {
     "name": "stdout",
     "output_type": "stream",
     "text": [
      "Falsas anomalias: 76625\n",
      "Acuracia: 0.0\n",
      "gamma=0.1 nu=0.9 falsas_anomalias=76625 acuracia=0.0\n"
     ]
    },
    {
     "name": "stderr",
     "output_type": "stream",
     "text": [
      "100%|███████████████████████████████████████████████████████████████████████████████████| 76625/76625 [01:11<00:00, 1071.53it/s]\n"
     ]
    },
    {
     "name": "stdout",
     "output_type": "stream",
     "text": [
      "Falsas anomalias: 17980\n",
      "Acuracia: 0.7653507340946166\n",
      "gamma=0.01 nu=0.1 falsas_anomalias=17980 acuracia=0.7653507340946166\n"
     ]
    },
    {
     "name": "stderr",
     "output_type": "stream",
     "text": [
      "100%|████████████████████████████████████████████████████████████████████████████████████| 76625/76625 [02:16<00:00, 563.30it/s]\n"
     ]
    },
    {
     "name": "stdout",
     "output_type": "stream",
     "text": [
      "Falsas anomalias: 11232\n",
      "Acuracia: 0.8534159869494291\n",
      "gamma=0.01 nu=0.2 falsas_anomalias=11232 acuracia=0.8534159869494291\n"
     ]
    },
    {
     "name": "stderr",
     "output_type": "stream",
     "text": [
      "100%|████████████████████████████████████████████████████████████████████████████████████| 76625/76625 [02:49<00:00, 451.75it/s]\n"
     ]
    },
    {
     "name": "stdout",
     "output_type": "stream",
     "text": [
      "Falsas anomalias: 4591\n",
      "Acuracia: 0.9400848287112561\n",
      "gamma=0.01 nu=0.3 falsas_anomalias=4591 acuracia=0.9400848287112561\n"
     ]
    },
    {
     "name": "stderr",
     "output_type": "stream",
     "text": [
      "100%|████████████████████████████████████████████████████████████████████████████████████| 76625/76625 [04:20<00:00, 293.96it/s]\n"
     ]
    },
    {
     "name": "stdout",
     "output_type": "stream",
     "text": [
      "Falsas anomalias: 54989\n",
      "Acuracia: 0.2823621533442088\n",
      "gamma=0.01 nu=0.4 falsas_anomalias=54989 acuracia=0.2823621533442088\n"
     ]
    },
    {
     "name": "stderr",
     "output_type": "stream",
     "text": [
      "100%|████████████████████████████████████████████████████████████████████████████████████| 76625/76625 [05:45<00:00, 221.51it/s]\n"
     ]
    },
    {
     "name": "stdout",
     "output_type": "stream",
     "text": [
      "Falsas anomalias: 27362\n",
      "Acuracia: 0.6429102773246329\n",
      "gamma=0.01 nu=0.5 falsas_anomalias=27362 acuracia=0.6429102773246329\n"
     ]
    },
    {
     "name": "stderr",
     "output_type": "stream",
     "text": [
      "100%|████████████████████████████████████████████████████████████████████████████████████| 76625/76625 [07:02<00:00, 181.25it/s]\n"
     ]
    },
    {
     "name": "stdout",
     "output_type": "stream",
     "text": [
      "Falsas anomalias: 48998\n",
      "Acuracia: 0.36054812398042413\n",
      "gamma=0.01 nu=0.6 falsas_anomalias=48998 acuracia=0.36054812398042413\n"
     ]
    },
    {
     "name": "stderr",
     "output_type": "stream",
     "text": [
      "100%|████████████████████████████████████████████████████████████████████████████████████| 76625/76625 [07:46<00:00, 164.09it/s]\n"
     ]
    },
    {
     "name": "stdout",
     "output_type": "stream",
     "text": [
      "Falsas anomalias: 32232\n",
      "Acuracia: 0.5793539967373573\n",
      "gamma=0.01 nu=0.7 falsas_anomalias=32232 acuracia=0.5793539967373573\n"
     ]
    },
    {
     "name": "stderr",
     "output_type": "stream",
     "text": [
      "100%|████████████████████████████████████████████████████████████████████████████████████| 76625/76625 [08:42<00:00, 146.71it/s]\n"
     ]
    },
    {
     "name": "stdout",
     "output_type": "stream",
     "text": [
      "Falsas anomalias: 48998\n",
      "Acuracia: 0.36054812398042413\n",
      "gamma=0.01 nu=0.8 falsas_anomalias=48998 acuracia=0.36054812398042413\n"
     ]
    },
    {
     "name": "stderr",
     "output_type": "stream",
     "text": [
      "100%|████████████████████████████████████████████████████████████████████████████████████| 76625/76625 [09:35<00:00, 133.09it/s]\n"
     ]
    },
    {
     "name": "stdout",
     "output_type": "stream",
     "text": [
      "Falsas anomalias: 48998\n",
      "Acuracia: 0.36054812398042413\n",
      "gamma=0.01 nu=0.9 falsas_anomalias=48998 acuracia=0.36054812398042413\n"
     ]
    },
    {
     "name": "stderr",
     "output_type": "stream",
     "text": [
      "100%|███████████████████████████████████████████████████████████████████████████████████| 76625/76625 [01:06<00:00, 1160.42it/s]\n"
     ]
    },
    {
     "name": "stdout",
     "output_type": "stream",
     "text": [
      "Falsas anomalias: 20201\n",
      "Acuracia: 0.7363654159869495\n",
      "gamma=0.001 nu=0.1 falsas_anomalias=20201 acuracia=0.7363654159869495\n"
     ]
    },
    {
     "name": "stderr",
     "output_type": "stream",
     "text": [
      "100%|████████████████████████████████████████████████████████████████████████████████████| 76625/76625 [02:14<00:00, 571.57it/s]\n"
     ]
    },
    {
     "name": "stdout",
     "output_type": "stream",
     "text": [
      "Falsas anomalias: 32232\n",
      "Acuracia: 0.5793539967373573\n",
      "gamma=0.001 nu=0.2 falsas_anomalias=32232 acuracia=0.5793539967373573\n"
     ]
    },
    {
     "name": "stderr",
     "output_type": "stream",
     "text": [
      "100%|████████████████████████████████████████████████████████████████████████████████████| 76625/76625 [03:06<00:00, 411.21it/s]\n"
     ]
    },
    {
     "name": "stdout",
     "output_type": "stream",
     "text": [
      "Falsas anomalias: 48998\n",
      "Acuracia: 0.36054812398042413\n",
      "gamma=0.001 nu=0.3 falsas_anomalias=48998 acuracia=0.36054812398042413\n"
     ]
    },
    {
     "name": "stderr",
     "output_type": "stream",
     "text": [
      "100%|████████████████████████████████████████████████████████████████████████████████████| 76625/76625 [04:17<00:00, 297.16it/s]\n"
     ]
    },
    {
     "name": "stdout",
     "output_type": "stream",
     "text": [
      "Falsas anomalias: 13500\n",
      "Acuracia: 0.8238172920065253\n",
      "gamma=0.001 nu=0.4 falsas_anomalias=13500 acuracia=0.8238172920065253\n"
     ]
    },
    {
     "name": "stderr",
     "output_type": "stream",
     "text": [
      "100%|████████████████████████████████████████████████████████████████████████████████████| 76625/76625 [04:52<00:00, 262.31it/s]\n"
     ]
    },
    {
     "name": "stdout",
     "output_type": "stream",
     "text": [
      "Falsas anomalias: 28284\n",
      "Acuracia: 0.6308776508972267\n",
      "gamma=0.001 nu=0.5 falsas_anomalias=28284 acuracia=0.6308776508972267\n"
     ]
    },
    {
     "name": "stderr",
     "output_type": "stream",
     "text": [
      "100%|████████████████████████████████████████████████████████████████████████████████████| 76625/76625 [06:22<00:00, 200.53it/s]\n"
     ]
    },
    {
     "name": "stdout",
     "output_type": "stream",
     "text": [
      "Falsas anomalias: 32232\n",
      "Acuracia: 0.5793539967373573\n",
      "gamma=0.001 nu=0.6 falsas_anomalias=32232 acuracia=0.5793539967373573\n"
     ]
    },
    {
     "name": "stderr",
     "output_type": "stream",
     "text": [
      "100%|████████████████████████████████████████████████████████████████████████████████████| 76625/76625 [07:30<00:00, 170.14it/s]\n"
     ]
    },
    {
     "name": "stdout",
     "output_type": "stream",
     "text": [
      "Falsas anomalias: 32232\n",
      "Acuracia: 0.5793539967373573\n",
      "gamma=0.001 nu=0.7 falsas_anomalias=32232 acuracia=0.5793539967373573\n"
     ]
    },
    {
     "name": "stderr",
     "output_type": "stream",
     "text": [
      "100%|████████████████████████████████████████████████████████████████████████████████████| 76625/76625 [08:26<00:00, 151.42it/s]\n"
     ]
    },
    {
     "name": "stdout",
     "output_type": "stream",
     "text": [
      "Falsas anomalias: 48998\n",
      "Acuracia: 0.36054812398042413\n",
      "gamma=0.001 nu=0.8 falsas_anomalias=48998 acuracia=0.36054812398042413\n"
     ]
    },
    {
     "name": "stderr",
     "output_type": "stream",
     "text": [
      "100%|████████████████████████████████████████████████████████████████████████████████████| 76625/76625 [09:38<00:00, 132.37it/s]"
     ]
    },
    {
     "name": "stdout",
     "output_type": "stream",
     "text": [
      "Falsas anomalias: 32232\n",
      "Acuracia: 0.5793539967373573\n",
      "gamma=0.001 nu=0.9 falsas_anomalias=32232 acuracia=0.5793539967373573\n",
      "CPU times: user 14h 29min 2s, sys: 4min 13s, total: 14h 33min 16s\n",
      "Wall time: 14h 42min 35s\n"
     ]
    },
    {
     "name": "stderr",
     "output_type": "stream",
     "text": [
      "\n"
     ]
    }
   ],
   "source": [
    "%%time\n",
    "from tqdm import tqdm\n",
    "import os\n",
    "import glob\n",
    "from sklearn import svm\n",
    "\n",
    "corpus = glob.glob(os.path.join(root_dir, tipo_log, '*'))\n",
    "print(f'Quantidade de arquivos: {len(corpus)}')\n",
    "\n",
    "gammas    = [.9, .8, .7, .6, .5, .4, .3, .2, .1, .01, .001]\n",
    "nus       = [.1, .2, .3, .4, .5, .6, .7, .8, .9]\n",
    "resultado = []\n",
    "\n",
    "for gamma in gammas:\n",
    "    for nu in nus:\n",
    "        oneclass = svm.OneClassSVM(kernel='poly', gamma=gamma, nu=nu)\n",
    "        oneclass.fit(X)\n",
    "        #\n",
    "        predicoes = []\n",
    "        for arq in tqdm(corpus):\n",
    "            X_validar = vectorizer.transform([arq])\n",
    "            predicao = oneclass.predict(X_validar)\n",
    "            predicoes.append(predicao[0])\n",
    "            \n",
    "        falsas_anomalias = predicoes.count(-1)\n",
    "        acuracia         = 1-(predicoes.count(-1)/len(predicoes))\n",
    "        print(f'Falsas anomalias: {falsas_anomalias}')\n",
    "        print(f'Acuracia: {acuracia}')\n",
    "        #\n",
    "        resultado.append([gamma, nu, falsas_anomalias, acuracia])\n",
    "        print(f'gamma={gamma} nu={nu} falsas_anomalias={falsas_anomalias} acuracia={acuracia}')"
   ]
  },
  {
   "cell_type": "code",
   "execution_count": 4,
   "id": "97fdf13d-61bd-466e-9c31-91f3417150cf",
   "metadata": {},
   "outputs": [
    {
     "name": "stdout",
     "output_type": "stream",
     "text": [
      "0.9;0.1;19823;0.7412985318107668;\n",
      "0.9;0.2;15728;0.7947406199021207;\n",
      "0.9;0.3;62890;0.1792495921696574;\n",
      "0.9;0.4;54989;0.2823621533442088;\n",
      "0.9;0.5;44128;0.4241044045676998;\n",
      "0.9;0.6;32232;0.5793539967373573;\n",
      "0.9;0.7;32232;0.5793539967373573;\n",
      "0.9;0.8;32232;0.5793539967373573;\n",
      "0.9;0.9;48998;0.36054812398042413;\n",
      "0.8;0.1;13444;0.8245481239804242;\n",
      "0.8;0.2;19039;0.7515301794453507;\n",
      "0.8;0.3;37025;0.5168026101141925;\n",
      "0.8;0.4;44128;0.4241044045676998;\n",
      "0.8;0.5;48998;0.36054812398042413;\n",
      "0.8;0.6;76625;0.0;\n",
      "0.8;0.7;76625;0.0;\n",
      "0.8;0.8;76625;0.0;\n",
      "0.8;0.9;76625;0.0;\n",
      "0.7;0.1;11452;0.8505448613376836;\n",
      "0.7;0.2;24983;0.6739575856443719;\n",
      "0.7;0.3;37025;0.5168026101141925;\n",
      "0.7;0.4;54989;0.2823621533442088;\n",
      "0.7;0.5;44128;0.4241044045676998;\n",
      "0.7;0.6;32232;0.5793539967373573;\n",
      "0.7;0.7;32232;0.5793539967373573;\n",
      "0.7;0.8;32232;0.5793539967373573;\n",
      "0.7;0.9;48998;0.36054812398042413;\n",
      "0.6;0.1;19398;0.7468450244698206;\n",
      "0.6;0.2;16508;0.7845611745513866;\n",
      "0.6;0.3;32475;0.5761827079934747;\n",
      "0.6;0.4;44128;0.4241044045676998;\n",
      "0.6;0.5;48998;0.36054812398042413;\n",
      "0.6;0.6;76625;0.0;\n",
      "0.6;0.7;76625;0.0;\n",
      "0.6;0.8;76625;0.0;\n",
      "0.6;0.9;76625;0.0;\n",
      "0.5;0.1;23362;0.6951125611745514;\n",
      "0.5;0.2;11754;0.8466035889070147;\n",
      "0.5;0.3;41146;0.46302120717781403;\n",
      "0.5;0.4;44128;0.4241044045676998;\n",
      "0.5;0.5;75703;0.012032626427406212;\n",
      "0.5;0.6;32232;0.5793539967373573;\n",
      "0.5;0.7;32232;0.5793539967373573;\n",
      "0.5;0.8;32232;0.5793539967373573;\n",
      "0.5;0.9;48998;0.36054812398042413;\n",
      "0.4;0.1;30969;0.5958368678629691;\n",
      "0.4;0.2;20544;0.7318890701468189;\n",
      "0.4;0.3;45583;0.40511582381729205;\n",
      "0.4;0.4;31310;0.5913866231647635;\n",
      "0.4;0.5;48998;0.36054812398042413;\n",
      "0.4;0.6;76625;0.0;\n",
      "0.4;0.7;76625;0.0;\n",
      "0.4;0.8;76625;0.0;\n",
      "0.4;0.9;76625;0.0;\n",
      "0.3;0.1;32610;0.57442088091354;\n",
      "0.3;0.2;12780;0.8332137030995106;\n",
      "0.3;0.3;52709;0.3121174551386623;\n",
      "0.3;0.4;31310;0.5913866231647635;\n",
      "0.3;0.5;48998;0.36054812398042413;\n",
      "0.3;0.6;76625;0.0;\n",
      "0.3;0.7;76625;0.0;\n",
      "0.3;0.8;76625;0.0;\n",
      "0.3;0.9;76625;0.0;\n",
      "0.2;0.1;30323;0.6042675367047308;\n",
      "0.2;0.2;20509;0.7323458401305056;\n",
      "0.2;0.3;5091;0.9335595432300163;\n",
      "0.2;0.4;31310;0.5913866231647635;\n",
      "0.2;0.5;48998;0.36054812398042413;\n",
      "0.2;0.6;76625;0.0;\n",
      "0.2;0.7;76625;0.0;\n",
      "0.2;0.8;76625;0.0;\n",
      "0.2;0.9;76625;0.0;\n",
      "0.1;0.1;32013;0.5822120717781403;\n",
      "0.1;0.2;24741;0.6771158238172921;\n",
      "0.1;0.3;17473;0.7719673735725938;\n",
      "0.1;0.4;44128;0.4241044045676998;\n",
      "0.1;0.5;28284;0.6308776508972267;\n",
      "0.1;0.6;48998;0.36054812398042413;\n",
      "0.1;0.7;48998;0.36054812398042413;\n",
      "0.1;0.8;76625;0.0;\n",
      "0.1;0.9;76625;0.0;\n",
      "0.01;0.1;17980;0.7653507340946166;\n",
      "0.01;0.2;11232;0.8534159869494291;\n",
      "0.01;0.3;4591;0.9400848287112561;\n",
      "0.01;0.4;54989;0.2823621533442088;\n",
      "0.01;0.5;27362;0.6429102773246329;\n",
      "0.01;0.6;48998;0.36054812398042413;\n",
      "0.01;0.7;32232;0.5793539967373573;\n",
      "0.01;0.8;48998;0.36054812398042413;\n",
      "0.01;0.9;48998;0.36054812398042413;\n",
      "0.001;0.1;20201;0.7363654159869495;\n",
      "0.001;0.2;32232;0.5793539967373573;\n",
      "0.001;0.3;48998;0.36054812398042413;\n",
      "0.001;0.4;13500;0.8238172920065253;\n",
      "0.001;0.5;28284;0.6308776508972267;\n",
      "0.001;0.6;32232;0.5793539967373573;\n",
      "0.001;0.7;32232;0.5793539967373573;\n",
      "0.001;0.8;48998;0.36054812398042413;\n",
      "0.001;0.9;32232;0.5793539967373573;\n"
     ]
    }
   ],
   "source": [
    "for r in resultado:\n",
    "    print(f'{r[0]};{r[1]};{r[2]};{r[3]};')"
   ]
  },
  {
   "cell_type": "code",
   "execution_count": 3,
   "id": "189fa9e2-0294-4d65-b3d0-b07c2537e9b1",
   "metadata": {},
   "outputs": [
    {
     "name": "stdout",
     "output_type": "stream",
     "text": [
      "Quantidade de arquivos: 76625\n"
     ]
    },
    {
     "name": "stderr",
     "output_type": "stream",
     "text": [
      "100%|████████████████████████████████████████████████████████████████████████████████████| 76625/76625 [04:04<00:00, 313.34it/s]\n"
     ]
    }
   ],
   "source": [
    "## AVALIANDO O MODELO\n",
    "from tqdm import tqdm\n",
    "import os\n",
    "import glob\n",
    "\n",
    "corpus = glob.glob(os.path.join(root_dir, tipo_log, '*'))\n",
    "print(f'Quantidade de arquivos: {len(corpus)}')\n",
    "\n",
    "predicoes = []\n",
    "\n",
    "for arq in tqdm(corpus):\n",
    "    X_validar = vectorizer.transform([arq])\n",
    "    predicao = oneclass.predict(X_validar)\n",
    "    predicoes.append(predicao[0])\n"
   ]
  },
  {
   "cell_type": "code",
   "execution_count": 4,
   "id": "bf8f0584-37c2-4b1c-a676-d0b0c1a8276e",
   "metadata": {},
   "outputs": [
    {
     "name": "stdout",
     "output_type": "stream",
     "text": [
      "Falsas anomalias: 7904\n",
      "Acuracia: 0.8968482871125611\n"
     ]
    }
   ],
   "source": [
    "## Contagem de falsas anomalias\n",
    "# kernel='rbf', gamma=0.001, nu=0.4\n",
    "print(f'Falsas anomalias: {predicoes.count(-1)}')\n",
    "print(f'Acuracia: {1-(predicoes.count(-1)/len(predicoes))}')"
   ]
  },
  {
   "cell_type": "code",
   "execution_count": 5,
   "id": "de778c92-9b41-415a-9d64-aa17e12c5c3f",
   "metadata": {},
   "outputs": [
    {
     "name": "stdout",
     "output_type": "stream",
     "text": [
      "ALL PhysicalConnectionManager connections: active: 6, listening: 14, loopback: 2\n",
      "[-1]\n",
      "[array(['active', 'active listening', 'connections', 'connections active',\n",
      "       'listening', 'listening loopback', 'loopback',\n",
      "       'physicalconnectionmanager',\n",
      "       'physicalconnectionmanager connections'], dtype='<U54')]\n",
      "['/home/ricardo/pucrs/TCC/anomalias/anomalia.log']\n"
     ]
    }
   ],
   "source": [
    "import os\n",
    "\n",
    "log_path = os.path.join('/home/ricardo/pucrs/TCC/anomalias', 'anomalia.log')\n",
    "\n",
    "with open(log_path,'w') as file:\n",
    "    #file.write('this is a simple test for identification of the anomaly log entry.\\n')\n",
    "    file.write('ALL PhysicalConnectionManager connections: active: 6, listening: 14, loopback: 2')\n",
    "\n",
    "texto = [log_path]\n",
    "\n",
    "!cat {log_path}\n",
    "\n",
    "X_validar = vectorizer.transform(texto)\n",
    "X_inverse = vectorizer.inverse_transform(X_validar)\n",
    "\n",
    "predict = oneclass.predict(X_validar)\n",
    "print(f'\\n{predict}')\n",
    "print(X_inverse)\n",
    "print(texto)\n"
   ]
  }
 ],
 "metadata": {
  "kernelspec": {
   "display_name": "Python 3 (ipykernel)",
   "language": "python",
   "name": "python3"
  },
  "language_info": {
   "codemirror_mode": {
    "name": "ipython",
    "version": 3
   },
   "file_extension": ".py",
   "mimetype": "text/x-python",
   "name": "python",
   "nbconvert_exporter": "python",
   "pygments_lexer": "ipython3",
   "version": "3.10.12"
  }
 },
 "nbformat": 4,
 "nbformat_minor": 5
}
