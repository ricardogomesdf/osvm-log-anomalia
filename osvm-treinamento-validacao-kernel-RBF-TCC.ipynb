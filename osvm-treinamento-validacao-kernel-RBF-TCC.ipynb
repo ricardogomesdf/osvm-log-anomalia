{
 "cells": [
  {
   "cell_type": "code",
   "execution_count": 3,
   "id": "a6b0683c-7de9-47b6-961f-4b91e1f713ec",
   "metadata": {},
   "outputs": [
    {
     "name": "stdout",
     "output_type": "stream",
     "text": [
      "Qtd documentos no corpus de cdinterop_cdjava.log: 100000\n",
      "(100000, 1300)\n",
      "CPU times: user 1.18 s, sys: 292 ms, total: 1.47 s\n",
      "Wall time: 1.49 s\n"
     ]
    }
   ],
   "source": [
    "%%time\n",
    "import glob\n",
    "from time import time\n",
    "from sklearn.feature_extraction.text import TfidfVectorizer\n",
    "\n",
    "root_dir = '/home/ricardo/pucrs/TCC/logs-corpus/'\n",
    "tipo_log = 'Perimeter.log'\n",
    "\n",
    "corpus = glob.glob(os.path.join(root_dir, tipo_log, '*'))\n",
    "print(f'Qtd documentos no corpus de {tipo_log}: {len(corpus)}')\n",
    "vectorizer = TfidfVectorizer(input='filename', stop_words='english', smooth_idf = True, ngram_range=(1,1),\n",
    "                             token_pattern=r'(?u)\\b\\w*[a-zA-Z]\\w+\\b')\n",
    "X = vectorizer.fit_transform(corpus)\n",
    "\n",
    "#print(vectorizer.get_feature_names_out())\n",
    "print(X.shape)"
   ]
  },
  {
   "cell_type": "code",
   "execution_count": 4,
   "id": "0c7f4929-1361-46f0-be16-0a10a2ef7b0b",
   "metadata": {},
   "outputs": [
    {
     "name": "stdout",
     "output_type": "stream",
     "text": [
      "Quantidade de arquivos: 100000\n"
     ]
    },
    {
     "name": "stderr",
     "output_type": "stream",
     "text": [
      "100%|██████████████████████████████████████████████████████████████████████████████████| 100000/100000 [04:32<00:00, 367.27it/s]\n"
     ]
    },
    {
     "name": "stdout",
     "output_type": "stream",
     "text": [
      "Falsas anomalias: 20334\n",
      "Acuracia: 0.79666\n",
      "gamma=0.9 nu=0.1 falsas_anomalias=20334 acuracia=0.79666\n"
     ]
    },
    {
     "name": "stderr",
     "output_type": "stream",
     "text": [
      "100%|██████████████████████████████████████████████████████████████████████████████████| 100000/100000 [05:40<00:00, 293.82it/s]\n"
     ]
    },
    {
     "name": "stdout",
     "output_type": "stream",
     "text": [
      "Falsas anomalias: 21661\n",
      "Acuracia: 0.78339\n",
      "gamma=0.9 nu=0.2 falsas_anomalias=21661 acuracia=0.78339\n"
     ]
    },
    {
     "name": "stderr",
     "output_type": "stream",
     "text": [
      "100%|██████████████████████████████████████████████████████████████████████████████████| 100000/100000 [07:42<00:00, 216.30it/s]\n"
     ]
    },
    {
     "name": "stdout",
     "output_type": "stream",
     "text": [
      "Falsas anomalias: 28173\n",
      "Acuracia: 0.71827\n",
      "gamma=0.9 nu=0.3 falsas_anomalias=28173 acuracia=0.71827\n"
     ]
    },
    {
     "name": "stderr",
     "output_type": "stream",
     "text": [
      "100%|██████████████████████████████████████████████████████████████████████████████████| 100000/100000 [10:14<00:00, 162.78it/s]\n"
     ]
    },
    {
     "name": "stdout",
     "output_type": "stream",
     "text": [
      "Falsas anomalias: 43558\n",
      "Acuracia: 0.5644199999999999\n",
      "gamma=0.9 nu=0.4 falsas_anomalias=43558 acuracia=0.5644199999999999\n"
     ]
    },
    {
     "name": "stderr",
     "output_type": "stream",
     "text": [
      "100%|██████████████████████████████████████████████████████████████████████████████████| 100000/100000 [09:03<00:00, 184.04it/s]\n"
     ]
    },
    {
     "name": "stdout",
     "output_type": "stream",
     "text": [
      "Falsas anomalias: 51203\n",
      "Acuracia: 0.48797\n",
      "gamma=0.9 nu=0.5 falsas_anomalias=51203 acuracia=0.48797\n"
     ]
    },
    {
     "name": "stderr",
     "output_type": "stream",
     "text": [
      "100%|██████████████████████████████████████████████████████████████████████████████████| 100000/100000 [11:04<00:00, 150.59it/s]\n"
     ]
    },
    {
     "name": "stdout",
     "output_type": "stream",
     "text": [
      "Falsas anomalias: 58680\n",
      "Acuracia: 0.4132\n",
      "gamma=0.9 nu=0.6 falsas_anomalias=58680 acuracia=0.4132\n"
     ]
    },
    {
     "name": "stderr",
     "output_type": "stream",
     "text": [
      "100%|██████████████████████████████████████████████████████████████████████████████████| 100000/100000 [12:08<00:00, 137.34it/s]\n"
     ]
    },
    {
     "name": "stdout",
     "output_type": "stream",
     "text": [
      "Falsas anomalias: 65335\n",
      "Acuracia: 0.34665\n",
      "gamma=0.9 nu=0.7 falsas_anomalias=65335 acuracia=0.34665\n"
     ]
    },
    {
     "name": "stderr",
     "output_type": "stream",
     "text": [
      "100%|██████████████████████████████████████████████████████████████████████████████████| 100000/100000 [13:21<00:00, 124.72it/s]\n"
     ]
    },
    {
     "name": "stdout",
     "output_type": "stream",
     "text": [
      "Falsas anomalias: 76828\n",
      "Acuracia: 0.23172000000000004\n",
      "gamma=0.9 nu=0.8 falsas_anomalias=76828 acuracia=0.23172000000000004\n"
     ]
    },
    {
     "name": "stderr",
     "output_type": "stream",
     "text": [
      "100%|██████████████████████████████████████████████████████████████████████████████████| 100000/100000 [15:04<00:00, 110.60it/s]\n"
     ]
    },
    {
     "name": "stdout",
     "output_type": "stream",
     "text": [
      "Falsas anomalias: 89141\n",
      "Acuracia: 0.10858999999999996\n",
      "gamma=0.9 nu=0.9 falsas_anomalias=89141 acuracia=0.10858999999999996\n"
     ]
    },
    {
     "name": "stderr",
     "output_type": "stream",
     "text": [
      "100%|██████████████████████████████████████████████████████████████████████████████████| 100000/100000 [03:21<00:00, 496.14it/s]\n"
     ]
    },
    {
     "name": "stdout",
     "output_type": "stream",
     "text": [
      "Falsas anomalias: 19968\n",
      "Acuracia: 0.80032\n",
      "gamma=0.8 nu=0.1 falsas_anomalias=19968 acuracia=0.80032\n"
     ]
    },
    {
     "name": "stderr",
     "output_type": "stream",
     "text": [
      "100%|██████████████████████████████████████████████████████████████████████████████████| 100000/100000 [04:10<00:00, 399.83it/s]\n"
     ]
    },
    {
     "name": "stdout",
     "output_type": "stream",
     "text": [
      "Falsas anomalias: 22383\n",
      "Acuracia: 0.77617\n",
      "gamma=0.8 nu=0.2 falsas_anomalias=22383 acuracia=0.77617\n"
     ]
    },
    {
     "name": "stderr",
     "output_type": "stream",
     "text": [
      "100%|██████████████████████████████████████████████████████████████████████████████████| 100000/100000 [05:27<00:00, 305.67it/s]\n"
     ]
    },
    {
     "name": "stdout",
     "output_type": "stream",
     "text": [
      "Falsas anomalias: 26962\n",
      "Acuracia: 0.73038\n",
      "gamma=0.8 nu=0.3 falsas_anomalias=26962 acuracia=0.73038\n"
     ]
    },
    {
     "name": "stderr",
     "output_type": "stream",
     "text": [
      "100%|██████████████████████████████████████████████████████████████████████████████████| 100000/100000 [07:12<00:00, 230.95it/s]\n"
     ]
    },
    {
     "name": "stdout",
     "output_type": "stream",
     "text": [
      "Falsas anomalias: 43128\n",
      "Acuracia: 0.56872\n",
      "gamma=0.8 nu=0.4 falsas_anomalias=43128 acuracia=0.56872\n"
     ]
    },
    {
     "name": "stderr",
     "output_type": "stream",
     "text": [
      "100%|██████████████████████████████████████████████████████████████████████████████████| 100000/100000 [08:55<00:00, 186.71it/s]\n"
     ]
    },
    {
     "name": "stdout",
     "output_type": "stream",
     "text": [
      "Falsas anomalias: 51415\n",
      "Acuracia: 0.48585\n",
      "gamma=0.8 nu=0.5 falsas_anomalias=51415 acuracia=0.48585\n"
     ]
    },
    {
     "name": "stderr",
     "output_type": "stream",
     "text": [
      "100%|██████████████████████████████████████████████████████████████████████████████████| 100000/100000 [11:09<00:00, 149.44it/s]\n"
     ]
    },
    {
     "name": "stdout",
     "output_type": "stream",
     "text": [
      "Falsas anomalias: 58760\n",
      "Acuracia: 0.4124\n",
      "gamma=0.8 nu=0.6 falsas_anomalias=58760 acuracia=0.4124\n"
     ]
    },
    {
     "name": "stderr",
     "output_type": "stream",
     "text": [
      "100%|██████████████████████████████████████████████████████████████████████████████████| 100000/100000 [12:05<00:00, 137.91it/s]\n"
     ]
    },
    {
     "name": "stdout",
     "output_type": "stream",
     "text": [
      "Falsas anomalias: 66492\n",
      "Acuracia: 0.33508000000000004\n",
      "gamma=0.8 nu=0.7 falsas_anomalias=66492 acuracia=0.33508000000000004\n"
     ]
    },
    {
     "name": "stderr",
     "output_type": "stream",
     "text": [
      "100%|██████████████████████████████████████████████████████████████████████████████████| 100000/100000 [13:34<00:00, 122.74it/s]\n"
     ]
    },
    {
     "name": "stdout",
     "output_type": "stream",
     "text": [
      "Falsas anomalias: 77798\n",
      "Acuracia: 0.22202\n",
      "gamma=0.8 nu=0.8 falsas_anomalias=77798 acuracia=0.22202\n"
     ]
    },
    {
     "name": "stderr",
     "output_type": "stream",
     "text": [
      "100%|██████████████████████████████████████████████████████████████████████████████████| 100000/100000 [15:10<00:00, 109.83it/s]\n"
     ]
    },
    {
     "name": "stdout",
     "output_type": "stream",
     "text": [
      "Falsas anomalias: 90433\n",
      "Acuracia: 0.09567000000000003\n",
      "gamma=0.8 nu=0.9 falsas_anomalias=90433 acuracia=0.09567000000000003\n"
     ]
    },
    {
     "name": "stderr",
     "output_type": "stream",
     "text": [
      "100%|██████████████████████████████████████████████████████████████████████████████████| 100000/100000 [03:21<00:00, 496.03it/s]\n"
     ]
    },
    {
     "name": "stdout",
     "output_type": "stream",
     "text": [
      "Falsas anomalias: 20022\n",
      "Acuracia: 0.7997799999999999\n",
      "gamma=0.7 nu=0.1 falsas_anomalias=20022 acuracia=0.7997799999999999\n"
     ]
    },
    {
     "name": "stderr",
     "output_type": "stream",
     "text": [
      "100%|██████████████████████████████████████████████████████████████████████████████████| 100000/100000 [04:14<00:00, 393.10it/s]\n"
     ]
    },
    {
     "name": "stdout",
     "output_type": "stream",
     "text": [
      "Falsas anomalias: 21395\n",
      "Acuracia: 0.78605\n",
      "gamma=0.7 nu=0.2 falsas_anomalias=21395 acuracia=0.78605\n"
     ]
    },
    {
     "name": "stderr",
     "output_type": "stream",
     "text": [
      "100%|██████████████████████████████████████████████████████████████████████████████████| 100000/100000 [05:28<00:00, 304.19it/s]\n"
     ]
    },
    {
     "name": "stdout",
     "output_type": "stream",
     "text": [
      "Falsas anomalias: 27584\n",
      "Acuracia: 0.72416\n",
      "gamma=0.7 nu=0.3 falsas_anomalias=27584 acuracia=0.72416\n"
     ]
    },
    {
     "name": "stderr",
     "output_type": "stream",
     "text": [
      "100%|██████████████████████████████████████████████████████████████████████████████████| 100000/100000 [07:05<00:00, 235.00it/s]\n"
     ]
    },
    {
     "name": "stdout",
     "output_type": "stream",
     "text": [
      "Falsas anomalias: 42458\n",
      "Acuracia: 0.57542\n",
      "gamma=0.7 nu=0.4 falsas_anomalias=42458 acuracia=0.57542\n"
     ]
    },
    {
     "name": "stderr",
     "output_type": "stream",
     "text": [
      "100%|██████████████████████████████████████████████████████████████████████████████████| 100000/100000 [09:31<00:00, 174.96it/s]\n"
     ]
    },
    {
     "name": "stdout",
     "output_type": "stream",
     "text": [
      "Falsas anomalias: 54639\n",
      "Acuracia: 0.45360999999999996\n",
      "gamma=0.7 nu=0.5 falsas_anomalias=54639 acuracia=0.45360999999999996\n"
     ]
    },
    {
     "name": "stderr",
     "output_type": "stream",
     "text": [
      "100%|██████████████████████████████████████████████████████████████████████████████████| 100000/100000 [11:04<00:00, 150.48it/s]\n"
     ]
    },
    {
     "name": "stdout",
     "output_type": "stream",
     "text": [
      "Falsas anomalias: 60839\n",
      "Acuracia: 0.39161\n",
      "gamma=0.7 nu=0.6 falsas_anomalias=60839 acuracia=0.39161\n"
     ]
    },
    {
     "name": "stderr",
     "output_type": "stream",
     "text": [
      "100%|██████████████████████████████████████████████████████████████████████████████████| 100000/100000 [12:12<00:00, 136.49it/s]\n"
     ]
    },
    {
     "name": "stdout",
     "output_type": "stream",
     "text": [
      "Falsas anomalias: 69858\n",
      "Acuracia: 0.30142\n",
      "gamma=0.7 nu=0.7 falsas_anomalias=69858 acuracia=0.30142\n"
     ]
    },
    {
     "name": "stderr",
     "output_type": "stream",
     "text": [
      "100%|██████████████████████████████████████████████████████████████████████████████████| 100000/100000 [13:43<00:00, 121.36it/s]\n"
     ]
    },
    {
     "name": "stdout",
     "output_type": "stream",
     "text": [
      "Falsas anomalias: 78343\n",
      "Acuracia: 0.21657000000000004\n",
      "gamma=0.7 nu=0.8 falsas_anomalias=78343 acuracia=0.21657000000000004\n"
     ]
    },
    {
     "name": "stderr",
     "output_type": "stream",
     "text": [
      "100%|██████████████████████████████████████████████████████████████████████████████████| 100000/100000 [15:33<00:00, 107.11it/s]\n"
     ]
    },
    {
     "name": "stdout",
     "output_type": "stream",
     "text": [
      "Falsas anomalias: 90601\n",
      "Acuracia: 0.09399000000000002\n",
      "gamma=0.7 nu=0.9 falsas_anomalias=90601 acuracia=0.09399000000000002\n"
     ]
    },
    {
     "name": "stderr",
     "output_type": "stream",
     "text": [
      "100%|██████████████████████████████████████████████████████████████████████████████████| 100000/100000 [03:27<00:00, 481.43it/s]\n"
     ]
    },
    {
     "name": "stdout",
     "output_type": "stream",
     "text": [
      "Falsas anomalias: 19988\n",
      "Acuracia: 0.8001199999999999\n",
      "gamma=0.6 nu=0.1 falsas_anomalias=19988 acuracia=0.8001199999999999\n"
     ]
    },
    {
     "name": "stderr",
     "output_type": "stream",
     "text": [
      "100%|██████████████████████████████████████████████████████████████████████████████████| 100000/100000 [04:21<00:00, 382.76it/s]\n"
     ]
    },
    {
     "name": "stdout",
     "output_type": "stream",
     "text": [
      "Falsas anomalias: 21377\n",
      "Acuracia: 0.78623\n",
      "gamma=0.6 nu=0.2 falsas_anomalias=21377 acuracia=0.78623\n"
     ]
    },
    {
     "name": "stderr",
     "output_type": "stream",
     "text": [
      "100%|██████████████████████████████████████████████████████████████████████████████████| 100000/100000 [05:42<00:00, 292.38it/s]\n"
     ]
    },
    {
     "name": "stdout",
     "output_type": "stream",
     "text": [
      "Falsas anomalias: 28146\n",
      "Acuracia: 0.71854\n",
      "gamma=0.6 nu=0.3 falsas_anomalias=28146 acuracia=0.71854\n"
     ]
    },
    {
     "name": "stderr",
     "output_type": "stream",
     "text": [
      "100%|██████████████████████████████████████████████████████████████████████████████████| 100000/100000 [07:22<00:00, 226.16it/s]\n"
     ]
    },
    {
     "name": "stdout",
     "output_type": "stream",
     "text": [
      "Falsas anomalias: 40436\n",
      "Acuracia: 0.59564\n",
      "gamma=0.6 nu=0.4 falsas_anomalias=40436 acuracia=0.59564\n"
     ]
    },
    {
     "name": "stderr",
     "output_type": "stream",
     "text": [
      "100%|██████████████████████████████████████████████████████████████████████████████████| 100000/100000 [09:44<00:00, 171.08it/s]\n"
     ]
    },
    {
     "name": "stdout",
     "output_type": "stream",
     "text": [
      "Falsas anomalias: 55608\n",
      "Acuracia: 0.44392\n",
      "gamma=0.6 nu=0.5 falsas_anomalias=55608 acuracia=0.44392\n"
     ]
    },
    {
     "name": "stderr",
     "output_type": "stream",
     "text": [
      "100%|██████████████████████████████████████████████████████████████████████████████████| 100000/100000 [11:25<00:00, 145.80it/s]\n"
     ]
    },
    {
     "name": "stdout",
     "output_type": "stream",
     "text": [
      "Falsas anomalias: 63804\n",
      "Acuracia: 0.36195999999999995\n",
      "gamma=0.6 nu=0.6 falsas_anomalias=63804 acuracia=0.36195999999999995\n"
     ]
    },
    {
     "name": "stderr",
     "output_type": "stream",
     "text": [
      "100%|██████████████████████████████████████████████████████████████████████████████████| 100000/100000 [12:42<00:00, 131.21it/s]\n"
     ]
    },
    {
     "name": "stdout",
     "output_type": "stream",
     "text": [
      "Falsas anomalias: 70990\n",
      "Acuracia: 0.2901\n",
      "gamma=0.6 nu=0.7 falsas_anomalias=70990 acuracia=0.2901\n"
     ]
    },
    {
     "name": "stderr",
     "output_type": "stream",
     "text": [
      "100%|██████████████████████████████████████████████████████████████████████████████████| 100000/100000 [13:49<00:00, 120.51it/s]\n"
     ]
    },
    {
     "name": "stdout",
     "output_type": "stream",
     "text": [
      "Falsas anomalias: 79863\n",
      "Acuracia: 0.20137000000000005\n",
      "gamma=0.6 nu=0.8 falsas_anomalias=79863 acuracia=0.20137000000000005\n"
     ]
    },
    {
     "name": "stderr",
     "output_type": "stream",
     "text": [
      "100%|██████████████████████████████████████████████████████████████████████████████████| 100000/100000 [15:27<00:00, 107.77it/s]\n"
     ]
    },
    {
     "name": "stdout",
     "output_type": "stream",
     "text": [
      "Falsas anomalias: 89913\n",
      "Acuracia: 0.10087000000000002\n",
      "gamma=0.6 nu=0.9 falsas_anomalias=89913 acuracia=0.10087000000000002\n"
     ]
    },
    {
     "name": "stderr",
     "output_type": "stream",
     "text": [
      "100%|██████████████████████████████████████████████████████████████████████████████████| 100000/100000 [03:28<00:00, 478.86it/s]\n"
     ]
    },
    {
     "name": "stdout",
     "output_type": "stream",
     "text": [
      "Falsas anomalias: 20342\n",
      "Acuracia: 0.7965800000000001\n",
      "gamma=0.5 nu=0.1 falsas_anomalias=20342 acuracia=0.7965800000000001\n"
     ]
    },
    {
     "name": "stderr",
     "output_type": "stream",
     "text": [
      "100%|██████████████████████████████████████████████████████████████████████████████████| 100000/100000 [04:28<00:00, 373.09it/s]\n"
     ]
    },
    {
     "name": "stdout",
     "output_type": "stream",
     "text": [
      "Falsas anomalias: 20648\n",
      "Acuracia: 0.79352\n",
      "gamma=0.5 nu=0.2 falsas_anomalias=20648 acuracia=0.79352\n"
     ]
    },
    {
     "name": "stderr",
     "output_type": "stream",
     "text": [
      "100%|██████████████████████████████████████████████████████████████████████████████████| 100000/100000 [05:47<00:00, 288.03it/s]\n"
     ]
    },
    {
     "name": "stdout",
     "output_type": "stream",
     "text": [
      "Falsas anomalias: 30068\n",
      "Acuracia: 0.6993199999999999\n",
      "gamma=0.5 nu=0.3 falsas_anomalias=30068 acuracia=0.6993199999999999\n"
     ]
    },
    {
     "name": "stderr",
     "output_type": "stream",
     "text": [
      "100%|██████████████████████████████████████████████████████████████████████████████████| 100000/100000 [07:09<00:00, 232.77it/s]\n"
     ]
    },
    {
     "name": "stdout",
     "output_type": "stream",
     "text": [
      "Falsas anomalias: 40004\n",
      "Acuracia: 0.59996\n",
      "gamma=0.5 nu=0.4 falsas_anomalias=40004 acuracia=0.59996\n"
     ]
    },
    {
     "name": "stderr",
     "output_type": "stream",
     "text": [
      "100%|██████████████████████████████████████████████████████████████████████████████████| 100000/100000 [09:43<00:00, 171.50it/s]\n"
     ]
    },
    {
     "name": "stdout",
     "output_type": "stream",
     "text": [
      "Falsas anomalias: 53582\n",
      "Acuracia: 0.46418000000000004\n",
      "gamma=0.5 nu=0.5 falsas_anomalias=53582 acuracia=0.46418000000000004\n"
     ]
    },
    {
     "name": "stderr",
     "output_type": "stream",
     "text": [
      "100%|██████████████████████████████████████████████████████████████████████████████████| 100000/100000 [11:29<00:00, 144.95it/s]\n"
     ]
    },
    {
     "name": "stdout",
     "output_type": "stream",
     "text": [
      "Falsas anomalias: 63656\n",
      "Acuracia: 0.36344\n",
      "gamma=0.5 nu=0.6 falsas_anomalias=63656 acuracia=0.36344\n"
     ]
    },
    {
     "name": "stderr",
     "output_type": "stream",
     "text": [
      "100%|██████████████████████████████████████████████████████████████████████████████████| 100000/100000 [12:46<00:00, 130.49it/s]\n"
     ]
    },
    {
     "name": "stdout",
     "output_type": "stream",
     "text": [
      "Falsas anomalias: 71784\n",
      "Acuracia: 0.28215999999999997\n",
      "gamma=0.5 nu=0.7 falsas_anomalias=71784 acuracia=0.28215999999999997\n"
     ]
    },
    {
     "name": "stderr",
     "output_type": "stream",
     "text": [
      "100%|██████████████████████████████████████████████████████████████████████████████████| 100000/100000 [14:02<00:00, 118.72it/s]\n"
     ]
    },
    {
     "name": "stdout",
     "output_type": "stream",
     "text": [
      "Falsas anomalias: 78319\n",
      "Acuracia: 0.21680999999999995\n",
      "gamma=0.5 nu=0.8 falsas_anomalias=78319 acuracia=0.21680999999999995\n"
     ]
    },
    {
     "name": "stderr",
     "output_type": "stream",
     "text": [
      "100%|██████████████████████████████████████████████████████████████████████████████████| 100000/100000 [15:35<00:00, 106.92it/s]\n"
     ]
    },
    {
     "name": "stdout",
     "output_type": "stream",
     "text": [
      "Falsas anomalias: 93189\n",
      "Acuracia: 0.06811\n",
      "gamma=0.5 nu=0.9 falsas_anomalias=93189 acuracia=0.06811\n"
     ]
    },
    {
     "name": "stderr",
     "output_type": "stream",
     "text": [
      "100%|██████████████████████████████████████████████████████████████████████████████████| 100000/100000 [03:25<00:00, 485.76it/s]\n"
     ]
    },
    {
     "name": "stdout",
     "output_type": "stream",
     "text": [
      "Falsas anomalias: 19817\n",
      "Acuracia: 0.80183\n",
      "gamma=0.4 nu=0.1 falsas_anomalias=19817 acuracia=0.80183\n"
     ]
    },
    {
     "name": "stderr",
     "output_type": "stream",
     "text": [
      "100%|██████████████████████████████████████████████████████████████████████████████████| 100000/100000 [04:30<00:00, 369.81it/s]\n"
     ]
    },
    {
     "name": "stdout",
     "output_type": "stream",
     "text": [
      "Falsas anomalias: 19634\n",
      "Acuracia: 0.80366\n",
      "gamma=0.4 nu=0.2 falsas_anomalias=19634 acuracia=0.80366\n"
     ]
    },
    {
     "name": "stderr",
     "output_type": "stream",
     "text": [
      "100%|██████████████████████████████████████████████████████████████████████████████████| 100000/100000 [05:50<00:00, 285.51it/s]\n"
     ]
    },
    {
     "name": "stdout",
     "output_type": "stream",
     "text": [
      "Falsas anomalias: 26255\n",
      "Acuracia: 0.7374499999999999\n",
      "gamma=0.4 nu=0.3 falsas_anomalias=26255 acuracia=0.7374499999999999\n"
     ]
    },
    {
     "name": "stderr",
     "output_type": "stream",
     "text": [
      "100%|██████████████████████████████████████████████████████████████████████████████████| 100000/100000 [07:17<00:00, 228.67it/s]\n"
     ]
    },
    {
     "name": "stdout",
     "output_type": "stream",
     "text": [
      "Falsas anomalias: 40213\n",
      "Acuracia: 0.59787\n",
      "gamma=0.4 nu=0.4 falsas_anomalias=40213 acuracia=0.59787\n"
     ]
    },
    {
     "name": "stderr",
     "output_type": "stream",
     "text": [
      "100%|██████████████████████████████████████████████████████████████████████████████████| 100000/100000 [09:15<00:00, 179.87it/s]\n"
     ]
    },
    {
     "name": "stdout",
     "output_type": "stream",
     "text": [
      "Falsas anomalias: 49313\n",
      "Acuracia: 0.5068699999999999\n",
      "gamma=0.4 nu=0.5 falsas_anomalias=49313 acuracia=0.5068699999999999\n"
     ]
    },
    {
     "name": "stderr",
     "output_type": "stream",
     "text": [
      "100%|██████████████████████████████████████████████████████████████████████████████████| 100000/100000 [11:04<00:00, 150.60it/s]\n"
     ]
    },
    {
     "name": "stdout",
     "output_type": "stream",
     "text": [
      "Falsas anomalias: 59840\n",
      "Acuracia: 0.40159999999999996\n",
      "gamma=0.4 nu=0.6 falsas_anomalias=59840 acuracia=0.40159999999999996\n"
     ]
    },
    {
     "name": "stderr",
     "output_type": "stream",
     "text": [
      "100%|██████████████████████████████████████████████████████████████████████████████████| 100000/100000 [12:53<00:00, 129.20it/s]\n"
     ]
    },
    {
     "name": "stdout",
     "output_type": "stream",
     "text": [
      "Falsas anomalias: 71550\n",
      "Acuracia: 0.2845\n",
      "gamma=0.4 nu=0.7 falsas_anomalias=71550 acuracia=0.2845\n"
     ]
    },
    {
     "name": "stderr",
     "output_type": "stream",
     "text": [
      "100%|██████████████████████████████████████████████████████████████████████████████████| 100000/100000 [14:08<00:00, 117.85it/s]\n"
     ]
    },
    {
     "name": "stdout",
     "output_type": "stream",
     "text": [
      "Falsas anomalias: 79651\n",
      "Acuracia: 0.20348999999999995\n",
      "gamma=0.4 nu=0.8 falsas_anomalias=79651 acuracia=0.20348999999999995\n"
     ]
    },
    {
     "name": "stderr",
     "output_type": "stream",
     "text": [
      "100%|██████████████████████████████████████████████████████████████████████████████████| 100000/100000 [15:37<00:00, 106.63it/s]\n"
     ]
    },
    {
     "name": "stdout",
     "output_type": "stream",
     "text": [
      "Falsas anomalias: 90449\n",
      "Acuracia: 0.09550999999999998\n",
      "gamma=0.4 nu=0.9 falsas_anomalias=90449 acuracia=0.09550999999999998\n"
     ]
    },
    {
     "name": "stderr",
     "output_type": "stream",
     "text": [
      "100%|██████████████████████████████████████████████████████████████████████████████████| 100000/100000 [03:21<00:00, 495.99it/s]\n"
     ]
    },
    {
     "name": "stdout",
     "output_type": "stream",
     "text": [
      "Falsas anomalias: 16592\n",
      "Acuracia: 0.8340799999999999\n",
      "gamma=0.3 nu=0.1 falsas_anomalias=16592 acuracia=0.8340799999999999\n"
     ]
    },
    {
     "name": "stderr",
     "output_type": "stream",
     "text": [
      "100%|██████████████████████████████████████████████████████████████████████████████████| 100000/100000 [04:25<00:00, 376.05it/s]\n"
     ]
    },
    {
     "name": "stdout",
     "output_type": "stream",
     "text": [
      "Falsas anomalias: 20737\n",
      "Acuracia: 0.79263\n",
      "gamma=0.3 nu=0.2 falsas_anomalias=20737 acuracia=0.79263\n"
     ]
    },
    {
     "name": "stderr",
     "output_type": "stream",
     "text": [
      "100%|██████████████████████████████████████████████████████████████████████████████████| 100000/100000 [05:57<00:00, 280.01it/s]\n"
     ]
    },
    {
     "name": "stdout",
     "output_type": "stream",
     "text": [
      "Falsas anomalias: 28620\n",
      "Acuracia: 0.7138\n",
      "gamma=0.3 nu=0.3 falsas_anomalias=28620 acuracia=0.7138\n"
     ]
    },
    {
     "name": "stderr",
     "output_type": "stream",
     "text": [
      "100%|██████████████████████████████████████████████████████████████████████████████████| 100000/100000 [07:23<00:00, 225.67it/s]\n"
     ]
    },
    {
     "name": "stdout",
     "output_type": "stream",
     "text": [
      "Falsas anomalias: 42414\n",
      "Acuracia: 0.57586\n",
      "gamma=0.3 nu=0.4 falsas_anomalias=42414 acuracia=0.57586\n"
     ]
    },
    {
     "name": "stderr",
     "output_type": "stream",
     "text": [
      "100%|██████████████████████████████████████████████████████████████████████████████████| 100000/100000 [09:21<00:00, 178.03it/s]\n"
     ]
    },
    {
     "name": "stdout",
     "output_type": "stream",
     "text": [
      "Falsas anomalias: 51680\n",
      "Acuracia: 0.48319999999999996\n",
      "gamma=0.3 nu=0.5 falsas_anomalias=51680 acuracia=0.48319999999999996\n"
     ]
    },
    {
     "name": "stderr",
     "output_type": "stream",
     "text": [
      "100%|██████████████████████████████████████████████████████████████████████████████████| 100000/100000 [11:00<00:00, 151.36it/s]\n"
     ]
    },
    {
     "name": "stdout",
     "output_type": "stream",
     "text": [
      "Falsas anomalias: 60707\n",
      "Acuracia: 0.39293\n",
      "gamma=0.3 nu=0.6 falsas_anomalias=60707 acuracia=0.39293\n"
     ]
    },
    {
     "name": "stderr",
     "output_type": "stream",
     "text": [
      "100%|██████████████████████████████████████████████████████████████████████████████████| 100000/100000 [13:05<00:00, 127.29it/s]\n"
     ]
    },
    {
     "name": "stdout",
     "output_type": "stream",
     "text": [
      "Falsas anomalias: 70544\n",
      "Acuracia: 0.29456000000000004\n",
      "gamma=0.3 nu=0.7 falsas_anomalias=70544 acuracia=0.29456000000000004\n"
     ]
    },
    {
     "name": "stderr",
     "output_type": "stream",
     "text": [
      "100%|██████████████████████████████████████████████████████████████████████████████████| 100000/100000 [14:15<00:00, 116.83it/s]\n"
     ]
    },
    {
     "name": "stdout",
     "output_type": "stream",
     "text": [
      "Falsas anomalias: 77792\n",
      "Acuracia: 0.22208000000000006\n",
      "gamma=0.3 nu=0.8 falsas_anomalias=77792 acuracia=0.22208000000000006\n"
     ]
    },
    {
     "name": "stderr",
     "output_type": "stream",
     "text": [
      "100%|██████████████████████████████████████████████████████████████████████████████████| 100000/100000 [15:43<00:00, 106.01it/s]\n"
     ]
    },
    {
     "name": "stdout",
     "output_type": "stream",
     "text": [
      "Falsas anomalias: 92167\n",
      "Acuracia: 0.07833000000000001\n",
      "gamma=0.3 nu=0.9 falsas_anomalias=92167 acuracia=0.07833000000000001\n"
     ]
    },
    {
     "name": "stderr",
     "output_type": "stream",
     "text": [
      "100%|██████████████████████████████████████████████████████████████████████████████████| 100000/100000 [03:19<00:00, 501.56it/s]\n"
     ]
    },
    {
     "name": "stdout",
     "output_type": "stream",
     "text": [
      "Falsas anomalias: 16264\n",
      "Acuracia: 0.83736\n",
      "gamma=0.2 nu=0.1 falsas_anomalias=16264 acuracia=0.83736\n"
     ]
    },
    {
     "name": "stderr",
     "output_type": "stream",
     "text": [
      "100%|██████████████████████████████████████████████████████████████████████████████████| 100000/100000 [04:15<00:00, 390.67it/s]\n"
     ]
    },
    {
     "name": "stdout",
     "output_type": "stream",
     "text": [
      "Falsas anomalias: 17962\n",
      "Acuracia: 0.82038\n",
      "gamma=0.2 nu=0.2 falsas_anomalias=17962 acuracia=0.82038\n"
     ]
    },
    {
     "name": "stderr",
     "output_type": "stream",
     "text": [
      "100%|██████████████████████████████████████████████████████████████████████████████████| 100000/100000 [06:00<00:00, 277.21it/s]\n"
     ]
    },
    {
     "name": "stdout",
     "output_type": "stream",
     "text": [
      "Falsas anomalias: 25761\n",
      "Acuracia: 0.74239\n",
      "gamma=0.2 nu=0.3 falsas_anomalias=25761 acuracia=0.74239\n"
     ]
    },
    {
     "name": "stderr",
     "output_type": "stream",
     "text": [
      "100%|██████████████████████████████████████████████████████████████████████████████████| 100000/100000 [07:35<00:00, 219.76it/s]\n"
     ]
    },
    {
     "name": "stdout",
     "output_type": "stream",
     "text": [
      "Falsas anomalias: 39030\n",
      "Acuracia: 0.6097\n",
      "gamma=0.2 nu=0.4 falsas_anomalias=39030 acuracia=0.6097\n"
     ]
    },
    {
     "name": "stderr",
     "output_type": "stream",
     "text": [
      "100%|██████████████████████████████████████████████████████████████████████████████████| 100000/100000 [09:26<00:00, 176.55it/s]\n"
     ]
    },
    {
     "name": "stdout",
     "output_type": "stream",
     "text": [
      "Falsas anomalias: 48183\n",
      "Acuracia: 0.51817\n",
      "gamma=0.2 nu=0.5 falsas_anomalias=48183 acuracia=0.51817\n"
     ]
    },
    {
     "name": "stderr",
     "output_type": "stream",
     "text": [
      "100%|██████████████████████████████████████████████████████████████████████████████████| 100000/100000 [10:54<00:00, 152.69it/s]\n"
     ]
    },
    {
     "name": "stdout",
     "output_type": "stream",
     "text": [
      "Falsas anomalias: 58616\n",
      "Acuracia: 0.41384\n",
      "gamma=0.2 nu=0.6 falsas_anomalias=58616 acuracia=0.41384\n"
     ]
    },
    {
     "name": "stderr",
     "output_type": "stream",
     "text": [
      "100%|██████████████████████████████████████████████████████████████████████████████████| 100000/100000 [12:43<00:00, 131.00it/s]\n"
     ]
    },
    {
     "name": "stdout",
     "output_type": "stream",
     "text": [
      "Falsas anomalias: 65840\n",
      "Acuracia: 0.3416\n",
      "gamma=0.2 nu=0.7 falsas_anomalias=65840 acuracia=0.3416\n"
     ]
    },
    {
     "name": "stderr",
     "output_type": "stream",
     "text": [
      "100%|██████████████████████████████████████████████████████████████████████████████████| 100000/100000 [14:22<00:00, 115.89it/s]\n"
     ]
    },
    {
     "name": "stdout",
     "output_type": "stream",
     "text": [
      "Falsas anomalias: 81199\n",
      "Acuracia: 0.18801\n",
      "gamma=0.2 nu=0.8 falsas_anomalias=81199 acuracia=0.18801\n"
     ]
    },
    {
     "name": "stderr",
     "output_type": "stream",
     "text": [
      "100%|██████████████████████████████████████████████████████████████████████████████████| 100000/100000 [15:57<00:00, 104.41it/s]\n"
     ]
    },
    {
     "name": "stdout",
     "output_type": "stream",
     "text": [
      "Falsas anomalias: 93017\n",
      "Acuracia: 0.06982999999999995\n",
      "gamma=0.2 nu=0.9 falsas_anomalias=93017 acuracia=0.06982999999999995\n"
     ]
    },
    {
     "name": "stderr",
     "output_type": "stream",
     "text": [
      "100%|██████████████████████████████████████████████████████████████████████████████████| 100000/100000 [03:26<00:00, 485.12it/s]\n"
     ]
    },
    {
     "name": "stdout",
     "output_type": "stream",
     "text": [
      "Falsas anomalias: 16952\n",
      "Acuracia: 0.83048\n",
      "gamma=0.1 nu=0.1 falsas_anomalias=16952 acuracia=0.83048\n"
     ]
    },
    {
     "name": "stderr",
     "output_type": "stream",
     "text": [
      "100%|██████████████████████████████████████████████████████████████████████████████████| 100000/100000 [04:19<00:00, 385.07it/s]\n"
     ]
    },
    {
     "name": "stdout",
     "output_type": "stream",
     "text": [
      "Falsas anomalias: 19367\n",
      "Acuracia: 0.80633\n",
      "gamma=0.1 nu=0.2 falsas_anomalias=19367 acuracia=0.80633\n"
     ]
    },
    {
     "name": "stderr",
     "output_type": "stream",
     "text": [
      "100%|██████████████████████████████████████████████████████████████████████████████████| 100000/100000 [05:57<00:00, 280.01it/s]\n"
     ]
    },
    {
     "name": "stdout",
     "output_type": "stream",
     "text": [
      "Falsas anomalias: 26742\n",
      "Acuracia: 0.73258\n",
      "gamma=0.1 nu=0.3 falsas_anomalias=26742 acuracia=0.73258\n"
     ]
    },
    {
     "name": "stderr",
     "output_type": "stream",
     "text": [
      "100%|██████████████████████████████████████████████████████████████████████████████████| 100000/100000 [07:55<00:00, 210.11it/s]\n"
     ]
    },
    {
     "name": "stdout",
     "output_type": "stream",
     "text": [
      "Falsas anomalias: 44917\n",
      "Acuracia: 0.5508299999999999\n",
      "gamma=0.1 nu=0.4 falsas_anomalias=44917 acuracia=0.5508299999999999\n"
     ]
    },
    {
     "name": "stderr",
     "output_type": "stream",
     "text": [
      "100%|██████████████████████████████████████████████████████████████████████████████████| 100000/100000 [09:30<00:00, 175.39it/s]\n"
     ]
    },
    {
     "name": "stdout",
     "output_type": "stream",
     "text": [
      "Falsas anomalias: 50986\n",
      "Acuracia: 0.49014\n",
      "gamma=0.1 nu=0.5 falsas_anomalias=50986 acuracia=0.49014\n"
     ]
    },
    {
     "name": "stderr",
     "output_type": "stream",
     "text": [
      "100%|██████████████████████████████████████████████████████████████████████████████████| 100000/100000 [10:56<00:00, 152.36it/s]\n"
     ]
    },
    {
     "name": "stdout",
     "output_type": "stream",
     "text": [
      "Falsas anomalias: 59339\n",
      "Acuracia: 0.40661\n",
      "gamma=0.1 nu=0.6 falsas_anomalias=59339 acuracia=0.40661\n"
     ]
    },
    {
     "name": "stderr",
     "output_type": "stream",
     "text": [
      "100%|██████████████████████████████████████████████████████████████████████████████████| 100000/100000 [12:47<00:00, 130.25it/s]\n"
     ]
    },
    {
     "name": "stdout",
     "output_type": "stream",
     "text": [
      "Falsas anomalias: 67120\n",
      "Acuracia: 0.3288\n",
      "gamma=0.1 nu=0.7 falsas_anomalias=67120 acuracia=0.3288\n"
     ]
    },
    {
     "name": "stderr",
     "output_type": "stream",
     "text": [
      "100%|██████████████████████████████████████████████████████████████████████████████████| 100000/100000 [14:27<00:00, 115.34it/s]\n"
     ]
    },
    {
     "name": "stdout",
     "output_type": "stream",
     "text": [
      "Falsas anomalias: 78086\n",
      "Acuracia: 0.21914\n",
      "gamma=0.1 nu=0.8 falsas_anomalias=78086 acuracia=0.21914\n"
     ]
    },
    {
     "name": "stderr",
     "output_type": "stream",
     "text": [
      "100%|██████████████████████████████████████████████████████████████████████████████████| 100000/100000 [15:59<00:00, 104.21it/s]\n"
     ]
    },
    {
     "name": "stdout",
     "output_type": "stream",
     "text": [
      "Falsas anomalias: 94573\n",
      "Acuracia: 0.05427000000000004\n",
      "gamma=0.1 nu=0.9 falsas_anomalias=94573 acuracia=0.05427000000000004\n"
     ]
    },
    {
     "name": "stderr",
     "output_type": "stream",
     "text": [
      "100%|██████████████████████████████████████████████████████████████████████████████████| 100000/100000 [02:03<00:00, 809.19it/s]\n"
     ]
    },
    {
     "name": "stdout",
     "output_type": "stream",
     "text": [
      "Falsas anomalias: 15911\n",
      "Acuracia: 0.84089\n",
      "gamma=0.01 nu=0.1 falsas_anomalias=15911 acuracia=0.84089\n"
     ]
    },
    {
     "name": "stderr",
     "output_type": "stream",
     "text": [
      "100%|██████████████████████████████████████████████████████████████████████████████████| 100000/100000 [03:47<00:00, 439.38it/s]\n"
     ]
    },
    {
     "name": "stdout",
     "output_type": "stream",
     "text": [
      "Falsas anomalias: 21074\n",
      "Acuracia: 0.78926\n",
      "gamma=0.01 nu=0.2 falsas_anomalias=21074 acuracia=0.78926\n"
     ]
    },
    {
     "name": "stderr",
     "output_type": "stream",
     "text": [
      "100%|██████████████████████████████████████████████████████████████████████████████████| 100000/100000 [05:31<00:00, 301.96it/s]\n"
     ]
    },
    {
     "name": "stdout",
     "output_type": "stream",
     "text": [
      "Falsas anomalias: 23702\n",
      "Acuracia: 0.76298\n",
      "gamma=0.01 nu=0.3 falsas_anomalias=23702 acuracia=0.76298\n"
     ]
    },
    {
     "name": "stderr",
     "output_type": "stream",
     "text": [
      "100%|██████████████████████████████████████████████████████████████████████████████████| 100000/100000 [07:15<00:00, 229.77it/s]\n"
     ]
    },
    {
     "name": "stdout",
     "output_type": "stream",
     "text": [
      "Falsas anomalias: 39980\n",
      "Acuracia: 0.6002000000000001\n",
      "gamma=0.01 nu=0.4 falsas_anomalias=39980 acuracia=0.6002000000000001\n"
     ]
    },
    {
     "name": "stderr",
     "output_type": "stream",
     "text": [
      "100%|██████████████████████████████████████████████████████████████████████████████████| 100000/100000 [09:05<00:00, 183.22it/s]\n"
     ]
    },
    {
     "name": "stdout",
     "output_type": "stream",
     "text": [
      "Falsas anomalias: 50101\n",
      "Acuracia: 0.49899000000000004\n",
      "gamma=0.01 nu=0.5 falsas_anomalias=50101 acuracia=0.49899000000000004\n"
     ]
    },
    {
     "name": "stderr",
     "output_type": "stream",
     "text": [
      "100%|██████████████████████████████████████████████████████████████████████████████████| 100000/100000 [10:53<00:00, 153.12it/s]\n"
     ]
    },
    {
     "name": "stdout",
     "output_type": "stream",
     "text": [
      "Falsas anomalias: 64301\n",
      "Acuracia: 0.35699000000000003\n",
      "gamma=0.01 nu=0.6 falsas_anomalias=64301 acuracia=0.35699000000000003\n"
     ]
    },
    {
     "name": "stderr",
     "output_type": "stream",
     "text": [
      "100%|██████████████████████████████████████████████████████████████████████████████████| 100000/100000 [12:41<00:00, 131.30it/s]\n"
     ]
    },
    {
     "name": "stdout",
     "output_type": "stream",
     "text": [
      "Falsas anomalias: 64204\n",
      "Acuracia: 0.35795999999999994\n",
      "gamma=0.01 nu=0.7 falsas_anomalias=64204 acuracia=0.35795999999999994\n"
     ]
    },
    {
     "name": "stderr",
     "output_type": "stream",
     "text": [
      "100%|██████████████████████████████████████████████████████████████████████████████████| 100000/100000 [14:25<00:00, 115.50it/s]\n"
     ]
    },
    {
     "name": "stdout",
     "output_type": "stream",
     "text": [
      "Falsas anomalias: 82628\n",
      "Acuracia: 0.17371999999999999\n",
      "gamma=0.01 nu=0.8 falsas_anomalias=82628 acuracia=0.17371999999999999\n"
     ]
    },
    {
     "name": "stderr",
     "output_type": "stream",
     "text": [
      "100%|██████████████████████████████████████████████████████████████████████████████████| 100000/100000 [16:01<00:00, 103.97it/s]\n"
     ]
    },
    {
     "name": "stdout",
     "output_type": "stream",
     "text": [
      "Falsas anomalias: 91393\n",
      "Acuracia: 0.08606999999999998\n",
      "gamma=0.01 nu=0.9 falsas_anomalias=91393 acuracia=0.08606999999999998\n"
     ]
    },
    {
     "name": "stderr",
     "output_type": "stream",
     "text": [
      "100%|██████████████████████████████████████████████████████████████████████████████████| 100000/100000 [01:58<00:00, 845.70it/s]\n"
     ]
    },
    {
     "name": "stdout",
     "output_type": "stream",
     "text": [
      "Falsas anomalias: 16954\n",
      "Acuracia: 0.83046\n",
      "gamma=0.001 nu=0.1 falsas_anomalias=16954 acuracia=0.83046\n"
     ]
    },
    {
     "name": "stderr",
     "output_type": "stream",
     "text": [
      "100%|██████████████████████████████████████████████████████████████████████████████████| 100000/100000 [03:38<00:00, 456.86it/s]\n"
     ]
    },
    {
     "name": "stdout",
     "output_type": "stream",
     "text": [
      "Falsas anomalias: 19618\n",
      "Acuracia: 0.80382\n",
      "gamma=0.001 nu=0.2 falsas_anomalias=19618 acuracia=0.80382\n"
     ]
    },
    {
     "name": "stderr",
     "output_type": "stream",
     "text": [
      "100%|██████████████████████████████████████████████████████████████████████████████████| 100000/100000 [05:29<00:00, 303.71it/s]\n"
     ]
    },
    {
     "name": "stdout",
     "output_type": "stream",
     "text": [
      "Falsas anomalias: 22434\n",
      "Acuracia: 0.77566\n",
      "gamma=0.001 nu=0.3 falsas_anomalias=22434 acuracia=0.77566\n"
     ]
    },
    {
     "name": "stderr",
     "output_type": "stream",
     "text": [
      "100%|██████████████████████████████████████████████████████████████████████████████████| 100000/100000 [07:14<00:00, 230.36it/s]\n"
     ]
    },
    {
     "name": "stdout",
     "output_type": "stream",
     "text": [
      "Falsas anomalias: 42938\n",
      "Acuracia: 0.57062\n",
      "gamma=0.001 nu=0.4 falsas_anomalias=42938 acuracia=0.57062\n"
     ]
    },
    {
     "name": "stderr",
     "output_type": "stream",
     "text": [
      "100%|██████████████████████████████████████████████████████████████████████████████████| 100000/100000 [09:01<00:00, 184.72it/s]\n"
     ]
    },
    {
     "name": "stdout",
     "output_type": "stream",
     "text": [
      "Falsas anomalias: 47741\n",
      "Acuracia: 0.52259\n",
      "gamma=0.001 nu=0.5 falsas_anomalias=47741 acuracia=0.52259\n"
     ]
    },
    {
     "name": "stderr",
     "output_type": "stream",
     "text": [
      "100%|██████████████████████████████████████████████████████████████████████████████████| 100000/100000 [10:53<00:00, 153.14it/s]\n"
     ]
    },
    {
     "name": "stdout",
     "output_type": "stream",
     "text": [
      "Falsas anomalias: 59009\n",
      "Acuracia: 0.40991\n",
      "gamma=0.001 nu=0.6 falsas_anomalias=59009 acuracia=0.40991\n"
     ]
    },
    {
     "name": "stderr",
     "output_type": "stream",
     "text": [
      "100%|██████████████████████████████████████████████████████████████████████████████████| 100000/100000 [12:41<00:00, 131.33it/s]\n"
     ]
    },
    {
     "name": "stdout",
     "output_type": "stream",
     "text": [
      "Falsas anomalias: 61216\n",
      "Acuracia: 0.38783999999999996\n",
      "gamma=0.001 nu=0.7 falsas_anomalias=61216 acuracia=0.38783999999999996\n"
     ]
    },
    {
     "name": "stderr",
     "output_type": "stream",
     "text": [
      "100%|██████████████████████████████████████████████████████████████████████████████████| 100000/100000 [14:28<00:00, 115.21it/s]\n"
     ]
    },
    {
     "name": "stdout",
     "output_type": "stream",
     "text": [
      "Falsas anomalias: 79176\n",
      "Acuracia: 0.20823999999999998\n",
      "gamma=0.001 nu=0.8 falsas_anomalias=79176 acuracia=0.20823999999999998\n"
     ]
    },
    {
     "name": "stderr",
     "output_type": "stream",
     "text": [
      "100%|██████████████████████████████████████████████████████████████████████████████████| 100000/100000 [16:00<00:00, 104.08it/s]"
     ]
    },
    {
     "name": "stdout",
     "output_type": "stream",
     "text": [
      "Falsas anomalias: 94765\n",
      "Acuracia: 0.05235000000000001\n",
      "gamma=0.001 nu=0.9 falsas_anomalias=94765 acuracia=0.05235000000000001\n",
      "CPU times: user 1d 8h 50min 34s, sys: 4min 59s, total: 1d 8h 55min 33s\n",
      "Wall time: 1d 8h 52min 42s\n"
     ]
    },
    {
     "name": "stderr",
     "output_type": "stream",
     "text": [
      "\n"
     ]
    }
   ],
   "source": [
    "%%time\n",
    "from tqdm import tqdm\n",
    "import os\n",
    "import glob\n",
    "from sklearn import svm\n",
    "\n",
    "corpus = glob.glob(os.path.join(root_dir, tipo_log, '*'))\n",
    "print(f'Quantidade de arquivos: {len(corpus)}')\n",
    "\n",
    "gammas    = [.9, .8, .7, .6, .5, .4, .3, .2, .1, .01, .001]\n",
    "nus       = [.1, .2, .3, .4, .5, .6, .7, .8, .9]\n",
    "resultado = []\n",
    "\n",
    "for gamma in gammas:\n",
    "    for nu in nus:\n",
    "        oneclass = svm.OneClassSVM(kernel='rbf', gamma=gamma, nu=nu)\n",
    "        oneclass.fit(X)\n",
    "        #\n",
    "        predicoes = []\n",
    "        for arq in tqdm(corpus):\n",
    "            X_validar = vectorizer.transform([arq])\n",
    "            predicao = oneclass.predict(X_validar)\n",
    "            predicoes.append(predicao[0])\n",
    "            \n",
    "        falsas_anomalias = predicoes.count(-1)\n",
    "        acuracia         = 1-(predicoes.count(-1)/len(predicoes))\n",
    "        print(f'Falsas anomalias: {falsas_anomalias}')\n",
    "        print(f'Acuracia: {acuracia}')\n",
    "        #\n",
    "        resultado.append([gamma, nu, falsas_anomalias, acuracia])\n",
    "        print(f'gamma={gamma} nu={nu} falsas_anomalias={falsas_anomalias} acuracia={acuracia}')"
   ]
  },
  {
   "cell_type": "code",
   "execution_count": 5,
   "id": "2f8fc35e-8671-4bfb-a7cd-e0cc758dd9d6",
   "metadata": {},
   "outputs": [
    {
     "name": "stdout",
     "output_type": "stream",
     "text": [
      "0.9;0.1;20334;0.79666;\n",
      "0.9;0.2;21661;0.78339;\n",
      "0.9;0.3;28173;0.71827;\n",
      "0.9;0.4;43558;0.5644199999999999;\n",
      "0.9;0.5;51203;0.48797;\n",
      "0.9;0.6;58680;0.4132;\n",
      "0.9;0.7;65335;0.34665;\n",
      "0.9;0.8;76828;0.23172000000000004;\n",
      "0.9;0.9;89141;0.10858999999999996;\n",
      "0.8;0.1;19968;0.80032;\n",
      "0.8;0.2;22383;0.77617;\n",
      "0.8;0.3;26962;0.73038;\n",
      "0.8;0.4;43128;0.56872;\n",
      "0.8;0.5;51415;0.48585;\n",
      "0.8;0.6;58760;0.4124;\n",
      "0.8;0.7;66492;0.33508000000000004;\n",
      "0.8;0.8;77798;0.22202;\n",
      "0.8;0.9;90433;0.09567000000000003;\n",
      "0.7;0.1;20022;0.7997799999999999;\n",
      "0.7;0.2;21395;0.78605;\n",
      "0.7;0.3;27584;0.72416;\n",
      "0.7;0.4;42458;0.57542;\n",
      "0.7;0.5;54639;0.45360999999999996;\n",
      "0.7;0.6;60839;0.39161;\n",
      "0.7;0.7;69858;0.30142;\n",
      "0.7;0.8;78343;0.21657000000000004;\n",
      "0.7;0.9;90601;0.09399000000000002;\n",
      "0.6;0.1;19988;0.8001199999999999;\n",
      "0.6;0.2;21377;0.78623;\n",
      "0.6;0.3;28146;0.71854;\n",
      "0.6;0.4;40436;0.59564;\n",
      "0.6;0.5;55608;0.44392;\n",
      "0.6;0.6;63804;0.36195999999999995;\n",
      "0.6;0.7;70990;0.2901;\n",
      "0.6;0.8;79863;0.20137000000000005;\n",
      "0.6;0.9;89913;0.10087000000000002;\n",
      "0.5;0.1;20342;0.7965800000000001;\n",
      "0.5;0.2;20648;0.79352;\n",
      "0.5;0.3;30068;0.6993199999999999;\n",
      "0.5;0.4;40004;0.59996;\n",
      "0.5;0.5;53582;0.46418000000000004;\n",
      "0.5;0.6;63656;0.36344;\n",
      "0.5;0.7;71784;0.28215999999999997;\n",
      "0.5;0.8;78319;0.21680999999999995;\n",
      "0.5;0.9;93189;0.06811;\n",
      "0.4;0.1;19817;0.80183;\n",
      "0.4;0.2;19634;0.80366;\n",
      "0.4;0.3;26255;0.7374499999999999;\n",
      "0.4;0.4;40213;0.59787;\n",
      "0.4;0.5;49313;0.5068699999999999;\n",
      "0.4;0.6;59840;0.40159999999999996;\n",
      "0.4;0.7;71550;0.2845;\n",
      "0.4;0.8;79651;0.20348999999999995;\n",
      "0.4;0.9;90449;0.09550999999999998;\n",
      "0.3;0.1;16592;0.8340799999999999;\n",
      "0.3;0.2;20737;0.79263;\n",
      "0.3;0.3;28620;0.7138;\n",
      "0.3;0.4;42414;0.57586;\n",
      "0.3;0.5;51680;0.48319999999999996;\n",
      "0.3;0.6;60707;0.39293;\n",
      "0.3;0.7;70544;0.29456000000000004;\n",
      "0.3;0.8;77792;0.22208000000000006;\n",
      "0.3;0.9;92167;0.07833000000000001;\n",
      "0.2;0.1;16264;0.83736;\n",
      "0.2;0.2;17962;0.82038;\n",
      "0.2;0.3;25761;0.74239;\n",
      "0.2;0.4;39030;0.6097;\n",
      "0.2;0.5;48183;0.51817;\n",
      "0.2;0.6;58616;0.41384;\n",
      "0.2;0.7;65840;0.3416;\n",
      "0.2;0.8;81199;0.18801;\n",
      "0.2;0.9;93017;0.06982999999999995;\n",
      "0.1;0.1;16952;0.83048;\n",
      "0.1;0.2;19367;0.80633;\n",
      "0.1;0.3;26742;0.73258;\n",
      "0.1;0.4;44917;0.5508299999999999;\n",
      "0.1;0.5;50986;0.49014;\n",
      "0.1;0.6;59339;0.40661;\n",
      "0.1;0.7;67120;0.3288;\n",
      "0.1;0.8;78086;0.21914;\n",
      "0.1;0.9;94573;0.05427000000000004;\n",
      "0.01;0.1;15911;0.84089;\n",
      "0.01;0.2;21074;0.78926;\n",
      "0.01;0.3;23702;0.76298;\n",
      "0.01;0.4;39980;0.6002000000000001;\n",
      "0.01;0.5;50101;0.49899000000000004;\n",
      "0.01;0.6;64301;0.35699000000000003;\n",
      "0.01;0.7;64204;0.35795999999999994;\n",
      "0.01;0.8;82628;0.17371999999999999;\n",
      "0.01;0.9;91393;0.08606999999999998;\n",
      "0.001;0.1;16954;0.83046;\n",
      "0.001;0.2;19618;0.80382;\n",
      "0.001;0.3;22434;0.77566;\n",
      "0.001;0.4;42938;0.57062;\n",
      "0.001;0.5;47741;0.52259;\n",
      "0.001;0.6;59009;0.40991;\n",
      "0.001;0.7;61216;0.38783999999999996;\n",
      "0.001;0.8;79176;0.20823999999999998;\n",
      "0.001;0.9;94765;0.05235000000000001;\n"
     ]
    }
   ],
   "source": [
    "for r in resultado:\n",
    "    print(f'{r[0]};{r[1]};{r[2]};{r[3]};')"
   ]
  },
  {
   "cell_type": "code",
   "execution_count": null,
   "id": "189fa9e2-0294-4d65-b3d0-b07c2537e9b1",
   "metadata": {},
   "outputs": [],
   "source": [
    "## AVALIANDO O MODELO\n",
    "from tqdm import tqdm\n",
    "import os\n",
    "import glob\n",
    "\n",
    "corpus = glob.glob(os.path.join(root_dir, tipo_log, '*'))\n",
    "print(f'Quantidade de arquivos: {len(corpus)}')\n",
    "\n",
    "predicoes = []\n",
    "\n",
    "for arq in tqdm(corpus):\n",
    "    X_validar = vectorizer.transform([arq])\n",
    "    predicao = oneclass.predict(X_validar)\n",
    "    predicoes.append(predicao[0])\n"
   ]
  },
  {
   "cell_type": "code",
   "execution_count": null,
   "id": "bf8f0584-37c2-4b1c-a676-d0b0c1a8276e",
   "metadata": {},
   "outputs": [],
   "source": [
    "## Contagem de falsas anomalias\n",
    "# kernel='rbf', gamma=0.001, nu=0.4\n",
    "print(f'Falsas anomalias: {predicoes.count(-1)}')\n",
    "print(f'Acuracia: {1-(predicoes.count(-1)/len(predicoes))}')"
   ]
  },
  {
   "cell_type": "code",
   "execution_count": null,
   "id": "de778c92-9b41-415a-9d64-aa17e12c5c3f",
   "metadata": {},
   "outputs": [],
   "source": [
    "import os\n",
    "\n",
    "log_path = os.path.join('/home/ricardo/pucrs/TCC/anomalias', 'anomalia.log')\n",
    "\n",
    "with open(log_path,'w') as file:\n",
    "    #file.write('this is a simple test for identification of the anomaly log entry.\\n')\n",
    "    file.write('ALL PhysicalConnectionManager connections: active: 6, listening: 14, loopback: 2')\n",
    "\n",
    "texto = [log_path]\n",
    "\n",
    "!cat {log_path}\n",
    "\n",
    "X_validar = vectorizer.transform(texto)\n",
    "X_inverse = vectorizer.inverse_transform(X_validar)\n",
    "\n",
    "predict = oneclass.predict(X_validar)\n",
    "print(f'\\n{predict}')\n",
    "print(X_inverse)\n",
    "print(texto)\n"
   ]
  }
 ],
 "metadata": {
  "kernelspec": {
   "display_name": "Python 3 (ipykernel)",
   "language": "python",
   "name": "python3"
  },
  "language_info": {
   "codemirror_mode": {
    "name": "ipython",
    "version": 3
   },
   "file_extension": ".py",
   "mimetype": "text/x-python",
   "name": "python",
   "nbconvert_exporter": "python",
   "pygments_lexer": "ipython3",
   "version": "3.10.12"
  }
 },
 "nbformat": 4,
 "nbformat_minor": 5
}
